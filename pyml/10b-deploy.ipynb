{
 "cells": [
  {
   "cell_type": "markdown",
   "id": "3c9450f4",
   "metadata": {},
   "source": [
    "# Питон и машинное обучение\n",
    "\n",
    "# Модуль 10. Часть 2. Сохранение и развертывание моделей\n"
   ]
  },
  {
   "cell_type": "markdown",
   "id": "f7d000b9",
   "metadata": {},
   "source": [
    "В рамках данного занятия мы посмотрим, как сохранить модель и создать приложение, в котором бы она работала.\n",
    "\n",
    "Мы обучим модель на датасете \"Пингвины\" и сделаем прототип приложения, которое определяло бы вид пингвина в зависимости от запрашиваемых параметров."
   ]
  },
  {
   "cell_type": "code",
   "execution_count": null,
   "id": "89aa2d34",
   "metadata": {},
   "outputs": [],
   "source": [
    "import numpy as np\n",
    "import pandas as pd\n",
    "import matplotlib.pyplot as plt\n",
    "import seaborn as sns\n",
    "\n",
    "%load_ext autoreload\n",
    "%autoreload 2\n",
    "\n",
    "%matplotlib inline"
   ]
  },
  {
   "cell_type": "markdown",
   "id": "4475a182",
   "metadata": {},
   "source": [
    "## Шаг 1. Фиксация препроцессинга данных\n",
    "\n",
    "1. Загрузим датасет \"Пингвины\" и выполним препроцессинг, фиксируя все шаги и параметры:"
   ]
  },
  {
   "cell_type": "code",
   "execution_count": null,
   "id": "78fd0b5d",
   "metadata": {},
   "outputs": [],
   "source": [
    "penguins = sns.load_dataset(\"penguins\")\n",
    "penguins"
   ]
  },
  {
   "cell_type": "code",
   "execution_count": null,
   "id": "b36cc4e6",
   "metadata": {},
   "outputs": [],
   "source": [
    "# удалим все NaN\n",
    "penguins.drop( penguins.loc[penguins.bill_depth_mm.isnull()].index, axis=0, inplace=True)\n",
    "\n",
    "# поставим случайный пол где он отсутствует\n",
    "penguins['sex'] = penguins.sex.apply(lambda x: np.random.choice(['Male','Female']) if x is np.nan else x )\n",
    "\n",
    "# убедимся, что пропусков нет\n",
    "penguins.isnull().sum()"
   ]
  },
  {
   "cell_type": "code",
   "execution_count": null,
   "id": "a05e70ee",
   "metadata": {},
   "outputs": [],
   "source": [
    "from sklearn.preprocessing import OrdinalEncoder, LabelEncoder\n",
    "\n",
    "le, oe = LabelEncoder(), OrdinalEncoder()\n",
    "\n",
    "le.fit( penguins['species'] )\n",
    "print(le.classes_)\n",
    "\n",
    "oe.fit(penguins[ ['island', 'sex'] ])\n",
    "print(oe.categories_)"
   ]
  },
  {
   "cell_type": "code",
   "execution_count": null,
   "id": "7cbb6654",
   "metadata": {},
   "outputs": [],
   "source": [
    "# сохраним названия категорий в словаре:\n",
    "dict_categories = {\n",
    "    'species': list(le.classes_),\n",
    "    'island': list(oe.categories_[0]), \n",
    "    'sex': list(oe.categories_[1]),\n",
    "}\n",
    "dict_categories"
   ]
  },
  {
   "cell_type": "markdown",
   "id": "b9593733",
   "metadata": {},
   "source": [
    "Напишем функцию, которая будет выполнять весь препроцессинг и проверим ее работу:"
   ]
  },
  {
   "cell_type": "code",
   "execution_count": null,
   "id": "35987ccd",
   "metadata": {},
   "outputs": [],
   "source": [
    "penguins_categories = {'species': ['Adelie', 'Chinstrap', 'Gentoo'],\n",
    "         'island': ['Biscoe', 'Dream', 'Torgersen'],\n",
    "         'sex': ['Female', 'Male']\n",
    "    }\n",
    "\n",
    "def penguins_preprocessing(X: list) -> pd.DataFrame:\n",
    "    \"\"\"\n",
    "    This function should accept list of distionaries of data we'd like to prepare for our model.\n",
    "    Each dictionary key is feature name, value is text/number.\n",
    "    Function returns the DataFrame with processed data.\n",
    "    \"\"\"\n",
    "\n",
    "    df = pd.DataFrame(X)\n",
    "    for feature, categories in penguins_categories.items():\n",
    "        if feature in df.columns:\n",
    "            df[feature] = df[feature].apply(lambda x: categories.index(x))\n",
    "            df[feature] = df[feature].astype(np.int64)\n",
    "\n",
    "    return df\n",
    "\n",
    "# dry-run on 3 random choices\n",
    "np.random.seed(20240401)\n",
    "choice = np.random.choice(penguins.shape[0], 3, replace=False)\n",
    "print(\"Choice: \", choice)\n",
    "df = penguins.iloc[np.random.choice(penguins.shape[0], 3, )]\n",
    "list_of_dicts = df.to_dict('records')\n",
    "penguins_preprocessing(list_of_dicts)"
   ]
  },
  {
   "cell_type": "markdown",
   "id": "bc07a4fd",
   "metadata": {},
   "source": [
    "Посмотрим на данные, которые должна принимать наша функция. По сути, в таком же виде должны формироваться запросы к ней."
   ]
  },
  {
   "cell_type": "code",
   "execution_count": null,
   "id": "fcd9ebca",
   "metadata": {},
   "outputs": [],
   "source": [
    "list_of_dicts"
   ]
  },
  {
   "cell_type": "markdown",
   "id": "b717727c",
   "metadata": {},
   "source": [
    "## Шаг 2. Обучение модели и ее сохранение\n",
    "\n",
    "Обучим модель \"Деревья решений\" и сохраним ее. \n",
    "\n",
    "Если в процессе обучения потребуется вносить изменения в препроцессинг - фиксируем все в функции ```penguins_preprocessing()``` и потом возвращаемся к этому шагу."
   ]
  },
  {
   "cell_type": "code",
   "execution_count": null,
   "id": "51c388a9",
   "metadata": {},
   "outputs": [],
   "source": [
    "peng_proc = penguins_preprocessing( penguins.to_dict('records') )\n",
    "peng_proc"
   ]
  },
  {
   "cell_type": "code",
   "execution_count": null,
   "id": "b4fcb5a4",
   "metadata": {},
   "outputs": [],
   "source": [
    "from sklearn.model_selection import train_test_split\n",
    "\n",
    "X, y = peng_proc.loc[:, peng_proc.columns!='species'], \\\n",
    "        peng_proc.loc[:, peng_proc.columns=='species'].values.ravel()\n",
    "\n",
    "X_train, X_test, y_train, y_test = train_test_split(X, y, \n",
    "                                                   test_size=0.2, \n",
    "                                                   random_state=20231110,\n",
    "                                                   stratify = y)\n",
    "print(X_train.shape)\n",
    "print(X_test.shape)\n",
    "print(y_test)"
   ]
  },
  {
   "cell_type": "code",
   "execution_count": null,
   "id": "543ed81e",
   "metadata": {},
   "outputs": [],
   "source": [
    "from sklearn.tree import DecisionTreeClassifier\n",
    "\n",
    "from sklearn.metrics import accuracy_score\n",
    "from sklearn.metrics import f1_score\n",
    "from sklearn.metrics import roc_auc_score\n",
    "\n",
    "tree = DecisionTreeClassifier(min_samples_leaf=10)\n",
    "\n",
    "tree.fit(X_train, y_train)\n",
    "\n",
    "y_pred = tree.predict(X_test)\n",
    "y_pred_proba = tree.predict_proba(X_test)\n",
    "\n",
    "print(y_test)\n",
    "print(y_pred)\n",
    "\n",
    "print(f\"Accuracy score: {accuracy_score(y_test, y_pred)}\")\n",
    "print(f\"F1 score: {f1_score(y_test, y_pred, average='micro')}\")\n",
    "print(f\"ROC-AUC score: {roc_auc_score(y_test, y_pred_proba, multi_class='ovr')}\")"
   ]
  },
  {
   "cell_type": "markdown",
   "id": "fcad0b21",
   "metadata": {},
   "source": [
    "Для сохранения модели используем библиотеку ```pickle```, она входит в состав python."
   ]
  },
  {
   "cell_type": "code",
   "execution_count": null,
   "id": "bcb60090",
   "metadata": {},
   "outputs": [],
   "source": [
    "import pickle\n",
    "\n",
    "pkl_filename = \"penguins_tree.pkl\"\n",
    "with open(pkl_filename, 'wb') as f:\n",
    "    pickle.dump(tree, f)"
   ]
  },
  {
   "cell_type": "markdown",
   "id": "4ec0b4da",
   "metadata": {},
   "source": [
    "Загружаем модель и проверяем ее на тестовой выборке:"
   ]
  },
  {
   "cell_type": "code",
   "execution_count": null,
   "id": "324caecd",
   "metadata": {},
   "outputs": [],
   "source": [
    "with open(pkl_filename, 'rb') as f:\n",
    "    pickled_tree = pickle.load(f)\n",
    "    \n",
    "y_pred = pickled_tree.predict(X_test)\n",
    "y_pred_proba = pickled_tree.predict_proba(X_test)\n",
    "\n",
    "print(y_test)\n",
    "print(y_pred)\n",
    "\n",
    "print(f\"Accuracy score: {accuracy_score(y_test, y_pred)}\")\n",
    "print(f\"F1 score: {f1_score(y_test, y_pred, average='micro')}\")\n",
    "print(f\"ROC-AUC score: {roc_auc_score(y_test, y_pred_proba, multi_class='ovr')}\")"
   ]
  },
  {
   "cell_type": "markdown",
   "id": "0d116d0b",
   "metadata": {},
   "source": [
    "Добавим расшифровку предсказанного класса"
   ]
  },
  {
   "cell_type": "code",
   "execution_count": null,
   "id": "4a837aa3",
   "metadata": {},
   "outputs": [],
   "source": [
    "list(map(lambda x: penguins_categories['species'][x], y_pred[:10]))\n"
   ]
  },
  {
   "cell_type": "markdown",
   "id": "5a97f270",
   "metadata": {},
   "source": [
    "## Шаг 3. Сборка приложения\n",
    "\n",
    "Итак, наше приложение должно:\n",
    "1. принимать данные\n",
    "2. выполнять их препроцессинг\n",
    "3. запускать модель\n",
    "4. возвращать результат в человекочитаемом виде\n",
    "\n",
    "Сначала опробуем всю сборку в тетради, а затем перенесем все это в отдельный файл.\n",
    "\n",
    "Составим клетку, в которой:\n",
    "- выполняется импорт всех модулей\n",
    "- делается препроцессинг данных\n",
    "- делается запуск модели и мы видим результат ее работы\n",
    "\n",
    "Сразу поместим весь функционал модели в функцию.\n",
    "\n",
    "Клетка должна запускаться без проблем после перезапуска ядра и без запуска всех вышележащих клеток."
   ]
  },
  {
   "cell_type": "code",
   "execution_count": null,
   "id": "c392451e",
   "metadata": {},
   "outputs": [],
   "source": [
    "import numpy as np\n",
    "import pandas as pd\n",
    "\n",
    "import pickle\n",
    "\n",
    "penguins_categories = {'species': ['Adelie', 'Chinstrap', 'Gentoo'],\n",
    "         'island': ['Biscoe', 'Dream', 'Torgersen'],\n",
    "         'sex': ['Female', 'Male']\n",
    "    }\n",
    "\n",
    "penguins_model = \"penguins_tree.pkl\"\n",
    "\n",
    "def penguins_preprocessing(X: list) -> pd.DataFrame:\n",
    "    \"\"\"\n",
    "    This function should accept list of distionaries of data we'd like to prepare for our model.\n",
    "    Each dictionary key is feature name, value is text/number.\n",
    "    Function returns the DataFrame with processed data.\n",
    "    \"\"\"\n",
    "\n",
    "    df = pd.DataFrame(X)\n",
    "    for feature, categories in penguins_categories.items():\n",
    "        if feature in df.columns:\n",
    "            df[feature] = df[feature].apply(lambda x: categories.index(x))\n",
    "            df[feature] = df[feature].astype(np.int64)\n",
    "\n",
    "    return df\n",
    "\n",
    "def penguin_classifier(data: list) -> list:\n",
    "    \"\"\"\n",
    "    Classifier function should accept list of crieterias and return model predictions\n",
    "    \"\"\"\n",
    "    X = penguins_preprocessing(data)\n",
    "\n",
    "    with open(penguins_model, 'rb') as f:\n",
    "        pickled_tree = pickle.load(f)\n",
    "\n",
    "    y_pred = pickled_tree.predict(X)\n",
    "    \n",
    "    return list(map(lambda x: penguins_categories['species'][x], y_pred))\n",
    "    \n",
    "    \n",
    "    \n",
    "# код ниже переносить в penguins.py не надо!    \n",
    "\n",
    "test_penguins = [\n",
    " {\n",
    "  'island': 'Dream', #'species': 'Chinstrap',\n",
    "  'bill_length_mm': 52.0,\n",
    "  'bill_depth_mm': 20.7,\n",
    "  'flipper_length_mm': 210.0,\n",
    "  'body_mass_g': 4800.0,\n",
    "  'sex': 'Male'},\n",
    " {\n",
    "  'island': 'Biscoe', # 'species': 'Gentoo',\n",
    "  'bill_length_mm': 45.1,\n",
    "  'bill_depth_mm': 14.5,\n",
    "  'flipper_length_mm': 215.0,\n",
    "  'body_mass_g': 5000.0,\n",
    "  'sex': 'Female'}\n",
    "]\n",
    "\n",
    "\n",
    "penguin_classifier(test_penguins)\n",
    "\n"
   ]
  },
  {
   "cell_type": "markdown",
   "id": "d476e510",
   "metadata": {},
   "source": [
    "После того, как вышенаписанная клетка отлажена и вы видите предсказания, код из нее можно переносить в файл приложения ```penguins.py```. Точнее говоря, переносу подлежит все, кроме тестовых данных и вызова функции классификатора."
   ]
  },
  {
   "cell_type": "markdown",
   "id": "1470d00c",
   "metadata": {},
   "source": [
    "## Шаг 4. Запуск приложения\n",
    "\n",
    "Для запуска приложение потребуется установить фреймворк ```Flask```. Это простой инструмент для создания веб-приложений на яыке Python."
   ]
  },
  {
   "cell_type": "code",
   "execution_count": null,
   "id": "f6e8fb16",
   "metadata": {},
   "outputs": [],
   "source": [
    "!pip install flask"
   ]
  },
  {
   "attachments": {
    "image.png": {
     "image/png": "[encoded data removed]"
    }
   },
   "cell_type": "markdown",
   "id": "64e39efc",
   "metadata": {},
   "source": [
    "Разрабатывать приложения на Flask - очень просто. Листинг простейшего приложения типа \"Hello World\" приведен ниже, он же находится в файле ```app_hello.py```:\n",
    "```python\n",
    "from flask import Flask\n",
    "\n",
    "app = Flask(__name__)\n",
    "\n",
    "@app.route(\"/\")\n",
    "def hello():\n",
    "    return \"Hello. Welcome to my first web app.\"\n",
    "\n",
    "if __name__ == \"__main__\":\n",
    "    app.run()\n",
    "```\n",
    "\n",
    "Чтобы оно заработало, нужно запустить flask-сервер, для этого нужно в командной строке перейти в директорию с файлом приложения, и набрать следующую команду:\n",
    "```shell\n",
    "flask --app app_hello.py run\n",
    "```\n",
    "\n",
    "Затем в браузере следует открыть новую вкладку и указать адрес ```http://127.0.0.1:5000/```. Там должна быть картинка такого содержания:\n",
    "![image.png](attachment:image.png)"
   ]
  },
  {
   "cell_type": "markdown",
   "id": "21d96054",
   "metadata": {},
   "source": [
    "### Запуск приложения, которое определяет вид пингвинов\n",
    "\n",
    "Код приложения для определения вида пингвинов находится в файле ```app.py```:\n",
    "```python\n",
    "from flask import Flask, request, Response\n",
    "import json\n",
    "\n",
    "# импорт кода классификатора\n",
    "from penguins import penguins_classifier\n",
    "\n",
    "app = Flask(__name__)\n",
    "\n",
    "@app.route(\"/\")\n",
    "def hello():\n",
    "    return \"Hello. Welcome to my first web app.\"\n",
    "\n",
    "# вызов классификатора\n",
    "@app.route(\"/penguins\", methods=[\"POST\"])\n",
    "def penguins():\n",
    "    \n",
    "    request_data = request.json # распаковываем данные из формата JSON\n",
    "    response = penguins_classifier(request_data) # запускаем классификатор\n",
    "    return json.dumps(response)\n",
    "\n",
    "if __name__ == \"__main__\":\n",
    "    app.run()\n",
    "```\n",
    "\n",
    "Чтобы запустить его, нужно набрать в командной строке следующую команду (если там еще работает предыдущее приложение, его надо остановить:\n",
    "```shell\n",
    "flask --app app.py run\n",
    "```\n",
    "\n",
    "\n",
    "К нему из браузера можно будет обратиться только через JavaScript, но мы можем обратиться к нему прямо из текущей тетради. Для этого нам понадобится модуль ```requests```."
   ]
  },
  {
   "cell_type": "code",
   "execution_count": null,
   "id": "ec966fdd",
   "metadata": {},
   "outputs": [],
   "source": [
    "!pip install requests"
   ]
  },
  {
   "cell_type": "code",
   "execution_count": null,
   "id": "6ea395f6",
   "metadata": {},
   "outputs": [],
   "source": [
    "import requests\n",
    "import json\n",
    "\n",
    "url = 'http://127.0.0.1:5000/penguins'\n",
    "\n",
    "data = test_penguins\n",
    "data_to_send = json.dumps(data) # отправляем данные в формате JSON\n",
    "response = requests.post(url, \n",
    "                         data_to_send, \n",
    "                         headers={'Content-Type': 'application/json'})\n",
    "print(response.text)"
   ]
  },
  {
   "cell_type": "code",
   "execution_count": null,
   "id": "436696b6",
   "metadata": {},
   "outputs": [],
   "source": []
  }
 ],
 "metadata": {
  "kernelspec": {
   "display_name": "Python 3 (ipykernel)",
   "language": "python",
   "name": "python3"
  },
  "language_info": {
   "codemirror_mode": {
    "name": "ipython",
    "version": 3
   },
   "file_extension": ".py",
   "mimetype": "text/x-python",
   "name": "python",
   "nbconvert_exporter": "python",
   "pygments_lexer": "ipython3",
   "version": "3.11.8"
  }
 },
 "nbformat": 4,
 "nbformat_minor": 5
}
