{
 "cells": [
  {
   "cell_type": "markdown",
   "id": "e41d0bc2",
   "metadata": {},
   "source": [
    "# Питон и машинное обучение\n",
    "\n",
    "# Модуль 3. Метрики качества и настройка параметров моделей\n",
    "\n",
    "- Метрики качества в задачах машинного обучения с учителем:\n",
    "    - MSE и MAE (mean square error, mean absolute error)\n",
    "    - confusion matrix (матрица точности и полноты)\n",
    "    - accuracy, precision, recall, f-мера\n",
    "    - ROC/AUC\n",
    "- Bias/Variance trade-off\n",
    "- Выбор гиперпараметров модели\n"
   ]
  },
  {
   "cell_type": "code",
   "execution_count": null,
   "id": "e6288c53",
   "metadata": {},
   "outputs": [],
   "source": [
    "import numpy as np\n",
    "import pandas as pd\n",
    "import matplotlib.pyplot as plt\n",
    "import seaborn as sns\n",
    "\n",
    "from sklearn.model_selection import train_test_split\n",
    "\n",
    "%matplotlib inline"
   ]
  },
  {
   "cell_type": "code",
   "execution_count": null,
   "id": "61c591d6",
   "metadata": {},
   "outputs": [],
   "source": [
    "import warnings\n",
    "warnings.filterwarnings('ignore')\n",
    "warnings.simplefilter('always', category=UserWarning)"
   ]
  },
  {
   "cell_type": "markdown",
   "id": "4e25c40f",
   "metadata": {},
   "source": [
    "## Метрики\n",
    "\n",
    "### Количественные метрики\n",
    "\n",
    "Метрики качества, основанные на вычислении разности между предсказанным результатом и истиной:\n",
    "\n",
    "MAE - mean absolute error: \n",
    "\n",
    "$MAE = \\frac{1}{n} * \\sum_{i=1}^{n}|x_i-y_i|$\n",
    "\n",
    "MSE - mean squared error:\n",
    "\n",
    "$MSE = \\frac{1}{n} * \\sum_{i=1}^{n}(x_i-y_i)^2$\n",
    "\n",
    "RMSE - root mean squared error:\n",
    "\n",
    "$RMSE = \\sqrt{\\frac{1}{n} * \\sum_{i=1}^{D}(x_i-y_i)^2}$\n",
    "\n",
    "Эти метрики можно использовать для сравнения качества работы моделей, а также использовать их как функции потерь."
   ]
  },
  {
   "cell_type": "code",
   "execution_count": null,
   "id": "20a6fc79",
   "metadata": {},
   "outputs": [],
   "source": [
    "from sklearn.datasets import load_digits\n",
    "\n",
    "digits = load_digits()\n",
    "X, y = digits.data, digits.target\n",
    "\n",
    "X_train, X_test, y_train, y_test = train_test_split(X, y, \n",
    "                                                   test_size=0.3, \n",
    "                                                   random_state=20231110,\n",
    "                                                   stratify = y)"
   ]
  },
  {
   "cell_type": "code",
   "execution_count": null,
   "id": "343a3ab8",
   "metadata": {},
   "outputs": [],
   "source": [
    "from sklearn.ensemble import RandomForestClassifier\n",
    "\n",
    "cls1 = RandomForestClassifier(n_estimators=3, max_depth=5, n_jobs=-1) \n",
    "cls1.fit(X_train,y_train)\n",
    "\n",
    "pred_cls1 = cls1.predict(X_test)\n",
    "pred_cls1"
   ]
  },
  {
   "cell_type": "code",
   "execution_count": null,
   "id": "b2190893",
   "metadata": {},
   "outputs": [],
   "source": [
    "cls2 = RandomForestClassifier(n_estimators=40, max_depth=20, n_jobs=-1) \n",
    "cls2.fit(X_train,y_train)\n",
    "\n",
    "pred_cls2 = cls2.predict(X_test)\n",
    "pred_cls2"
   ]
  },
  {
   "cell_type": "code",
   "execution_count": null,
   "id": "fbe51be8",
   "metadata": {},
   "outputs": [],
   "source": [
    "y_test"
   ]
  },
  {
   "cell_type": "code",
   "execution_count": null,
   "id": "1c832b95",
   "metadata": {},
   "outputs": [],
   "source": [
    "from sklearn.metrics import mean_squared_error\n",
    "\n",
    "print(f\"MSE value Classifier 1: {mean_squared_error(y_test, pred_cls1)}\")\n",
    "print(f\"MSE value Classifier 2: {mean_squared_error(y_test, pred_cls2)}\")\n",
    "print()"
   ]
  },
  {
   "cell_type": "markdown",
   "id": "b82e4385",
   "metadata": {},
   "source": [
    "### R2-метрика или коэффициент детерминации\n",
    "\n",
    "Ее можно считать нормированной среднеквадратичной ошибкой.\n",
    "\n",
    "$R^2 = 1 - \\frac{\\sum_{i=1}^{n}(x_i-y_i)^2}{{\\sum_{i=1}^{n}(y_i-\\overline{y})^2}}$\n",
    "\n",
    "здесь $\\overline{y} = \\frac{1}{n} * \\sum_{i=1}^{n}y_i$ - среднее значение целевой переменной из контрольной выборки.\n",
    "\n",
    "Если R2 метрика близка к 1, значит можель хорошо объясняет данные. R2 может принимать и отрицательные значение, и это значит что модель обучена плохо."
   ]
  },
  {
   "cell_type": "code",
   "execution_count": null,
   "id": "e585aa5c",
   "metadata": {},
   "outputs": [],
   "source": [
    "from sklearn.metrics import r2_score\n",
    "\n",
    "print(f\"R2 value Classifier 1: {r2_score(y_test, pred_cls1)}\")\n",
    "print(f\"R2 value Classifier 2: {r2_score(y_test, pred_cls2)}\")\n",
    "print()"
   ]
  },
  {
   "attachments": {
    "image-2.png": {
     "image/png": "[encoded data removed]"
    }
   },
   "cell_type": "markdown",
   "id": "6eac7f49",
   "metadata": {},
   "source": [
    "## Матрица ошибок\n",
    "\n",
    "Она же __confusion matrix__ или __матрица точности и полноты__.\n",
    "\n",
    "Для задачи бинарной классификации матрицу можно представить следующим образом:\n",
    "![image-2.png](attachment:image-2.png)\n",
    "\n",
    "Для задачи классификации по n классам ее можно сформировать и визуализировать следющим образом:"
   ]
  },
  {
   "cell_type": "code",
   "execution_count": null,
   "id": "6331e57e",
   "metadata": {},
   "outputs": [],
   "source": [
    "from sklearn.metrics import confusion_matrix\n",
    "\n",
    "cf_matrix = confusion_matrix(y_test, pred_cls1)\n",
    "\n",
    "cf_matrix"
   ]
  },
  {
   "cell_type": "code",
   "execution_count": null,
   "id": "3df23f6f",
   "metadata": {},
   "outputs": [],
   "source": [
    "plt.figure(figsize=(10,9))\n",
    "\n",
    "ax = sns.heatmap(cf_matrix/np.sum(cf_matrix), annot=True, \n",
    "            fmt='.2%', cmap='Blues')\n",
    "\n",
    "ax.set_ylabel('True value')\n",
    "ax.set_xlabel('Predicted value')\n",
    "\n",
    "plt.show()"
   ]
  },
  {
   "cell_type": "markdown",
   "id": "3012eb47",
   "metadata": {},
   "source": [
    "#### ⁉️ Задание\n",
    "\n",
    "Для датасета \"glass.csv\" обучите классификатор \"Случайный лес\" с рандомными параметрами и постройте confutsion matrix.\n",
    "\n",
    "Атрибуты датасета:\n",
    "```\n",
    "1. Id number: 1 to 214\n",
    "2. RI: refractive index\n",
    "3. Na: Sodium (unit measurement: weight percent in corresponding oxide, as \n",
    "              are attributes 4-10)\n",
    "4. Mg: Magnesium\n",
    "5. Al: Aluminum\n",
    "6. Si: Silicon\n",
    "7. K: Potassium\n",
    "8. Ca: Calcium\n",
    "9. Ba: Barium\n",
    "10. Fe: Iron\n",
    "11. Type of glass: (class attribute)\n",
    "  -- 1 building_windows_float_processed\n",
    "  -- 2 building_windows_non_float_processed\n",
    "  -- 3 vehicle_windows_float_processed\n",
    "  -- 4 vehicle_windows_non_float_processed (none in this database)\n",
    "  -- 5 containers\n",
    "  -- 6 tableware\n",
    "  -- 7 headlamps\n",
    "```\n",
    "\n"
   ]
  },
  {
   "cell_type": "code",
   "execution_count": null,
   "id": "fb5f5756",
   "metadata": {},
   "outputs": [],
   "source": [
    "columns = [\"Id\", \"RI\", \"Na\", \"Mg\", \"Al\", \"Si\", \"K\", \"Ca\", \"Ba\", \"Fe\", \"Type of glass\", ]\n",
    "# ваш код здесь\n",
    "\n"
   ]
  },
  {
   "cell_type": "markdown",
   "id": "681fea6f",
   "metadata": {},
   "source": [
    "## Accuracy, Precision, Recall, F1\n",
    "\n",
    "$Accuracy = \\frac{TP+TN}{TP+TN+FP+FN}$\n",
    "\n",
    "$Precision = \\frac{TP}{TP+FP}$\n",
    "\n",
    "$Recall = \\frac{TP}{TP+FN}$\n",
    "\n",
    "$F1 = \\frac{2*Precision*Recall}{Precision+Recall} = \\frac{2*TP}{2*TP+FP+FN}$\n",
    "\n",
    "На примере датасета \"отток абонентов\"."
   ]
  },
  {
   "cell_type": "markdown",
   "id": "73b17bd9",
   "metadata": {},
   "source": [
    "## ROC/AUC"
   ]
  },
  {
   "cell_type": "markdown",
   "id": "e3b1841f",
   "metadata": {},
   "source": [
    "## Bias-variance trade-off\n",
    "\n"
   ]
  },
  {
   "cell_type": "code",
   "execution_count": null,
   "id": "d92d5111",
   "metadata": {},
   "outputs": [],
   "source": []
  }
 ],
 "metadata": {
  "kernelspec": {
   "display_name": "Python 3 (ipykernel)",
   "language": "python",
   "name": "python3"
  },
  "language_info": {
   "codemirror_mode": {
    "name": "ipython",
    "version": 3
   },
   "file_extension": ".py",
   "mimetype": "text/x-python",
   "name": "python",
   "nbconvert_exporter": "python",
   "pygments_lexer": "ipython3",
   "version": "3.11.8"
  }
 },
 "nbformat": 4,
 "nbformat_minor": 5
}
