{
 "cells": [
  {
   "cell_type": "markdown",
   "id": "647cdbeb",
   "metadata": {},
   "source": [
    "# Питон и машинное обучение\n",
    "\n",
    "# Модуль 5. Практика машинного обучения\n",
    "\n",
    "Вам необходимо выбрать один из двух датасетов:\n",
    "- ```data/bank.csv```\n",
    "- ```data/telecom_churn.csv```\n",
    "\n",
    "По выбранному датасету следует выполнить следующие действия:\n",
    "- проанализировать признаки\n",
    "- перевести текстовые признаки в цифровые с помощью ordinal или one-hot кодирования (а может быть, и других методов)\n",
    "- оценить распределения непрерывных величин, привести их к нормальному\n",
    "- найти зависимости, предложить способ от них избавиться\n",
    "- обучить классификатор \"Случайный лес\", получить значения метрик\n",
    "- построить валидационные кривые для параметров классификатора ```n_estimators```, а затем и ```max_depth```, выбрать оптимальные значения\n",
    "- построить обучающую кривую для полученной модели, получить оптимальный размер выборки\n",
    "- опубликовать ваши метрики для обученной модели."
   ]
  },
  {
   "cell_type": "code",
   "execution_count": null,
   "id": "da20456e",
   "metadata": {},
   "outputs": [],
   "source": [
    "import numpy as np\n",
    "import pandas as pd\n",
    "import matplotlib.pyplot as plt\n",
    "import seaborn as sns\n",
    "\n",
    "from sklearn.model_selection import train_test_split\n",
    "\n",
    "from sklearn.ensemble import RandomForestClassifier\n",
    "\n",
    "from sklearn.metrics import accuracy_score\n",
    "from sklearn.metrics import precision_score\n",
    "from sklearn.metrics import recall_score\n",
    "from sklearn.metrics import f1_score\n",
    "\n",
    "from sklearn.metrics import roc_curve\n",
    "from sklearn.metrics import roc_auc_score\n",
    "from sklearn.metrics import auc\n",
    "from sklearn.metrics import precision_recall_curve\n",
    "\n",
    "%matplotlib inline"
   ]
  },
  {
   "cell_type": "code",
   "execution_count": null,
   "id": "b7e50be6",
   "metadata": {},
   "outputs": [],
   "source": [
    "import warnings\n",
    "warnings.filterwarnings('ignore')\n",
    "warnings.simplefilter('always', category=UserWarning)"
   ]
  },
  {
   "cell_type": "code",
   "execution_count": 1,
   "id": "cb477dbb",
   "metadata": {},
   "outputs": [],
   "source": [
    "# ваш код здесь\n"
   ]
  }
 ],
 "metadata": {
  "kernelspec": {
   "display_name": "Python 3 (ipykernel)",
   "language": "python",
   "name": "python3"
  },
  "language_info": {
   "codemirror_mode": {
    "name": "ipython",
    "version": 3
   },
   "file_extension": ".py",
   "mimetype": "text/x-python",
   "name": "python",
   "nbconvert_exporter": "python",
   "pygments_lexer": "ipython3",
   "version": "3.11.8"
  }
 },
 "nbformat": 4,
 "nbformat_minor": 5
}
