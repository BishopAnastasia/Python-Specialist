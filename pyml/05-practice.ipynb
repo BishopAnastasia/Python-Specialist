{
 "cells": [
  {
   "cell_type": "markdown",
   "id": "293bc3d9",
   "metadata": {},
   "source": [
    "# Питон и машинное обучение\n",
    "\n",
    "# Модуль 5. Практика машинного обучения\n",
    "\n",
    "Вам необходимо выбрать один из двух датасетов:\n",
    "- ```data/bank.csv```\n",
    "- ```data/telecom_churn.csv```\n",
    "\n",
    "По выбранному датасету следует выполнить следующие действия:\n",
    "- проанализировать признаки\n",
    "- перевести текстовые признаки в цифровые с помощью ordinal или one-hot кодирования (а может быть, и других методов)\n",
    "- оценить распределения непрерывных величин, привести их к нормальному\n",
    "- найти зависимости, предложить способ от них избавиться\n",
    "- обучить классификатор \"Случайный лес\", получить значения метрик\n",
    "- построить валидационные кривые для параметров классификатора ```n_estimators```, а затем и ```max_depth```, выбрать оптимальные значения\n",
    "- построить обучающую кривую для полученной модели, получить оптимальный размер выборки\n",
    "- опубликовать ваши метрики для обученной модели."
   ]
  },
  {
   "cell_type": "code",
   "execution_count": 1,
   "id": "84c1f11a",
   "metadata": {},
   "outputs": [],
   "source": [
    "# ваш код здесь\n"
   ]
  },
  {
   "cell_type": "code",
   "execution_count": null,
   "id": "bbeb1fe3",
   "metadata": {},
   "outputs": [],
   "source": []
  }
 ],
 "metadata": {
  "kernelspec": {
   "display_name": "Python 3 (ipykernel)",
   "language": "python",
   "name": "python3"
  },
  "language_info": {
   "codemirror_mode": {
    "name": "ipython",
    "version": 3
   },
   "file_extension": ".py",
   "mimetype": "text/x-python",
   "name": "python",
   "nbconvert_exporter": "python",
   "pygments_lexer": "ipython3",
   "version": "3.11.8"
  }
 },
 "nbformat": 4,
 "nbformat_minor": 5
}
