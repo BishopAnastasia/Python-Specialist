{
 "cells": [
  {
   "cell_type": "markdown",
   "id": "b60ad5b5",
   "metadata": {},
   "source": [
    "# Питон и машинное обучение\n",
    "\n",
    "# Модуль 6, часть 1. Байесовский классификатор. Деревья решений.\n",
    "\n",
    "В рамках данного модуля мы рассмотрим методы машинного обучения, основанные на предварительном частотном/вероятностном анализе набора данных:\n",
    "- Байесовский классификатор\n",
    "    - Теорема Байеса\n",
    "    - Разновидности \"Наивного Байесовского Классификатора\" и области их применений\n",
    "- Деревья решений: \n",
    "    - Как они формируются\n",
    "    - Визуализация, интерпретация\n",
    "    - Использование \"деревьев\" в задачах регрессии.\n"
   ]
  },
  {
   "cell_type": "code",
   "execution_count": null,
   "id": "306cec86",
   "metadata": {},
   "outputs": [],
   "source": [
    "import numpy as np\n",
    "import pandas as pd\n",
    "import matplotlib.pyplot as plt\n",
    "import seaborn as sns\n",
    "\n",
    "from sklearn.model_selection import train_test_split\n",
    "\n",
    "from sklearn.tree import DecisionTreeClassifier\n",
    "from sklearn.tree import DecisionTreeRegressor\n",
    "\n",
    "from sklearn.metrics import mean_squared_error\n",
    "from sklearn.metrics import root_mean_squared_error\n",
    "from sklearn.metrics import r2_score\n",
    "\n",
    "from sklearn.metrics import accuracy_score\n",
    "from sklearn.metrics import precision_score\n",
    "from sklearn.metrics import recall_score\n",
    "from sklearn.metrics import f1_score\n",
    "\n",
    "from sklearn.metrics import roc_curve\n",
    "from sklearn.metrics import roc_auc_score\n",
    "from sklearn.metrics import auc\n",
    "from sklearn.metrics import precision_recall_curve\n",
    "\n",
    "%load_ext autoreload\n",
    "%autoreload 2\n",
    "\n",
    "%matplotlib inline"
   ]
  },
  {
   "cell_type": "code",
   "execution_count": null,
   "id": "e2937185",
   "metadata": {},
   "outputs": [],
   "source": [
    "import warnings\n",
    "warnings.filterwarnings('ignore')\n",
    "warnings.simplefilter('always', category=UserWarning)"
   ]
  },
  {
   "cell_type": "markdown",
   "id": "837676cc",
   "metadata": {},
   "source": [
    "## Наивный Байесовский классификатор\n",
    "\n",
    "### Теорема Байеса\n",
    "\n",
    "__Априорная вероятность__ - это наша изначальная оценка вероятности события, до того как мы учли новую информацию. Она основывается на предварительных знаниях или интуиции, до наблюдения за новыми данными.\n",
    "\n",
    "__Апостериорная вероятность__ - это обновленная вероятность события, полученная после учета новой информации. Это то, чему нас учит теорема Байеса: как переоценить наши предыдущие вероятности в свете новых данных.\n",
    "\n",
    "#### \"Адам и восход солнца\":\n",
    "\n",
    "Событие $A$ - \"солнце встает каждый день\".\n",
    "\n",
    "Событие $B$ - \"солнце встает сегодня\".\n",
    "\n",
    "$\\Large P(\\textrm{A } | \\textrm{ B}) = \\frac{P(\\textrm{B }| \\textrm{ A}) * P(\\textrm{A})}{P(\\textrm{B})} \n",
    "= \n",
    "\\frac{P(\\textrm{B }\n",
    "| \\textrm{ A})\n",
    "*\n",
    "P(\\textrm{A})}{P(\\textrm{B } | \\textrm{ A})P(\\textrm{A}) + \n",
    "P(\\textrm{B } |\n",
    "\\textrm{\n",
    "~A})P(\\textrm{~A})}\n",
    "$\n",
    "\n",
    "В нашем случае:\n",
    "\n",
    "- $P(A∣B)$ — апостериорная вероятность события $A$ при условии, что произошло событие $B$: \"солнце взошло сегодня, значит оно взойдет завтра\"\n",
    "- $P(B∣A)$ — вероятность наблюдения события $B$ при условии, что событие $A$ истинно: \"солнце взошло сегодня\"\n",
    "- $P(A)$ — априорная вероятность события $A$: интуитивная оценка того, что \"солнце восходит каждый день\", она крепнет с каждым днем: мы можем брать нашу вчерашнюю апостериорную вероятность и использовать ее сегодня\n",
    "- $P(B)$ — полная вероятность события $B$, которая может быть рассчитана как сумма вероятностей $B$, взвешенных по всем возможным сценариям $A$: \"солнце взошло с учетом наших преположений, и без оных\".\n",
    "\n",
    "...и код к примеру \"Адам и восход солнца\":"
   ]
  },
  {
   "cell_type": "code",
   "execution_count": null,
   "id": "e9ac0b7c",
   "metadata": {},
   "outputs": [],
   "source": [
    "days = np.arange(1, 10+1)\n",
    "\n",
    "def bayes(a, b_a, b_not_a):\n",
    "    num = b_a * a\n",
    "    denom = b_a * a + b_not_a * (1-a)\n",
    "    return round(num/denom, 4)\n",
    "    \n",
    "p_start = 0.01 # должна же быть хоть какая-то надежда?\n",
    "\n",
    "print(\"Вероятность события A при условии B: {}\" \\\n",
    "      .format( bayes(p_start, \n",
    "                    b_a=1, # факт \"солнце взошло\"p=1\n",
    "                    b_not_a=1/7 # \"солнце взошло вопреки нашим надеждам\" p=1/<кол-во дней наблюдения>\n",
    "                    ) ))\n",
    "\n",
    "# посчитаем для двух случаев: когда мы более-менее уверены и когда не очень:\n",
    "posteriors = [ p_start ] # 1. начнем с 0.01\n",
    "posteriors_less_conf = [ p_start/1e2 ] # 2. начнем с 0.0001\n",
    "\n",
    "for i, day in enumerate(days):\n",
    "    if i==0: continue\n",
    "    posteriors += [ bayes(posteriors[i-1], \n",
    "                    b_a=1, \n",
    "                    b_not_a=1/len(days)) ]\n",
    "    posteriors_less_conf += [ bayes(posteriors_less_conf[i-1], \n",
    "                    b_a=1, \n",
    "                    b_not_a=1/len(days)) ]\n",
    "\n",
    "\n",
    "print(posteriors)\n",
    "print(posteriors_less_conf)"
   ]
  },
  {
   "cell_type": "code",
   "execution_count": null,
   "id": "bec66377",
   "metadata": {},
   "outputs": [],
   "source": [
    "fig, ax = plt.subplots(1,1)\n",
    "\n",
    "ax.set_title('Вероятность того, что солнце будет всходить и далее')\n",
    "ax.set_ylabel(\"Вероятность\")\n",
    "ax.set_xlabel(\"Дни наблюдений\")\n",
    "ax.plot(days, posteriors, linestyle=':', marker='o', label=f\"P(A): {p_start}\")\n",
    "ax.plot(days, posteriors_less_conf, linestyle=':', marker='o', label=f\"P(A): {p_start/1e2}\")\n",
    "\n",
    "ax.legend(loc='best')\n",
    "\n",
    "plt.show()"
   ]
  },
  {
   "cell_type": "markdown",
   "id": "1a98c4c5",
   "metadata": {},
   "source": [
    "### Байесовский классификатор\n",
    "\n",
    "Байесовский классификатор — это статистический алгоритм, использующий принципы теоремы Байеса для классификации объектов. Он относит объекты к классам на основе вероятностей, вычисляя, какова вероятность того, что данный объект принадлежит к каждому из возможных классов, исходя из атрибутов (или \"фич\") этого объекта.\n",
    "\n",
    "Вот как работает байесовский классификатор в общих чертах:\n",
    "- **Подготовка данных**: Для начала, алгоритму необходимо \"обучиться\" на наборе данных, где для каждого объекта известен класс. Во время этого обучения алгоритм вычисляет вероятности связи между атрибутами объектов и их классами. Эти вероятности называются условными вероятностями.\n",
    "- **Априорные вероятности**: Также алгоритм вычисляет априорные вероятности каждого класса — то есть, насколько часто каждый класс встречается в обучающем наборе данных. Это дает базовую оценку вероятности того, что случайно выбранный объект принадлежит к каждому из классов.\n",
    "- **Классификация новых объектов**: Когда появляется новый объект для классификации, алгоритм использует вычисленные условные вероятности, чтобы оценить вероятность того, что этот объект принадлежит к каждому из возможных классов, учитывая атрибуты нового объекта. Это делается путем применения формулы теоремы Байеса.\n",
    "- **Выбор класса**: В конце концов, объект классифицируется как принадлежащий к тому классу, вероятность которого оказалась выше всех. Это называется апостериорной вероятностью.\n",
    "\n",
    "Для простоты представим, что у нас есть два класса: $C_1$ и $C_2$, и один атрибут $X$. Тогда апостериорные вероятности классификации объекта с атрибутом $X$ в каждом из классов будут вычисляться как:\n",
    "\n",
    "$\\Large P(C_1 ∣ X) = \\frac{P(X ∣ C_1) * P(C_1)}{P(X)}$\n",
    "\n",
    "$\\Large P(C_2 ∣ X) = \\frac{P(X ∣ C_2) * P(C_2)}{P(X)}$\n",
    "\n",
    "где $P(C_1 ∣ X)$ и $P(C_2 ∣ X)$ — это апостериорные вероятности классов, $P(X ∣ C_1)$ и $P(X ∣ C_2)$ - условные вероятности атрибута $X$ для каждого класса, $P(C_1)$ и $P(C_2)$ - априорные вероятности классов, и $P(X)$ — полная вероятность атрибута $X$.\n",
    "\n",
    "Байесовский классификатор особенно хорош, когда количество атрибутов (фич) велико, как, например, в задачах классификации текстов. Один из наиболее известных примеров байесовского классификатора — это __Наивный Байесовский Классификатор__, который предполагает, что все атрибуты независимы друг от друга внутри класса, что упрощает вычисления и, несмотря на свою \"наивность\", часто дает вполне приемлемые результаты.\n",
    "\n",
    "Пример на датасете \"[Spambase](https://archive.ics.uci.edu/dataset/94/spambase)\":"
   ]
  },
  {
   "cell_type": "code",
   "execution_count": null,
   "id": "1cae4ecf",
   "metadata": {},
   "outputs": [],
   "source": [
    "spambase = pd.read_csv('data/spambase.csv')\n",
    "spambase"
   ]
  },
  {
   "cell_type": "code",
   "execution_count": null,
   "id": "e536f8dd",
   "metadata": {},
   "outputs": [],
   "source": [
    "spambase.describe()"
   ]
  },
  {
   "cell_type": "code",
   "execution_count": null,
   "id": "9b042c8e",
   "metadata": {},
   "outputs": [],
   "source": [
    "X, y = spambase.iloc[:,:-1], spambase.iloc[:,-1]"
   ]
  },
  {
   "cell_type": "code",
   "execution_count": null,
   "id": "747ff9f3",
   "metadata": {},
   "outputs": [],
   "source": [
    "from sklearn.preprocessing import MinMaxScaler, StandardScaler\n",
    "\n",
    "X_spambase_minmax = pd.DataFrame(MinMaxScaler().fit_transform(X), \n",
    "                           columns = X.columns )"
   ]
  },
  {
   "cell_type": "code",
   "execution_count": null,
   "id": "b6b5f73a",
   "metadata": {},
   "outputs": [],
   "source": [
    "from sklearn.naive_bayes import MultinomialNB\n",
    "\n",
    "X_train, X_test, y_train, y_test = train_test_split(X, y, \n",
    "                                                   test_size=0.2, \n",
    "                                                   random_state=42,\n",
    "                                                   stratify = y)\n",
    "\n",
    "print(X_train.shape, X_test.shape)\n",
    "print(y.to_numpy()[:20])\n",
    "\n",
    "model = MultinomialNB(alpha=0.1)\n",
    "\n",
    "model.fit(X_train, y_train)\n",
    "\n",
    "y_pred = model.predict(X_test)\n",
    "y_pred_proba = model.predict_proba(X_test)\n",
    "\n",
    "print(f\"Accuracy score: {roc_auc_score(y_test, y_pred)}\")\n",
    "print(f\"ROC-AUC score: {roc_auc_score(y_test, y_pred_proba[:, -1])}\")"
   ]
  },
  {
   "cell_type": "code",
   "execution_count": null,
   "id": "0f00602a",
   "metadata": {},
   "outputs": [],
   "source": [
    "X_train, X_test, y_train, y_test = train_test_split(X_spambase_minmax, y, \n",
    "                                                   test_size=0.2, \n",
    "                                                   random_state=42,\n",
    "                                                   stratify = y)\n",
    "model = MultinomialNB(alpha=0.1)\n",
    "\n",
    "model.fit(X_train, y_train)\n",
    "\n",
    "y_pred = model.predict(X_test)\n",
    "y_pred_proba = model.predict_proba(X_test)\n",
    "\n",
    "print(f\"Accuracy score: {roc_auc_score(y_test, y_pred)}\")\n",
    "print(f\"ROC-AUC score: {roc_auc_score(y_test, y_pred_proba[:, -1])}\")"
   ]
  },
  {
   "cell_type": "markdown",
   "id": "90c04fc9",
   "metadata": {},
   "source": [
    "#### Выбор типа наивного байесовского классификатора\n",
    "\n",
    "- Если ваши данные являются бинарными (\"0/1\" в one-hot-encoding), то лучше всего подойдет __BernoulliNB__.\n",
    "- Для счетных данных, например, частот слов в тексте, предпочтительнее __MultinomialNB__.\n",
    "- Когда признаки являются непрерывными и можно предположить, что они распределены нормально, выбирайте __GaussianNB__.\n",
    "- Когда данные категориальные, стоит выбрать __CategorialNB__.\n",
    "- Для ситуаций, когда вам нужно работать с несбалансированными датасетами, и вы ищете классификатор, который лучше справится с этой проблемой, особенно в случае классификации текстов, можно выбрать __ComplementNB__."
   ]
  },
  {
   "cell_type": "code",
   "execution_count": null,
   "id": "5f3ab5ea",
   "metadata": {},
   "outputs": [],
   "source": [
    "from sklearn.naive_bayes import ComplementNB\n",
    "\n",
    "model = ComplementNB(alpha=0.01)\n",
    "\n",
    "model.fit(X_train, y_train)\n",
    "\n",
    "y_pred = model.predict_proba(X_test)\n",
    "\n",
    "print(f\"ROC-AUC score: {roc_auc_score(y_test, y_pred[:, -1])}\")"
   ]
  },
  {
   "cell_type": "code",
   "execution_count": null,
   "id": "834cbbc4",
   "metadata": {},
   "outputs": [],
   "source": [
    "from sklearn.ensemble import RandomForestClassifier\n",
    "\n",
    "model = RandomForestClassifier()\n",
    "\n",
    "model.fit(X_train, y_train)\n",
    "\n",
    "y_pred = model.predict_proba(X_test)\n",
    "\n",
    "print(f\"ROC-AUC score: {roc_auc_score(y_test, y_pred[:, -1])}\")"
   ]
  },
  {
   "cell_type": "markdown",
   "id": "dca0277e",
   "metadata": {},
   "source": [
    "#### ⁉️ Задание\n",
    "\n",
    "Для датасета \"Ирисы\" выберите подходящий наивный байесовский классификатор, обучите его и получите максимально возможное значение точности (accuracy)."
   ]
  },
  {
   "cell_type": "code",
   "execution_count": null,
   "id": "65785b41",
   "metadata": {},
   "outputs": [],
   "source": [
    "from sklearn import datasets\n",
    "\n",
    "iris_raw = datasets.load_iris()\n",
    "iris = pd.DataFrame(iris_raw.data, columns=iris_raw.feature_names)\n",
    "iris['y'] = iris_raw.target\n",
    "iris"
   ]
  },
  {
   "cell_type": "code",
   "execution_count": null,
   "id": "a7423362",
   "metadata": {},
   "outputs": [],
   "source": [
    "#ваш код здесь\n",
    "\n"
   ]
  },
  {
   "cell_type": "markdown",
   "id": "1224fe56",
   "metadata": {},
   "source": [
    "## Деревья решений\n",
    "\n",
    "Дерево решений — это инструмент поддержки принятия решений, который использует древовидную графическую модель возможных решений. \n",
    "\n",
    "В процессе машинного обучения алгоритм \"дерево решений\" формирует граф, путь по которому предсказывает значение целевой переменной на основе нескольких входных переменных. Процесс начинается с корневого узла, который делится на возможные варианты решений, каждый из которых ведёт к дополнительным узлам с новыми вариантами. Этот процесс продолжается до тех пор, пока не будут достигнуты конечные узлы, называемые листьями, которые представляют прогнозируемые значения или решения.\n",
    "\n",
    "Решение о каждом разветвлении принимается на основании вычисленных статистических метрик вначале по исходному множеству, а потом по отсеченным подмножествам.\n",
    "\n",
    "Основные преимущества деревьев решений:\n",
    "\n",
    "- **Простота понимания и интерпретации.** Деревья можно легко визуализировать и понять даже без глубоких знаний в области статистики.\n",
    "- **Требует мало подготовки данных.** В отличие от многих других алгоритмов, не требуется нормализация данных.\n",
    "- **Способность работать с числовыми и категориальными данными.** Деревья решений могут обрабатывать данные различных типов.\n",
    "- **Используется для решения задач как классификации, так и регрессии.**\n",
    "\n",
    "Недостатки деревьев решений включают склонность к переобучению, особенно с комплексными деревьями, и сложность в обобщении модели на новые данные, что может привести к ошибкам в прогнозах. Для борьбы с этими недостатками используются различные методы, такие как обрезка дерева, а также ансамблевые методы машинного обучения, такие как случайные леса, которые строят множество деревьев решений и объединяют их предсказания.\n",
    "\n",
    "__Пример__:"
   ]
  },
  {
   "cell_type": "code",
   "execution_count": null,
   "id": "9abd9d85",
   "metadata": {},
   "outputs": [],
   "source": [
    "tennis = pd.read_csv('data/PlayTennis.csv')\n",
    "tennis"
   ]
  },
  {
   "attachments": {
    "image.png": {
     "image/png": "[encoded data removed]"
    }
   },
   "cell_type": "markdown",
   "id": "95275d46",
   "metadata": {},
   "source": [
    "Дерево решений для задачи \"пойду ли я играть в теннис\" (сделано человеком):\n",
    "![image.png](attachment:image.png)"
   ]
  },
  {
   "cell_type": "markdown",
   "id": "28755235",
   "metadata": {},
   "source": [
    "Попробуем обучить и визуализировать дерево решений:"
   ]
  },
  {
   "cell_type": "code",
   "execution_count": null,
   "id": "46f642be",
   "metadata": {},
   "outputs": [],
   "source": [
    "# препроцессинг\n",
    "df_outlook = pd.get_dummies(tennis.Outlook, dtype=np.int64, prefix=\"Outlook\")\n",
    "df_temperature = pd.get_dummies(tennis.Temperature, dtype=np.int64, prefix=\"Temperature\")\n",
    "tennis['Humidity'] = tennis.Humidity.apply(lambda x: 1 if x=='High' else 0)\n",
    "tennis['Wind'] = tennis.Wind.apply(lambda x: 1 if x=='Strong' else 0)\n",
    "tennis['Play Tennis'] = tennis['Play Tennis'].apply(lambda x: 1 if x=='Yes' else 0)\n",
    "\n",
    "tennis = pd.concat([df_outlook, df_temperature, tennis], axis=1).drop(['Outlook', 'Temperature'], axis=1)\n",
    "tennis"
   ]
  },
  {
   "cell_type": "code",
   "execution_count": null,
   "id": "5e32a237",
   "metadata": {},
   "outputs": [],
   "source": [
    "from sklearn.tree import DecisionTreeClassifier\n",
    "from sklearn import tree\n",
    "\n",
    "tennis_tree = DecisionTreeClassifier(criterion='gini')\n",
    "\n",
    "X, y = tennis.iloc[:, :-1], tennis.iloc[:,-1]\n",
    "\n",
    "tennis_tree.fit(X, y)\n",
    "\n",
    "fig, ax = plt.subplots( figsize = (10,10) )\n",
    "tree.plot_tree(tennis_tree,\n",
    "               feature_names = X.columns, \n",
    "               class_names=['No','Yes'],\n",
    "               filled = True)\n",
    "plt.plot()"
   ]
  },
  {
   "cell_type": "markdown",
   "id": "ad78d4e8",
   "metadata": {},
   "source": [
    "В деревьях решений разбиение выборки на подгруппы происходит на основе принципа, который стремится максимизировать однородность или чистоту узлов после разделения. Цель состоит в том, чтобы создать подгруппы, в которых объекты будут как можно более схожи по целевому признаку. Есть несколько ключевых метрик и принципов, используемых для оценки качества разбиения:\n",
    "\n",
    "1. **Индекс Джини** (```gini```, используется по умолчанию) \\\n",
    "Индекс Джини — ещё одна мера, используемая для определения чистоты разделения. Она измеряет вероятность того, что случайно выбранный элемент из набора будет неправильно классифицирован, если он случайно классифицируется в соответствии с распределением классов в подгруппе. Меньшее значение индекса Джини указывает на лучшее разбиение.\n",
    "\n",
    "    $\\Large H(Q_m) = \\sum_k p_{mk} (1 - p_{mk})$\n",
    "    \n",
    "<br>\n",
    "\n",
    "2. **Энтропия** (```entropy```) \\\n",
    "Энтропия — это мера неопределенности или беспорядка в наборе данных. В контексте деревьев решений она используется для определения чистоты узла. Энтропия узла уменьшается, если он содержит больше объектов одного класса, и увеличивается, если объекты равномерно распределены по разным классам. Разбиение выбирается таким образом, чтобы энтропия после разбиения уменьшилась по сравнению с исходной энтропией.\n",
    "\n",
    "    $\\Large H(Q_m) = - \\sum_k p_{mk} \\log(p_{mk})$\n",
    "    \n",
    "    \n",
    "\n",
    "Процесс выбора атрибута для разбиения:\n",
    "- Для каждого атрибута рассчитывают метрику качества разбиения (например, прирост информации или индекс Джини).\n",
    "- Выбирают атрибут, разбиение по которому дает лучшее значение выбранной метрики.\n",
    "- Процесс разбиения повторяется рекурсивно для каждой полученной подгруппы, пока не будут достигнуты условия остановки (например, все объекты в узле принадлежат к одному классу, достигнута максимальная глубина дерева или количество объектов в узле меньше заданного порога)."
   ]
  },
  {
   "cell_type": "markdown",
   "id": "d732cbc6",
   "metadata": {},
   "source": [
    "Также для понимания принципов работы \"Деревьев решений\" полезно увидеть, как классификатор разбивает разделяет пространство признаков разных классов.\n",
    "\n",
    "Два класса будут сгенерированы в двухмерном пространстве из двух нормальных распределений с разными средними."
   ]
  },
  {
   "cell_type": "code",
   "execution_count": null,
   "id": "d8515e66",
   "metadata": {},
   "outputs": [],
   "source": [
    "np.random.seed(20240406)\n",
    "n_samples = 100\n",
    "\n",
    "# первый класс\n",
    "train_data = np.random.normal(size=(n_samples, 2))\n",
    "train_labels = np.zeros(n_samples)\n",
    "\n",
    "# второй класс\n",
    "train_data = np.r_[train_data, np.random.normal(size=(n_samples, 2), loc=2)]\n",
    "train_labels = np.r_[train_labels, np.ones(n_samples)]"
   ]
  },
  {
   "cell_type": "code",
   "execution_count": null,
   "id": "e8315a2f",
   "metadata": {},
   "outputs": [],
   "source": [
    "from plot_decision_regions import plot_decision_regions\n",
    "\n",
    "fig, ax = plt.subplots( figsize=(6,6) )\n",
    "\n",
    "plot_decision_regions(train_data, train_labels)"
   ]
  },
  {
   "cell_type": "code",
   "execution_count": null,
   "id": "77eec482",
   "metadata": {},
   "outputs": [],
   "source": [
    "dtree = DecisionTreeClassifier(min_samples_leaf=5)\n",
    "\n",
    "dtree.fit(train_data, train_labels)\n",
    "\n",
    "fig, ax = plt.subplots( figsize=(6,6) )\n",
    "\n",
    "plot_decision_regions(train_data, train_labels, dtree)"
   ]
  },
  {
   "cell_type": "code",
   "execution_count": null,
   "id": "e9a753ea",
   "metadata": {},
   "outputs": [],
   "source": [
    "fig, ax = plt.subplots( figsize = (10,10) )\n",
    "tree.plot_tree(dtree,\n",
    "               feature_names = ['x', 'y'], \n",
    "               class_names=['0','1'],\n",
    "               filled = True)\n",
    "plt.plot()"
   ]
  },
  {
   "cell_type": "markdown",
   "id": "5a7fefc9",
   "metadata": {},
   "source": [
    "## Дерево решений в задаче регрессии\n",
    "\n",
    "Здесь в качестве критерия чаще всего используют среднеквадратичную ошибку:\n",
    "\n",
    "$\\Large \\begin{align}\\begin{aligned}\\bar{y}_m = \\frac{1}{n_m} \\sum_{y \\in Q_m} y\\\\H(Q_m) = \\frac{1}{n_m} \\sum_{y \\in Q_m} (y - \\bar{y}_m)^2\\end{aligned}\\end{align}$\n",
    "\n",
    "#### Пример\n",
    "\n",
    "Сгенерируем данные, распределенные вокруг функции  $f(x) = e^{-x ^ 2} + 1.5 * e^{-(x - 2) ^ 2}$  c некоторым шумом."
   ]
  },
  {
   "cell_type": "code",
   "execution_count": null,
   "id": "9f905cb8",
   "metadata": {},
   "outputs": [],
   "source": [
    "n_train = 150        \n",
    "n_test = 1000       \n",
    "noise = 0.1\n",
    "\n",
    "\n",
    "def f(x):\n",
    "    x = x.ravel()\n",
    "    return np.exp(-x ** 2) + 1.5 * np.exp(-(x - 2) ** 2)\n",
    "\n",
    "def generate(n_samples, noise):\n",
    "    X = np.random.rand(n_samples) * 10 - 5\n",
    "    X = np.sort(X).ravel()\n",
    "    y = np.exp(-X ** 2) + 1.5 * np.exp(-(X - 2) ** 2) + \\\n",
    "        np.random.normal(0.0, noise, n_samples)\n",
    "    X = X.reshape((n_samples, 1))\n",
    "\n",
    "    return X, y\n",
    "\n",
    "X_train, y_train = generate(n_samples=n_train, noise=noise)\n",
    "X_test, y_test = generate(n_samples=n_test, noise=noise)"
   ]
  },
  {
   "cell_type": "code",
   "execution_count": null,
   "id": "3c3a5914",
   "metadata": {},
   "outputs": [],
   "source": [
    "from sklearn.tree import DecisionTreeRegressor\n",
    "     \n",
    "rtree = DecisionTreeRegressor()\n",
    "\n",
    "rtree.fit(X_train, y_train)\n",
    "d_predict = rtree.predict(X_test)"
   ]
  },
  {
   "cell_type": "code",
   "execution_count": null,
   "id": "5439f8f5",
   "metadata": {},
   "outputs": [],
   "source": [
    "plt.figure(figsize=(10, 6))\n",
    "plt.plot(X_test, f(X_test), \"b\")\n",
    "plt.scatter(X_train, y_train, c=\"b\", s=20)\n",
    "plt.plot(X_test, d_predict, \"g\", lw=2)\n",
    "plt.xlim([-5, 5])\n",
    "plt.title(\"Decision tree regressor, MSE = %.2f\" % np.sum((y_test - d_predict) ** 2))\n",
    "plt.show()"
   ]
  },
  {
   "cell_type": "markdown",
   "id": "46766b32",
   "metadata": {},
   "source": [
    "Визуализируем дерево:"
   ]
  },
  {
   "cell_type": "code",
   "execution_count": null,
   "id": "7421f43e",
   "metadata": {},
   "outputs": [],
   "source": [
    "fig, axes = plt.subplots( figsize = (10,10) )\n",
    "tree.plot_tree(rtree,\n",
    "               feature_names = ['value'], \n",
    "               filled = True)\n",
    "\n",
    "plt.show()"
   ]
  },
  {
   "cell_type": "markdown",
   "id": "e6b90181",
   "metadata": {},
   "source": [
    "Конечно, можно представить дерево в виде кода, например, на Python:"
   ]
  },
  {
   "cell_type": "code",
   "execution_count": null,
   "id": "555af59d",
   "metadata": {},
   "outputs": [],
   "source": [
    "from tree_to_code import tree_to_code\n",
    "\n",
    "tree_to_code(tennis_tree, tennis.columns[:-1])"
   ]
  },
  {
   "cell_type": "markdown",
   "id": "f377ac2b",
   "metadata": {},
   "source": [
    "#### ⁉️ Задание\n",
    "\n",
    "1. Для датасета \"Spambase\" получите максимальное значение метрики ROC-AUC, варьируя параметры классификатора \"Дерево решений\"."
   ]
  },
  {
   "cell_type": "code",
   "execution_count": null,
   "id": "2ffa78be",
   "metadata": {},
   "outputs": [],
   "source": [
    "spambase = pd.read_csv('data/spambase.csv')\n",
    "# ваш код здесь\n",
    "\n"
   ]
  },
  {
   "cell_type": "markdown",
   "id": "2cbf4667",
   "metadata": {},
   "source": [
    "2. Для датасета \"penguins\" выполнтие необходимый препроцессинг, обучите дерево решений, получите значение метрик ```accuracy```, ```f1``` и ```roc_auc```. Визуализируйте дерево решений, интерпретируйте результат. "
   ]
  },
  {
   "cell_type": "code",
   "execution_count": null,
   "id": "29f022b0",
   "metadata": {},
   "outputs": [],
   "source": [
    "penguins = sns.load_dataset(\"penguins\")\n",
    "penguins"
   ]
  },
  {
   "cell_type": "code",
   "execution_count": null,
   "id": "56deb71b",
   "metadata": {},
   "outputs": [],
   "source": [
    "# ваш код здесь\n",
    "\n"
   ]
  },
  {
   "cell_type": "markdown",
   "id": "fd3b5d2a",
   "metadata": {},
   "source": [
    "## Используемые материалы и полезные ссылки\n",
    "\n",
    "- [A Bayesian quest to find God (статья на towardsdatascience.com)](https://towardsdatascience.com/a-bayesian-quest-to-find-god-b30934972473)\n",
    "- [Naive Bayes Classification (статья на Medium.com)](https://towardsdatascience.com/naive-bayes-classification-41d1fe802a1e)\n",
    "- [Spam detection using Scikit learn (пример поиска спама, на kaggle.com)](https://www.kaggle.com/code/yakinrubaiat/spam-detection-using-scikit-learn)\n",
    "- [Наивный Байес, или о том, как математика позволяет фильтровать спам (статья на Хабре)](https://habr.com/ru/articles/415963/)\n",
    "- [Наивный байесовский алгоритм (статья на Medium.com)](https://medium.com/nuances-of-programming/наивный-байесовский-алгоритм-всё-что-нужно-о-нём-знать-85f6e04c3b74)\n",
    "\n",
    "<hr>\n",
    "\n",
    "- [Understanding the decision tree structure (scikit-learn.org)](https://scikit-learn.org/stable/auto_examples/tree/plot_unveil_tree_structure.html)\n",
    "- [Visualize a Decision Tree in 4 Ways with Scikit-Learn and Python](https://mljar.com/blog/visualize-decision-tree/)\n",
    "- [Converting a DecisionTree into python code](http://www.clungu.com/Converting_a_DecisionTree_into_python_code/)\n"
   ]
  },
  {
   "cell_type": "code",
   "execution_count": null,
   "id": "31d17006",
   "metadata": {},
   "outputs": [],
   "source": []
  }
 ],
 "metadata": {
  "kernelspec": {
   "display_name": "Python 3 (ipykernel)",
   "language": "python",
   "name": "python3"
  },
  "language_info": {
   "codemirror_mode": {
    "name": "ipython",
    "version": 3
   },
   "file_extension": ".py",
   "mimetype": "text/x-python",
   "name": "python",
   "nbconvert_exporter": "python",
   "pygments_lexer": "ipython3",
   "version": "3.11.8"
  }
 },
 "nbformat": 4,
 "nbformat_minor": 5
}
