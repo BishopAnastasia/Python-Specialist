{
 "cells": [
  {
   "cell_type": "markdown",
   "id": "f0efe97b",
   "metadata": {},
   "source": [
    "# Питон и машинное обучение\n",
    "\n",
    "# Модуль 10. Часть 1. Глубокое обучение\n",
    "\n",
    "В данном модуле будут кратко рассмотрены нейронные сети архитектуры \"Многослойный персептрон\" на примере задачи \"Распознавание рукописных цифр MNIST\".\n",
    "\n",
    "\n"
   ]
  },
  {
   "cell_type": "code",
   "execution_count": null,
   "id": "cdc596ad",
   "metadata": {},
   "outputs": [],
   "source": [
    "import numpy as np\n",
    "import pandas as pd\n",
    "import matplotlib.pyplot as plt\n",
    "import seaborn as sns\n",
    "\n",
    "%load_ext autoreload\n",
    "%autoreload 2\n",
    "\n",
    "%matplotlib inline"
   ]
  },
  {
   "cell_type": "code",
   "execution_count": null,
   "id": "080cb974",
   "metadata": {},
   "outputs": [],
   "source": [
    "import keras\n",
    "keras.__version__"
   ]
  },
  {
   "cell_type": "code",
   "execution_count": null,
   "id": "7b7738ea",
   "metadata": {},
   "outputs": [],
   "source": [
    "!pip install tensorflow"
   ]
  },
  {
   "cell_type": "code",
   "execution_count": null,
   "id": "84a1ecfa",
   "metadata": {},
   "outputs": [],
   "source": [
    "from keras.datasets import mnist\n",
    "\n",
    "(train_images, train_labels), (test_images, test_labels) = mnist.load_data()"
   ]
  },
  {
   "cell_type": "code",
   "execution_count": null,
   "id": "4b994eb5",
   "metadata": {},
   "outputs": [],
   "source": [
    "print(train_images.shape)\n",
    "print(test_images.shape)\n",
    "test_labels"
   ]
  },
  {
   "cell_type": "code",
   "execution_count": null,
   "id": "15cbbd33",
   "metadata": {},
   "outputs": [],
   "source": [
    "ix_random_image = 42\n",
    "\n",
    "plt.figure(figsize=(4,2))\n",
    "plt.imshow(train_images[ix_random_image], cmap='gray_r')\n",
    "plt.xticks([])\n",
    "plt.yticks([])\n",
    "plt.title('Source image')\n",
    "\n",
    "print(train_images[ix_random_image].dtype)\n",
    "\n",
    "plt.show()"
   ]
  },
  {
   "cell_type": "markdown",
   "id": "c1755159",
   "metadata": {},
   "source": [
    "Выполняем препроцессинг:\n",
    "- раскатываем данные в вектора \n",
    "- шкалируем данные\n",
    "- переводим метки в категории"
   ]
  },
  {
   "cell_type": "code",
   "execution_count": null,
   "id": "56fffc9d",
   "metadata": {},
   "outputs": [],
   "source": [
    "from sklearn.preprocessing import MinMaxScaler\n",
    "from keras.utils import to_categorical\n",
    "\n",
    "train_images = train_images.reshape( (-1, np.prod(train_images.shape[1:])) )\n",
    "test_images = test_images.reshape( (-1, np.prod(train_images.shape[1:])) )\n",
    "\n",
    "train_images = MinMaxScaler().fit_transform(train_images)\n",
    "test_images = MinMaxScaler().fit_transform(test_images)\n",
    "\n",
    "train_labels = to_categorical(train_labels)\n",
    "test_labels = to_categorical(test_labels)\n",
    "\n",
    "train_labels"
   ]
  },
  {
   "cell_type": "markdown",
   "id": "76f2afb8",
   "metadata": {},
   "source": [
    "Строим модель - однослойный персептрон:"
   ]
  },
  {
   "cell_type": "code",
   "execution_count": null,
   "id": "c9906550",
   "metadata": {},
   "outputs": [],
   "source": [
    "from keras import models\n",
    "from keras import layers\n",
    "\n",
    "perceptron = models.Sequential()\n",
    "perceptron.add(layers.Dense(10, input_shape=train_images[0].shape, activation='softmax'))\n",
    "\n",
    "perceptron.summary()"
   ]
  },
  {
   "cell_type": "code",
   "execution_count": null,
   "id": "9544cced",
   "metadata": {},
   "outputs": [],
   "source": [
    "perceptron.compile(optimizer='rmsprop',\n",
    "                loss='categorical_crossentropy',\n",
    "                metrics=['accuracy'])"
   ]
  },
  {
   "cell_type": "code",
   "execution_count": null,
   "id": "149fa103",
   "metadata": {},
   "outputs": [],
   "source": [
    "perceptron.fit(train_images, train_labels, epochs=5, batch_size=128)"
   ]
  },
  {
   "cell_type": "code",
   "execution_count": null,
   "id": "048855ca",
   "metadata": {},
   "outputs": [],
   "source": [
    "test_loss, test_acc = perceptron.evaluate(test_images, test_labels)"
   ]
  },
  {
   "cell_type": "markdown",
   "id": "ff9b9208",
   "metadata": {},
   "source": [
    "Добавим в модель скрытый слой. Такая архитектура называется \"многослойный персептрон\" (Multi-Layer Perceptron):"
   ]
  },
  {
   "cell_type": "code",
   "execution_count": null,
   "id": "f225be0d",
   "metadata": {},
   "outputs": [],
   "source": [
    "mlp = models.Sequential()\n",
    "mlp.add(layers.Dense(512, activation='relu', input_shape=(28 * 28,)))\n",
    "mlp.add(layers.Dense(10, activation='softmax'))\n",
    "mlp.summary()"
   ]
  },
  {
   "cell_type": "code",
   "execution_count": null,
   "id": "e775f61b",
   "metadata": {},
   "outputs": [],
   "source": [
    "mlp.compile(optimizer='rmsprop',\n",
    "                loss='categorical_crossentropy',\n",
    "                metrics=['accuracy'])"
   ]
  },
  {
   "cell_type": "code",
   "execution_count": null,
   "id": "a906ccf3",
   "metadata": {},
   "outputs": [],
   "source": [
    "mlp.fit(train_images, train_labels, epochs=5, batch_size=128)"
   ]
  },
  {
   "cell_type": "code",
   "execution_count": null,
   "id": "ec24cfe6",
   "metadata": {},
   "outputs": [],
   "source": [
    "test_loss, test_acc = mlp.evaluate(test_images, test_labels)"
   ]
  },
  {
   "cell_type": "markdown",
   "id": "b7b41a24",
   "metadata": {},
   "source": [
    "#### ⁉️ Задание\n",
    "\n",
    "Модифицируйте многослойный персептрон:\n",
    "- поэкспериментируйте с различными оптимизаторами ```adam``` и ```sgd```\n",
    "- поэкспериментируйте с различными функциями активации в скрытом слое: ```relu```, ```sigmoid```, ```tanh```\n",
    "- увеличьте/уменьшите количество весов в скрытом слое\n",
    "- добавьте еще один скрытый слой"
   ]
  },
  {
   "cell_type": "code",
   "execution_count": null,
   "id": "b79aa62b",
   "metadata": {},
   "outputs": [],
   "source": [
    "# ваш код здесь\n",
    "\n"
   ]
  }
 ],
 "metadata": {
  "kernelspec": {
   "display_name": "Python 3 (ipykernel)",
   "language": "python",
   "name": "python3"
  },
  "language_info": {
   "codemirror_mode": {
    "name": "ipython",
    "version": 3
   },
   "file_extension": ".py",
   "mimetype": "text/x-python",
   "name": "python",
   "nbconvert_exporter": "python",
   "pygments_lexer": "ipython3",
   "version": "3.11.8"
  }
 },
 "nbformat": 4,
 "nbformat_minor": 5
}
