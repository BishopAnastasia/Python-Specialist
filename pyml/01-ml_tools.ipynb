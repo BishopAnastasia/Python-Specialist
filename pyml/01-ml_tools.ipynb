{
 "cells": [
  {
   "cell_type": "markdown",
   "id": "fdad0328",
   "metadata": {},
   "source": [
    "# Питон и машинное обучение\n",
    "\n",
    "## Модуль 1. Инструментарий для машинного обучения\n",
    "\n",
    "- Библиотеки numpy, pandas и matplotlib\n",
    "- Загрузка данных из CSV-файлов, таблиц Excel и СУБД\n",
    "- Разбиение данных:\n",
    "    - На определяющие и результирующие признаки\n",
    "    - На обучающую и валидационную выборки \n",
    "- Машинное обучение с использованием «сильных алгоритмов»"
   ]
  },
  {
   "cell_type": "markdown",
   "id": "03c63fb2",
   "metadata": {},
   "source": [
    "## Библиотеки numpy, pandas, matplotlib\n",
    "\n",
    "Стандарт импорта этих библиотек в вашем коде:"
   ]
  },
  {
   "cell_type": "code",
   "execution_count": null,
   "id": "7bf64277",
   "metadata": {},
   "outputs": [],
   "source": [
    "import numpy as np\n",
    "import pandas as pd\n",
    "import matplotlib.pyplot as plt\n",
    "\n",
    "%matplotlib inline"
   ]
  },
  {
   "cell_type": "code",
   "execution_count": null,
   "id": "9616fa11",
   "metadata": {},
   "outputs": [],
   "source": [
    "import warnings\n",
    "warnings.filterwarnings('ignore')\n",
    "warnings.simplefilter('always', category=UserWarning)"
   ]
  },
  {
   "cell_type": "markdown",
   "id": "c90bdc92",
   "metadata": {},
   "source": [
    "### Массивы numpy, особенности\n",
    "\n",
    "Массивы numpy - основной контейнер данных в задачах машинного обучения.\n",
    "\n",
    "Особенности этих объектов:\n",
    " - обращение к элементам подобно спискам Python (но в одномерном случае)\n",
    " - массивы многомерны (чаще всего используются вектора, матрицы и тензоры 3-4-го ранга)\n",
    " - в массивах хранятся данные одного типа (как правило, числа)\n",
    " - в массивах данные хранятся в одной непрерывной области памяти, это позволяет получить серьезный выигрыш в производительности\n",
    " - в numpy встроены собственные функции для агрегатных вычислений (```sum```, ```max```, ```min```, etc), <font color=\"red\">не используйте одноименные функции python c объектами __numpy, pandas, tensorflow, pytorch__, etc</font>.\n",
    "\n"
   ]
  },
  {
   "cell_type": "code",
   "execution_count": null,
   "id": "47b01cbb",
   "metadata": {},
   "outputs": [],
   "source": [
    "a_10 = np.arange(10)\n",
    "print(a_10)\n",
    "print(a_10[:5])"
   ]
  },
  {
   "cell_type": "code",
   "execution_count": null,
   "id": "a648caf1",
   "metadata": {},
   "outputs": [],
   "source": [
    "# как визуально отличить массив numpy от списка\n",
    "print(a_10)\n",
    "print(list(a_10))"
   ]
  },
  {
   "cell_type": "code",
   "execution_count": null,
   "id": "f3fe458f",
   "metadata": {},
   "outputs": [],
   "source": [
    "# векторизация операций\n",
    "print(a_10 * 10)\n",
    "print(a_10 + a_10 * 10)"
   ]
  },
  {
   "cell_type": "markdown",
   "id": "4ebbb95b",
   "metadata": {},
   "source": [
    "#### Изменение размерности"
   ]
  },
  {
   "cell_type": "code",
   "execution_count": null,
   "id": "16efdbbb",
   "metadata": {},
   "outputs": [],
   "source": [
    "a_10.shape"
   ]
  },
  {
   "cell_type": "code",
   "execution_count": null,
   "id": "83e41506",
   "metadata": {},
   "outputs": [],
   "source": [
    "a_2_5 = a_10.reshape( (2,5) ) # перевод данных в объект другой размерности\n",
    "a_2_5"
   ]
  },
  {
   "cell_type": "code",
   "execution_count": null,
   "id": "b1d98e8c",
   "metadata": {},
   "outputs": [],
   "source": [
    "a_5_2 = a_2_5.T # транспонирование\n",
    "a_5_2"
   ]
  },
  {
   "cell_type": "code",
   "execution_count": null,
   "id": "4f68fe92",
   "metadata": {},
   "outputs": [],
   "source": [
    "a_5_2 = a_2_5.transpose(1,0) # транспонирование - 2-й способ\n",
    "a_5_2"
   ]
  },
  {
   "cell_type": "markdown",
   "id": "6e1ca808",
   "metadata": {},
   "source": [
    "‼️ Все функции изменения размерности возвращают проекцию на ту же область данных, но с другими определениями размерности:"
   ]
  },
  {
   "cell_type": "code",
   "execution_count": null,
   "id": "c522080a",
   "metadata": {},
   "outputs": [],
   "source": [
    "a_5_2[1,1] = 100500\n",
    "\n",
    "print(a_5_2)\n",
    "print(a_2_5)\n",
    "print(a_10)"
   ]
  },
  {
   "cell_type": "code",
   "execution_count": null,
   "id": "72822789",
   "metadata": {},
   "outputs": [],
   "source": [
    "print(a_2_5[:, :2]) # срезы для многомерных массивов numpy\n",
    "print(a_2_5.flatten()) # \"раскатывание в вектор\""
   ]
  },
  {
   "cell_type": "markdown",
   "id": "cd2d22e8",
   "metadata": {},
   "source": [
    "#### Векторизация и бродкастинг для многомерного массива"
   ]
  },
  {
   "cell_type": "code",
   "execution_count": null,
   "id": "2f6ee762",
   "metadata": {},
   "outputs": [],
   "source": [
    "print(a_2_5 + a_2_5 * 10) # поэлементное сложение, умножение на скаляр\n",
    "print()\n",
    "print(a_2_5 * 10  + np.arange(5)) # операция бродкастинг \"матрица и строка\" \n",
    "print()\n",
    "print(a_2_5 * 10 + np.arange(2).reshape(-1,1)) # операция бродкастинг \"матрица и столбец\""
   ]
  },
  {
   "cell_type": "markdown",
   "id": "5541f50a",
   "metadata": {},
   "source": [
    "#### Фильтрация данных: булевы маски, fancy indexing"
   ]
  },
  {
   "cell_type": "code",
   "execution_count": null,
   "id": "26073c18",
   "metadata": {},
   "outputs": [],
   "source": [
    "a_20_50 =  a_2_5 * 10\n",
    "a_20_50"
   ]
  },
  {
   "cell_type": "code",
   "execution_count": null,
   "id": "62c45c0a",
   "metadata": {},
   "outputs": [],
   "source": [
    "a_20_50[ a_20_50 >= 70 ] # булева маска"
   ]
  },
  {
   "cell_type": "code",
   "execution_count": null,
   "id": "a4349132",
   "metadata": {},
   "outputs": [],
   "source": [
    "a_20_50 >= 70"
   ]
  },
  {
   "cell_type": "code",
   "execution_count": null,
   "id": "7884a89e",
   "metadata": {},
   "outputs": [],
   "source": [
    "np.sum(a_20_50 >= 70) # посчитать количество элементов, удовлетворяющих данным условиям"
   ]
  },
  {
   "cell_type": "code",
   "execution_count": null,
   "id": "9471b3b1",
   "metadata": {},
   "outputs": [],
   "source": [
    "(a_10 * 10)[ [3,1,2,1] ] # fancy indexing для векторов"
   ]
  },
  {
   "cell_type": "code",
   "execution_count": null,
   "id": "4234030b",
   "metadata": {},
   "outputs": [],
   "source": [
    "a_20_50[ [0,1,0], [3,2,1]] # fancy indexing для матриц"
   ]
  },
  {
   "cell_type": "code",
   "execution_count": null,
   "id": "d76af795",
   "metadata": {},
   "outputs": [],
   "source": [
    "a_20_50[ [0,1,0], a_20_50[0] > 10 ] # можно комбинировать, но обращайте внимание на размерность"
   ]
  },
  {
   "cell_type": "markdown",
   "id": "cb1699c9",
   "metadata": {},
   "source": [
    "#### Операция матричного умножения/скалярного произведения .dot\n",
    "\n",
    "Полезна для любых операций, где требуется поэлементное перемножение элементов с их последующим суммированием. Дает существенный выигрыш в производительности."
   ]
  },
  {
   "cell_type": "code",
   "execution_count": null,
   "id": "51c5eff9",
   "metadata": {},
   "outputs": [],
   "source": [
    "# создаем две матрицы\n",
    "x = np.array([[1,2],[3,4]])\n",
    "y = np.array([[5,6],[7,8]])\n",
    "\n",
    "# и два вектора\n",
    "v = np.array([9,10])\n",
    "w = np.array([11, 12])\n",
    "\n",
    "# Скалярное произведение векторов; оба выражения дают 219\n",
    "print(v.dot(w))\n",
    "print(np.dot(v, w))\n",
    "print()\n",
    "\n",
    "# Умножение матрицы на вектор, оба выражения возвращают вектор [29 67]\n",
    "print(np.dot(x, v))\n",
    "print()\n",
    "\n",
    "# Умножение матриц, в итоге получаем\n",
    "# [[19 22]\n",
    "#  [43 50]]\n",
    "print(np.dot(x, y))"
   ]
  },
  {
   "cell_type": "markdown",
   "id": "d17644c4",
   "metadata": {},
   "source": [
    "#### ‼️ Как надо и как не надо пользоваться numpy\n",
    "\n",
    "Использование numpy неэффективно, если объекты numpy обрабатывать вне самого numpy. Подходите к данным как к векторам и матрицам, обрабатывайте их эффективно!"
   ]
  },
  {
   "cell_type": "code",
   "execution_count": null,
   "id": "a5ac0dd8",
   "metadata": {},
   "outputs": [],
   "source": [
    "# На примере задачи \"получить сумму  квадратов натуральных чисел от 0 до 10000\"\n",
    "# чистый python:\n",
    "n = 10000\n",
    "%timeit -n200 x = sum(x*x for x in range(n))\n",
    "\n",
    "# наивный numpy - хуже чистого Python'а\n",
    "na = np.arange(n)\n",
    "%timeit -n200 x = sum(na*na)\n",
    "\n",
    "# векторизованный numpy\n",
    "%timeit -n200 x = np.dot(na, na)"
   ]
  },
  {
   "cell_type": "markdown",
   "id": "3b55c85c",
   "metadata": {},
   "source": [
    "### Загрузка данных в pandas\n",
    "\n",
    "Pandas (PANel Data AnalysiS) - библиотека для работы с __табличными__ данными и наш основной контейнер для данных в этом курсе. При работе с ```pandas``` мы будем иметь дело с двумя основными объектами:\n",
    "- ```pd.DataFrame``` - \"каркас для данных\", таблица\n",
    "- ```pd.Series``` - столбец (или, в некоторых случаях, строка) в таблице.\n",
    "\n",
    "Рассмотрим загрузку данных из различных источников:\n",
    "\n",
    "1. Загрузка данных из модуля datasets библиотеки sklearn на примере датасета \"Ирисы Фишера\""
   ]
  },
  {
   "cell_type": "code",
   "execution_count": null,
   "id": "f8bbdb0d",
   "metadata": {},
   "outputs": [],
   "source": [
    "from sklearn import datasets\n",
    "\n",
    "iris = datasets.load_iris()\n",
    "iris"
   ]
  },
  {
   "cell_type": "markdown",
   "id": "6bf925fd",
   "metadata": {},
   "source": [
    "Для решения задач машинного обучения нам нужно сформировать набор определяющих признаков ```X``` и набор результируюих признаков ```y```:"
   ]
  },
  {
   "cell_type": "code",
   "execution_count": null,
   "id": "a94ee9c8",
   "metadata": {},
   "outputs": [],
   "source": [
    "X = pd.DataFrame(iris.data, columns=iris.feature_names)\n",
    "X"
   ]
  },
  {
   "cell_type": "code",
   "execution_count": null,
   "id": "18294c7a",
   "metadata": {},
   "outputs": [],
   "source": [
    "y = iris.target\n",
    "print(type(y))\n",
    "y"
   ]
  },
  {
   "cell_type": "markdown",
   "id": "d675d52e",
   "metadata": {},
   "source": [
    "#### Загрузка данных из CSV и Excel-файлов\n",
    "\n",
    "1. CSV-файлы"
   ]
  },
  {
   "cell_type": "code",
   "execution_count": null,
   "id": "c41ab67a",
   "metadata": {},
   "outputs": [],
   "source": [
    "bank = pd.read_csv('data/bank.csv')\n",
    "bank"
   ]
  },
  {
   "cell_type": "markdown",
   "id": "5d31264c",
   "metadata": {},
   "source": [
    "#### Более сложный случай, tsv-файл"
   ]
  },
  {
   "cell_type": "code",
   "execution_count": null,
   "id": "12322a29",
   "metadata": {},
   "outputs": [],
   "source": [
    "traffic = pd.read_csv('data/web_traffic.tsv', \n",
    "#                       delimiter='\\t',\n",
    "#                       index_col=0,\n",
    "#                       header=None,\n",
    "#                       names=['visitors_per_hour'],\n",
    "                    )\n",
    "traffic"
   ]
  },
  {
   "cell_type": "markdown",
   "id": "5b6b0526",
   "metadata": {},
   "source": [
    "#### Как получать данные из базы данных\n",
    "\n",
    "На примере SQlite, который входит в состав Python. Для других СУБД все аналогично."
   ]
  },
  {
   "cell_type": "code",
   "execution_count": null,
   "id": "d572ca45",
   "metadata": {},
   "outputs": [],
   "source": [
    "import sqlalchemy as sa\n",
    "\n",
    "# подготовить connection string\n",
    "conn_string = \"sqlite:///data/girls.db3\" \n",
    "\n",
    "# создать \"движок\"\n",
    "engine = sa.create_engine(conn_string, execution_options={\"sqlite_raw_colnames\": True})\n",
    "\n",
    "# получить данные\n",
    "girls = pd.read_sql_query('SELECT * FROM playboy_model', # SQL-запрос\n",
    "                          engine, # движок\n",
    "                          index_col='girl_ID')\n",
    "girls"
   ]
  },
  {
   "cell_type": "markdown",
   "id": "5496bc18",
   "metadata": {},
   "source": [
    "#### Как получать данные из таблиц Excel"
   ]
  },
  {
   "cell_type": "code",
   "execution_count": null,
   "id": "8d517e5c",
   "metadata": {},
   "outputs": [],
   "source": [
    "!conda install -y openpyxl=3.1 -c conda-forge"
   ]
  },
  {
   "cell_type": "code",
   "execution_count": null,
   "id": "1cc7e432",
   "metadata": {},
   "outputs": [],
   "source": [
    "girls_xlsx = pd.read_excel( 'data/girls.xlsx', engine='openpyxl' )\n",
    "girls_xlsx"
   ]
  },
  {
   "cell_type": "markdown",
   "id": "c50fefb5",
   "metadata": {},
   "source": [
    "### Разбиение набора данных"
   ]
  },
  {
   "cell_type": "markdown",
   "id": "ee49dcbd",
   "metadata": {},
   "source": [
    "Как получить определяющий набор данных ```X``` и результирующий набор ```y``` из загруженного датасета?\n",
    "\n",
    "1. использовать ```iloc``` и индексы, если результирующий признак в начале или в конце:"
   ]
  },
  {
   "cell_type": "code",
   "execution_count": null,
   "id": "fd777a01",
   "metadata": {},
   "outputs": [],
   "source": [
    "X = bank.iloc[:, :-1]\n",
    "y = bank.iloc[:, -1]\n",
    "print(y)\n",
    "X"
   ]
  },
  {
   "cell_type": "markdown",
   "id": "d09b618b",
   "metadata": {},
   "source": [
    "2. использовать ```loc``` и название признака"
   ]
  },
  {
   "cell_type": "code",
   "execution_count": null,
   "id": "84808dbc",
   "metadata": {},
   "outputs": [],
   "source": [
    "X = bank.loc[:, bank.columns != 'y']\n",
    "y = bank.loc[:, bank.columns == 'y']\n",
    "print(y)\n",
    "X"
   ]
  },
  {
   "cell_type": "markdown",
   "id": "be2f798f",
   "metadata": {},
   "source": [
    "Получение контрольной и тестовой выборки:"
   ]
  },
  {
   "cell_type": "code",
   "execution_count": null,
   "id": "f9f08e96",
   "metadata": {},
   "outputs": [],
   "source": [
    "from sklearn.model_selection import train_test_split\n",
    "\n",
    "X_train, X_test, y_train, y_test = train_test_split(X, y, \n",
    "                                                    test_size=0.3, \n",
    "                                                    random_state=20240318,\n",
    "                                                    stratify = y)"
   ]
  },
  {
   "cell_type": "code",
   "execution_count": null,
   "id": "decf2a37",
   "metadata": {},
   "outputs": [],
   "source": [
    "print(X.shape)\n",
    "print(X_test.shape)\n",
    "print(X_train.shape)"
   ]
  },
  {
   "cell_type": "markdown",
   "id": "e551dda4",
   "metadata": {},
   "source": [
    "#### ⁉️ Задание\n",
    "\n",
    "Загрузите датасет \"рукописные цифры\" при помощи функции ```load_digits()```, сформируйте ```X``` и ```y``` для этого набора данных, а также сделайте разбиение на тестовую и обучающую выборки в соотношении 20/80. \n",
    "\n",
    "Визуализируйте первые несколько цифр."
   ]
  },
  {
   "cell_type": "code",
   "execution_count": null,
   "id": "54dde7fc",
   "metadata": {},
   "outputs": [],
   "source": [
    "# ваш код здесь\n",
    "from sklearn.datasets import load_digits\n",
    "\n",
    "digits = load_digits()\n",
    "X = digits.data\n",
    "y = digits.target\n",
    "\n",
    "X_train, X_test, y_train, y_test = train_test_split(X, y, \n",
    "                                                    test_size=0.3, \n",
    "                                                    random_state=20240318,\n",
    "                                                   stratify = y)\n",
    "\n",
    "print(X.shape)\n",
    "print(X_test.shape)\n",
    "print(X_train.shape)"
   ]
  },
  {
   "cell_type": "markdown",
   "id": "1294365f",
   "metadata": {},
   "source": [
    "#### Машинное обучение\n",
    "\n",
    "Для решения задачи распознавания рукописных цифр будем использовать эффективный алгоритм ```RandomForestClassifier```."
   ]
  },
  {
   "cell_type": "code",
   "execution_count": null,
   "id": "9401941d",
   "metadata": {},
   "outputs": [],
   "source": [
    "from sklearn.ensemble import RandomForestClassifier\n",
    "from sklearn.metrics import accuracy_score\n"
   ]
  },
  {
   "cell_type": "code",
   "execution_count": null,
   "id": "f9048fa0",
   "metadata": {},
   "outputs": [],
   "source": [
    "forest = RandomForestClassifier(n_estimators=10, max_depth=10, n_jobs=-1) \n",
    "forest.fit(X_train,y_train)\n",
    "\n",
    "test_pred = forest.predict(X_test)\n",
    "\n",
    "print(f\"Accuracy score: {accuracy_score(y_test, test_pred)}\")\n",
    "print()"
   ]
  },
  {
   "cell_type": "code",
   "execution_count": null,
   "id": "ccd0d9ac",
   "metadata": {},
   "outputs": [],
   "source": []
  }
 ],
 "metadata": {
  "kernelspec": {
   "display_name": "Python 3 (ipykernel)",
   "language": "python",
   "name": "python3"
  },
  "language_info": {
   "codemirror_mode": {
    "name": "ipython",
    "version": 3
   },
   "file_extension": ".py",
   "mimetype": "text/x-python",
   "name": "python",
   "nbconvert_exporter": "python",
   "pygments_lexer": "ipython3",
   "version": "3.11.8"
  }
 },
 "nbformat": 4,
 "nbformat_minor": 5
}
