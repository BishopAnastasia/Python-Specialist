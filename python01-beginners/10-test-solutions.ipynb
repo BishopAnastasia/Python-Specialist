{
 "cells": [
  {
   "cell_type": "markdown",
   "metadata": {
    "deletable": true,
    "editable": true
   },
   "source": [
    "## Программирование на Python. Начальный уровень.\n",
    "\n",
    "### Занятие 10. Практика и контрольная работа\n",
    "\n",
    "Ниже приведены 5 задач. Решите их самостоятельно, используя знания, полученные в рамках этого курса. Можно (и нужно) использовать тетрадки и примеры кода оттуда.\n",
    "\n",
    "Время на выполнение задания - 1 час.\n",
    "\n",
    "После выполнения будет разбор задач с преподавателем.\n",
    "\n"
   ]
  },
  {
   "cell_type": "markdown",
   "metadata": {
    "deletable": true,
    "editable": true
   },
   "source": [
    "1. Решите несколько простых задач:"
   ]
  },
  {
   "cell_type": "code",
   "execution_count": null,
   "metadata": {
    "collapsed": false,
    "deletable": true,
    "editable": true
   },
   "outputs": [],
   "source": [
    "## даны два списка чисел, создайте список, содержащий элементы, общие для обоих списков\n",
    "list1 = [1, 7, 8, 11, 6, 6]\n",
    "list2 = [8, 12, 4, 3, 6, 6, 6]\n",
    "\n",
    "# ваш код здесь\n",
    "\n"
   ]
  },
  {
   "cell_type": "code",
   "execution_count": null,
   "metadata": {
    "collapsed": false,
    "deletable": true,
    "editable": true
   },
   "outputs": [],
   "source": [
    "## проверьте, является ли строка палиндромом\n",
    "str1 = \"abba\"\n",
    "# ваш код здесь\n",
    "\n",
    "    \n",
    "    \n"
   ]
  },
  {
   "cell_type": "code",
   "execution_count": null,
   "metadata": {
    "collapsed": true,
    "deletable": true,
    "editable": true
   },
   "outputs": [],
   "source": [
    "## извлеките из данной строки все цифры в новую строку\n",
    "str2 = \"2h29we3hask45qq17\"\n",
    "# ваш код здесь\n"
   ]
  },
  {
   "cell_type": "markdown",
   "metadata": {
    "deletable": true,
    "editable": true
   },
   "source": [
    "2. Для заданного списка напишите функцию, которая будет выполнять в нем циклические перестановки. То есть последний элемент будет вставляться на место первого, сдвигая остальной список вправо. Пользоваться удалением и вставкой в списки нельзя."
   ]
  },
  {
   "cell_type": "code",
   "execution_count": null,
   "metadata": {
    "collapsed": false,
    "deletable": true,
    "editable": true
   },
   "outputs": [],
   "source": [
    "list_ = [7, 9, 2, 1]\n",
    "\n",
    "def rotate_list( list_ ):\n",
    "    # ваш код здесь\n",
    "    \n",
    "\n",
    "for i in range(5):\n",
    "    print(list_) # [1, 7, 9, 2]\n",
    "    rotate_list(list_)\n",
    "    "
   ]
  },
  {
   "cell_type": "markdown",
   "metadata": {
    "deletable": true,
    "editable": true
   },
   "source": [
    "3. Запросите у пользователя ввод текстовой строки, затем ввод двух чисел: количество колонок и строк, в которые нужно будет поместить введенную строку в последовательности сверху вниз, справа налево. Программа должна будет вывести текст именно в таком виде. Если строка не занимает пространство полностью, заполните пропуски символом \"-\". Пробелы тоже надо заменять на \"-\". Если строка не влезает в пространство - ее нужно будет обрезать.\n",
    "\n",
    "Пример:\n",
    "```\n",
    "Введите строку: hello world\n",
    "Столбцов: 4\n",
    "Строк: 5\n",
    "\n",
    "Результат: \n",
    "h-d-\n",
    "ew--\n",
    "lo--\n",
    "lr--\n",
    "ol--\n",
    "```\n"
   ]
  },
  {
   "cell_type": "code",
   "execution_count": null,
   "metadata": {
    "collapsed": false,
    "deletable": true,
    "editable": true
   },
   "outputs": [],
   "source": [
    "str1 = \"hello world\"\n",
    "cols =  4\n",
    "rows = 5\n",
    "# ваш код здесь\n",
    "\n"
   ]
  },
  {
   "cell_type": "markdown",
   "metadata": {
    "deletable": true,
    "editable": true
   },
   "source": [
    "4. Упорядочьте заданный текст по убыванию дат:"
   ]
  },
  {
   "cell_type": "code",
   "execution_count": null,
   "metadata": {
    "collapsed": false,
    "deletable": true,
    "editable": true
   },
   "outputs": [],
   "source": [
    "import re\n",
    "\n",
    "str_rex = r\"(?P<month>[0-3]?[0-9])\\/(?P<day>[0-9]{1,2})\\/(?P<year>[0-9]{4})\"\n",
    "rex = re.compile(str_rex)\n",
    "\n",
    "text = \\\n",
    "\"\"\"\n",
    "День Рождения Пушкина А.С.: 05/26/1799\n",
    "Запуск первого искусственого спутника Земли: 10/07/1957\n",
    "Основание Москвы: 09/01/1147\n",
    "День смерти Высоцкого: 07/25/1980\n",
    "Основание Санкт-Петербурга: 05/27/1703\n",
    "Переход человека в гильбертово пространство: 07/03/2068\n",
    "День Рождения Исаака Ньютона: 01/04/1643\n",
    "Полет человека в космос: 04/12/1961\n",
    "Наступление Всемирной Сингулярности: 12/12/2068\n",
    "\"\"\"\n",
    "\n",
    "# ваш код здесь\n"
   ]
  },
  {
   "cell_type": "markdown",
   "metadata": {
    "deletable": true,
    "editable": true
   },
   "source": [
    "5. Напишите функцию ```file_logger( file, string )```, которая в заданный файл записывает заданную строку, и при превышении количества строк в этом файле до заданного числа N удаляет первую строку (т.е. реализует \"очередь\" или \"ротацию\" внутри файла). Решите задачу для N=4. Выведите файл на экран."
   ]
  },
  {
   "cell_type": "code",
   "execution_count": null,
   "metadata": {
    "collapsed": true,
    "deletable": true,
    "editable": true
   },
   "outputs": [],
   "source": [
    "N = 4\n",
    "def file_logger( file, string ):\n",
    "    # ваш код здесь\n",
    "    pass\n",
    "\n",
    "file_name = \"file_test.txt\"\n",
    "for i in range(N+1):\n",
    "    file_logger( file_name, input(\"Введите строку: \"))\n",
    "    \n",
    "    "
   ]
  }
 ],
 "metadata": {
  "kernelspec": {
   "display_name": "Python 3",
   "language": "python",
   "name": "python3"
  },
  "language_info": {
   "codemirror_mode": {
    "name": "ipython",
    "version": 3
   },
   "file_extension": ".py",
   "mimetype": "text/x-python",
   "name": "python",
   "nbconvert_exporter": "python",
   "pygments_lexer": "ipython3",
   "version": "3.5.9"
  }
 },
 "nbformat": 4,
 "nbformat_minor": 4
}
