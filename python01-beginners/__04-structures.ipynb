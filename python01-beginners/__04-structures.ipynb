{
 "cells": [
  {
   "cell_type": "markdown",
   "metadata": {},
   "source": [
    "# Программирование на языке Python. Уровень 1.\u000b",
    "Основы языка Python\n",
    "\n",
    "## Модуль 4. Структуры данных в Python"
   ]
  },
  {
   "cell_type": "markdown",
   "metadata": {},
   "source": [
    "### Структуры данных в Python\n",
    "\n",
    "#### Списки\n"
   ]
  },
  {
   "cell_type": "code",
   "execution_count": null,
   "metadata": {},
   "outputs": [],
   "source": [
    "# создать список\n",
    "list1 = ['a', 'b', 1, 0.5, {'James':'Brown', 'Luke':'Skywalker'}]\n",
    "#показать содержимое списка\n",
    "print(list1) # ['a', 'b', 1, 0.5, {'James': 'Brown', 'Luke': 'Skywalker'}]\n",
    "list2 = list(range(5)) # [0, 1, 2, 3, 4]\n",
    "squares = [x**2 for x in range(10)] # [0, 1, 4, 9, 16, 25, 36, 49, 64, 81]\n",
    "\n",
    "\n",
    "#добавить элемент\n",
    "list1.append('Something New') # ['a', 'b', 1, 0.5, {'Luke': 'Skywalker', 'James': 'Brown'}, 'Something New']\n",
    "#убрать последний элемент (и вернуть его)\n",
    "print(list2)\n",
    "print(list2.pop()) # [0, 1, 2, 3]\n",
    "print(list2)\n",
    "#сортировать (в порядке убывания)\n",
    "list2.sort(reverse = True)  # [3, 2, 1, 0]\n",
    "print(list2)"
   ]
  },
  {
   "cell_type": "code",
   "execution_count": null,
   "metadata": {},
   "outputs": [],
   "source": [
    "# обращение к элементам списка и срезы (slices)\n",
    "nums = list(range(5))     \n",
    "print(nums)               # выведет на экран \"[0, 1, 2, 3, 4]\"\n",
    "print(nums[2])            # выведет на экран 2-й элемент: \"2\"\n",
    "print(nums[-3])           # выведет на экран 3-й элемент с конца: \"2\"\n",
    "print(nums[2:4])          # выведет на экран срез со 2-го до 4-го: \"[2, 3]\"\n",
    "print(nums[2:])           # выведет на экран срез со 2-го и до конца: \"[2, 3, 4]\"\n",
    "print(nums[:2])           # выведет на экран срез с начала и до 2-го элемента \"[0, 1]\"\n",
    "print(nums[:])            # срез всего списка: \"[0, 1, 2, 3, 4]\"\n",
    "print(nums[::2])          # срез с шагом: каждый второй элемент: \"[0, 2, 4]\"\n",
    "print(nums[::-2])          # срез с отрицательным шагом: каждый второй элемент с конца: \"[4, 2, 0]\"\n",
    "print(nums[:-2])          # отрицательный срез, все элементы, кроме двух в конце: \"[0, 1, 2]\"\n",
    "nums[2:4] = [8, 9]        # заместит элементы со 2-го до 4-го списком [8, 9]\n",
    "print(nums)               # выведет на экран \"[0, 1, 8, 9, 4]\""
   ]
  },
  {
   "cell_type": "markdown",
   "metadata": {},
   "source": [
    "#### Практика\n",
    "\n",
    "Создайте список из квадратов натуральных чисел от 0 до 8 и выведите на экран:\n",
    "1. первый и последний элементы списка\n",
    "2. первые два элемента\n",
    "3. элементы с 3-го по 6-й\n",
    "4. последние три элемента, к которым прибавили 3"
   ]
  },
  {
   "cell_type": "code",
   "execution_count": null,
   "metadata": {},
   "outputs": [],
   "source": [
    "# ваш код здесь\n",
    "\n"
   ]
  },
  {
   "cell_type": "code",
   "execution_count": null,
   "metadata": {},
   "outputs": [],
   "source": [
    "# итерация по списку\n",
    "for num in nums: \n",
    "    print( num )\n",
    "    \n",
    "# чтобы получить индекс, обращаемся к функции enumerate()\n",
    "for i, num in enumerate(nums):\n",
    "    print( f\"{i}: {num}\" )\n",
    "\n",
    "# с помощью zip() можно склеить два списка\n",
    "questions = ['name', 'quest', 'favorite color']\n",
    "answers = ['lancelot', 'the holy grail', 'blue']\n",
    "for q, a in zip(questions, answers):\n",
    "    print('What is your {}?  It is {}.'.format(q, a))\n"
   ]
  },
  {
   "cell_type": "markdown",
   "metadata": {},
   "source": [
    "#### Массивы numpy\n",
    "\n",
    "С ними можно выполнять те же операции, что и со списками, но они предоставляют следующие преимущества:\n",
    "1. можно использовать \"векторизацию\" - умножать массивы на числа и на другие массивы\n",
    "2. можно использовать индексацию по списку и с помощью булевых масок\n",
    "3. они дают серьезный выигрыш в производительности при больших объмах данных"
   ]
  },
  {
   "cell_type": "code",
   "execution_count": null,
   "metadata": {},
   "outputs": [],
   "source": [
    "!pip3 install numpy"
   ]
  },
  {
   "cell_type": "code",
   "execution_count": null,
   "metadata": {},
   "outputs": [],
   "source": [
    "import numpy as np\n",
    "\n",
    "a = np.arange(10)\n",
    "print( a )\n",
    "b = a * 10\n",
    "print( b )\n",
    "print( b[ [1,3,5] ] )\n",
    "print( b > 20 )\n",
    "print( b[ b > 20 ] )"
   ]
  },
  {
   "cell_type": "markdown",
   "metadata": {},
   "source": [
    "#### Кортежи (tuples)\n",
    "\n",
    "Кортеж - это не просто неизменяемый список, это нечто большее. Подробнее о кортежах и их использовании мы поговорим в следующем разделе. Кортеж поддерживает те же операции на чтение, что и список. \n"
   ]
  },
  {
   "cell_type": "code",
   "execution_count": null,
   "metadata": {},
   "outputs": [],
   "source": [
    "tuple_1 = 'Lennon', 'McCartney', 'Harrison', 'Starr' # можно задать явно\n",
    "print(tuple_1)\n",
    "tuple_2 = tuple([1,2,3]) # можно сконвертировать из списка функцией tuple()\n",
    "print(tuple_2)"
   ]
  },
  {
   "cell_type": "code",
   "execution_count": null,
   "metadata": {},
   "outputs": [],
   "source": [
    "tuple_1.append('Ono')"
   ]
  },
  {
   "cell_type": "code",
   "execution_count": null,
   "metadata": {},
   "outputs": [],
   "source": [
    "tuple_1[0] = 'Ono'"
   ]
  },
  {
   "cell_type": "code",
   "execution_count": null,
   "metadata": {},
   "outputs": [],
   "source": [
    "# С помощью кортежей удобно инициализировать переменные:\n",
    "a, b, c, d = tuple_1\n",
    "print(f\"The Beatles are: {a}, {b}, {c}, {d}\")\n",
    "\n",
    "# Удобно менять значения переменных:\n",
    "a = 1; b = 5\n",
    "(a, b) = (b, a)\n",
    "print(f\"a: {a}, b: {b}\")\n"
   ]
  },
  {
   "cell_type": "markdown",
   "metadata": {},
   "source": [
    "#### Множества\n",
    "\n",
    "Множества – это списки, в которых значения каждого члена – уникально."
   ]
  },
  {
   "cell_type": "code",
   "execution_count": null,
   "metadata": {},
   "outputs": [],
   "source": [
    "list_beatles = ['Lennon', 'McCartney', 'Harrison', 'Starr', 'Lennon']\n",
    "list_wilburys = ['Harrison', 'Starr', 'Dylan', 'Lynn', 'Petty']\n",
    "set__ = set(list_beatles)\n",
    "set__\n",
    "\n",
    "common_members = set(list_beatles) & set(list_wilburys)\n",
    "common_members\n"
   ]
  },
  {
   "cell_type": "markdown",
   "metadata": {},
   "source": [
    "#### Словари\n",
    "\n",
    "Словарем называется совокупность пар «ключ–значение», причем каждое значение определяется своим ключом. В роли ключа теоретически может выступать любое неизменяемое значение, но как правило в роли ключа выступает либо целое число, либо строка."
   ]
  },
  {
   "cell_type": "code",
   "execution_count": null,
   "metadata": {},
   "outputs": [],
   "source": [
    "# создание словаря\n",
    "dict_1 = { 'James Brown': 'musician', 'Luke Skywalker': 'character', 'John Lennon': 'musician'} # явно\n",
    "dict_2 = dict([('sape', 4139), ('guido', 4127), ('jack', 4098)]) # из списка кортежей\n",
    "print(dict_2) # {'sape': 4139, 'guido': 4127, 'jack': 4098}\n",
    "dict_3 = {x: x**2 for x in (2, 4, 6)} # с помощью цикла\n",
    "\n",
    "# добавление в словарь\n",
    "dict_1['Colin Firth'] = 'actor'\n",
    "\n",
    "# итерация по словарю выполняется через метод items()\n",
    "for key, value in dict_1.items():\n",
    "    print(f\"{key} {value}\")\n",
    "    \n",
    "# список ключей - метод keys()\n",
    "print(dict_1.keys()) # вернет объект dict_keys(['James', 'Luke', 'Colin'])\n",
    "print(list(dict_1.keys())) # здесь вернет список\n",
    "\n",
    "# удалить элемент\n",
    "del dict_1['Luke']\n",
    "print(dict_1)\n",
    "\n",
    "# \"срезы\" в словарях делать нельзя\n",
    "print(dict_1[:-1]) # будет ошибка unhashable type: 'slice'\n",
    "\n",
    "# Но -1 может быть ключем в словаре!\n",
    "dict_1[-1] = \"Garbage\"\n",
    "print(dict_1[-1]) "
   ]
  },
  {
   "cell_type": "markdown",
   "metadata": {},
   "source": [
    "#### __ПРАКТИКА__\n",
    "\n"
   ]
  },
  {
   "cell_type": "markdown",
   "metadata": {},
   "source": [
    "1. Добавьте в словарь ```dict_1``` музыкантов Elvis Presley, актера Keanu Reeves и персонажа Garry Potter. Создайте словарь, который бы содержал списки музыкантов, персонажей и актеров из ```dict_1```."
   ]
  },
  {
   "cell_type": "code",
   "execution_count": null,
   "metadata": {},
   "outputs": [],
   "source": [
    "dict_1 = { 'James Brown': 'musician', 'Luke Skywalker': 'character', 'John Lennon': 'musician'}\n",
    "\n",
    "# ваш код здесь"
   ]
  },
  {
   "cell_type": "markdown",
   "metadata": {},
   "source": [
    "2. Постройте гистограмму по значениям из заданного списка длиной 10, наполненного значениями от 0 до 10. Для заполнения используйте символ \"O\""
   ]
  },
  {
   "cell_type": "code",
   "execution_count": null,
   "metadata": {},
   "outputs": [],
   "source": [
    "list = [0,1,1,2,7,4,3,2,1,0]\n",
    "\n",
    "# ваш код здесь"
   ]
  },
  {
   "cell_type": "code",
   "execution_count": null,
   "metadata": {},
   "outputs": [],
   "source": []
  }
 ],
 "metadata": {
  "kernelspec": {
   "display_name": "Python 3",
   "language": "python",
   "name": "python3"
  },
  "language_info": {
   "codemirror_mode": {
    "name": "ipython",
    "version": 3
   },
   "file_extension": ".py",
   "mimetype": "text/x-python",
   "name": "python",
   "nbconvert_exporter": "python",
   "pygments_lexer": "ipython3",
   "version": "3.7.9"
  }
 },
 "nbformat": 4,
 "nbformat_minor": 4
}
