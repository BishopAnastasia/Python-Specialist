{
 "cells": [
  {
   "cell_type": "markdown",
   "metadata": {},
   "source": [
    "# Программирование на языке Python. Уровень 1.\u000b",
    "Основы языка Python\n",
    "\n",
    "## Модуль 9. Элементы функционального программирования, практика\n",
    "\n",
    "Из материалов курса мы помним, что функция:\n",
    "- может быть сохранена в переменной или структуре данных; \n",
    "- может быть передана в другую функцию как аргумент; \n",
    "- может быть возвращена из функции как результат; \n",
    "- может быть создана во время выполнения программы; \n",
    "- не должна зависеть от именования. \n",
    "\n",
    "Рассмотрим наиболее частые случаи специфичного применения функций в python.\n",
    "\n",
    "- функции как переменные:\n",
    "    - функция - конструктор;\n",
    "    - что такое замыкание;\n",
    "    - что такое каррирование;\n",
    "    - что такое декораторы.\n",
    "\n"
   ]
  },
  {
   "cell_type": "markdown",
   "metadata": {},
   "source": [
    "### Функция - конструктор\n",
    "\n",
    "Функция может возвращать не только какие-либо значения, но и другую функцию. Это часто встречается, например, в библиотеках машинного обучения ```sklearn``` и ```keras```.\n",
    "\n",
    "Рассмотрим пример функции, которая создает линейную функцию:"
   ]
  },
  {
   "cell_type": "code",
   "execution_count": null,
   "metadata": {},
   "outputs": [],
   "source": [
    "def linear_builder(k, b): \n",
    "    def helper(x): \n",
    "        return k * x + b \n",
    "    return helper\n",
    "\n",
    "linear = linear_builder(1, 2)\n",
    "\n",
    "print(linear(-2))\n",
    "print(linear(-1))\n",
    "print(linear(0))\n",
    "print(linear(1))\n",
    "print(linear(2))"
   ]
  },
  {
   "cell_type": "markdown",
   "metadata": {},
   "source": [
    "### Функция - замыкание\n",
    "\n",
    "Замыкание (closure) — функция, которая находится внутри другой функции и ссылается на переменные, объявленные в теле внешней функции (свободные переменные).\n",
    "\n",
    "Внутренняя функция создается каждый раз во время выполнения внешней. Каждый раз при вызове внешней функции происходит создание нового экземпляра внутренней функции, с новыми ссылками на переменные внешней функции.\n",
    "\n",
    "Ссылки на переменные внешней функции действительны внутри вложенной функции до тех пор, пока работает вложенная функция, даже если внешняя функция закончила работу, и переменные вышли из области видимости.\n",
    "\n",
    "Например, функция ```helper()``` внутри ```linear_builder()``` - это замыкание. Переменная ```b_```, заданная в функции ```linear_builder()``` будет использоваться внутри функции ```helper()``` пока существуют функции, порожденные функцией ```linear_builder()```, и у каждой такой функции будут свои значения ```k``` и ```b```."
   ]
  },
  {
   "cell_type": "code",
   "execution_count": null,
   "metadata": {},
   "outputs": [],
   "source": [
    "def linear_builder(k, b=None): \n",
    "    b_ = b if b is not None else 100\n",
    "    def helper(x): \n",
    "        print('k, b_:', k, b_)\n",
    "        return k * x + b_ \n",
    "    return helper\n",
    "\n",
    "linear_5 = linear_builder(5)\n",
    "print(linear_5(0))\n",
    "\n",
    "linear_1_8 = linear_builder(1, 8)\n",
    "print(linear_1_8(0))\n",
    "\n",
    "print(linear_5(1))\n",
    "print(linear_5(100500))\n",
    "\n",
    "print(linear_1_8(1))\n",
    "print(linear_1_8(100500))"
   ]
  },
  {
   "cell_type": "markdown",
   "metadata": {},
   "source": [
    "### Каррирование\n",
    "\n",
    "Каррирование - это перевод функций, принимающих набор параметров ```f(x_1, x_2, .., x_n)``` в набор последовательно вызываемых функций ```f(x_1)(x_2)...(x_n)```. Этот прием бывает полезен при возможном частичном использовании функций."
   ]
  },
  {
   "cell_type": "code",
   "execution_count": null,
   "metadata": {},
   "outputs": [],
   "source": [
    "def f_add(x_1, x_2, x_3):\n",
    "    return x_1 + x_2 + x_3\n",
    "\n",
    "def f_add_curry(x_1):\n",
    "    def helper_1(x_2):\n",
    "        def helper_2(x_3):\n",
    "            return x_1 + x_2 + x_3\n",
    "        return helper_2\n",
    "    return helper_1\n",
    "\n",
    "\n",
    "print(f_add(2,2,0))\n",
    "print(f_add_curry(2)(2)(0))\n",
    "\n",
    "fn_2_plus_2_plus_smth = f_add_curry(2)(2)\n",
    "fn_2_plus_2_plus_smth(0)"
   ]
  },
  {
   "cell_type": "markdown",
   "metadata": {},
   "source": [
    "### Декораторы\n",
    "\n",
    "Декораторы - это \"обертки\" для выполнения рутинных операций при вызове функций (например, препроцессинга, постпроцессинга или контроля входных данных), для них существует специальная синтаксическая конструкция.\n",
    "\n",
    "Предположим, что в нашем проекте нам необходимо перед вызовом и после вызова ряда функций печатать информационные сообщения. Добавлять код, печатающий эти сообщения в каждую функцию - это нарушение правила DRY (Don't Repeat Yourself). Можно прибегнуть к замыканиям и написать вот такую функцию:\n",
    "\n"
   ]
  },
  {
   "cell_type": "code",
   "execution_count": null,
   "metadata": {},
   "outputs": [],
   "source": [
    "def info_print(fn):\n",
    "    def fn_to_ret( *args, **kwargs ):\n",
    "        print('Before the call ...')\n",
    "        fn( *args, **kwargs )\n",
    "        print('After the call ...')\n",
    "    return fn_to_ret\n",
    "\n",
    "def fn_test1():\n",
    "    print('Hi from fn_test1')\n",
    "    \n",
    "info_print(fn_test1)() # так себе конструкция\n",
    "\n",
    "print('---')\n",
    "\n",
    "fn_test1_pre_post = info_print(fn_test1)\n",
    "\n",
    "fn_test1_pre_post() # тоже не очень\n",
    "\n",
    "print('---')\n",
    "\n",
    "@info_print\n",
    "def fn_test2():\n",
    "    print('Hi from fn_test2')\n",
    "    \n",
    "fn_test2()"
   ]
  },
  {
   "cell_type": "markdown",
   "metadata": {},
   "source": [
    "### Парадигма map/reduce\n",
    "\n",
    "\"Разбить, обработать данные, собрать\". Несмотря на отмирание функционального программирования в чистом виде, эта парадигма сегодня снова стала актуальной, особенно в области анализа больших данных. Благодаря ей можно организовывать распределенные вычисления, например, в задачах машинного обучения. Это делается более продвинутыми средствами (не базовыми средствами python, а, к примеру, Apache Spark). Тем не менее, реализация map/reduce в python позволяет распараллелить вычисления на несколько потоков в рамках одного компьютера (сервера).\n",
    "\n",
    "Функция ```map(func, *iterables)``` применяет функцию ```func()``` ко всем элементам ```iterables``` и возвращает итерируемый объект, который состоит из преобразованных элементов. Этот объект можно \"прокрутить\" в цикле ```for ... in ...``` или превратить в список функцией ```list()```."
   ]
  },
  {
   "cell_type": "code",
   "execution_count": null,
   "metadata": {},
   "outputs": [],
   "source": [
    "dict_ = { 'James Brown': 'musician', \n",
    "          'Luke Skywalker': 'character', \n",
    "          'John Lennon': 'musician',\n",
    "          'Duke Ellington': 'musician',\n",
    "          'Cinderella': 'character'\n",
    "         }\n",
    "\n",
    "mapped = map(lambda name: f\"{name}, {dict_[name]}\", dict_)\n",
    "\n",
    "print(type(mapped))\n",
    "\n",
    "for x in mapped:\n",
    "    print(x)\n",
    "    \n",
    "print(list(mapped)) # пустой список! \n",
    "# чтобы работать полученными данными как со списком, сразу преобразуйте map в список и запишите его в переменную"
   ]
  },
  {
   "cell_type": "markdown",
   "metadata": {},
   "source": [
    "Функция ```filter(func, *iterables)``` формирует итерируемый объект из тех позиций ```iterables```, для которых функция ```func()``` вернула ```True```."
   ]
  },
  {
   "cell_type": "code",
   "execution_count": null,
   "metadata": {},
   "outputs": [],
   "source": [
    "filtered = filter(lambda name: dict_[name]=='musician', dict_)\n",
    "print(list(filtered))\n",
    "print(list(filtered)) # то же самое происходит с объектом filter - он \"исчерпывается\""
   ]
  },
  {
   "cell_type": "markdown",
   "metadata": {},
   "source": [
    "Функция ```reduce(func, iterable[, initial])``` реализует кумулятивные вычисления на базе функции ```func(x_1, x_2)```. Эта функция принимает два значения: первое - уже вычисленное функцией ```reduce()```, второе - текущий элемент из ```iterable```. В начале цикла ```reduce()``` берет либо значение ```initial```, а если он не указан - первый элемент из ```iterable```."
   ]
  },
  {
   "cell_type": "code",
   "execution_count": null,
   "metadata": {},
   "outputs": [],
   "source": [
    "from functools import reduce\n",
    "\n",
    "def collect_musicians(list_, name_role):\n",
    "    name, role = name_role\n",
    "    if role=='musician':\n",
    "        list_.append(name)\n",
    "    return list_\n",
    "    \n",
    "\n",
    "musicians = reduce(collect_musicians, dict_.items(), [])\n",
    "print(musicians)\n",
    "print(type(musicians))"
   ]
  },
  {
   "cell_type": "markdown",
   "metadata": {},
   "source": [
    "#### ПРАКТИКА\n",
    "\n",
    "Выполните следущие задачи в \"клетках\" данной тетради.\n",
    "\n",
    "1. Простейшие задачи. Используйте переменные, импорт модуля math, циклы и функции."
   ]
  },
  {
   "cell_type": "code",
   "execution_count": null,
   "metadata": {},
   "outputs": [],
   "source": [
    "# выведите число \"Пи\"\n",
    "\n",
    "# посчитайте длину окружности и площадь круга радиусом 5 см, выведите ответ в дружественной форме\n",
    "\n",
    "# посчитайте площадь квадрата, вписанного в этот круг, выведите ответ в дружественной форме\n",
    "\n",
    "# создайте список действительных чисел от 5 до 7 с шагом 0.05\n",
    "\n",
    "# посчитайте длины окружностей, площади кругов и площади квадратов, которые можно вписать в эти круги\n",
    "# для всех элементов этого списка\n",
    "\n",
    "# выведите ответ в виде таблицы\n"
   ]
  },
  {
   "cell_type": "markdown",
   "metadata": {},
   "source": [
    "2. Напишите программу, которая преобразует в сантиметры значения в футах и дюймах, которые пользователь задает в виде строки &lt;ft&gt;'&lt;in&gt;\\\" (кол-во футов, символ одинарных кавычек, кол-во дюймов, символ двойных кавычек), например, 5\\'8\\\", 3\\'2\\\""
   ]
  },
  {
   "cell_type": "code",
   "execution_count": null,
   "metadata": {},
   "outputs": [],
   "source": [
    "# ваш код здесь\n"
   ]
  },
  {
   "cell_type": "markdown",
   "metadata": {},
   "source": [
    "3. Постройте горизонтальную гистограмму по значениям из заданного списка длиной 10. Для заполнения используйте символ \"O\""
   ]
  },
  {
   "cell_type": "code",
   "execution_count": null,
   "metadata": {},
   "outputs": [],
   "source": [
    "list_ = [0,1,1,2,7,4,3,2,1,0]\n",
    "\n",
    "# ваш код здесь"
   ]
  },
  {
   "cell_type": "markdown",
   "metadata": {},
   "source": [
    "4. ...а теперь постройте вертикальную гистограмму для этого списка"
   ]
  },
  {
   "cell_type": "code",
   "execution_count": null,
   "metadata": {},
   "outputs": [],
   "source": [
    "# ваш код здесь"
   ]
  },
  {
   "cell_type": "markdown",
   "metadata": {},
   "source": [
    "5. Получите список всех хештегов, упомянутых в тексте."
   ]
  },
  {
   "cell_type": "code",
   "execution_count": null,
   "metadata": {},
   "outputs": [],
   "source": [
    "text = \"\"\"\n",
    "Этот #пост создан для того, чтобы его #лайк'али. \n",
    "Посмотрите, какая красивая фотография #котик'а. \n",
    "Какой он #Мягкий_и_Пушистый!\n",
    "Пройдите #опрос, он у нас посвящен #кот'ам.\n",
    "Всем #чао! ###\n",
    "\"\"\"\n",
    "\n",
    "re_tag = re.compile(r\"\\#[\\w]+\")\n",
    "# ваш код здесь\n"
   ]
  }
 ],
 "metadata": {
  "kernelspec": {
   "display_name": "Python 3",
   "language": "python",
   "name": "python3"
  },
  "language_info": {
   "codemirror_mode": {
    "name": "ipython",
    "version": 3
   },
   "file_extension": ".py",
   "mimetype": "text/x-python",
   "name": "python",
   "nbconvert_exporter": "python",
   "pygments_lexer": "ipython3",
   "version": "3.7.9"
  }
 },
 "nbformat": 4,
 "nbformat_minor": 4
}
