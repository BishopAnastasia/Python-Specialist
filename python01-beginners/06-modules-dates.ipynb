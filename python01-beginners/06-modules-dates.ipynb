{
 "cells": [
  {
   "cell_type": "markdown",
   "metadata": {
    "deletable": true,
    "editable": true
   },
   "source": [
    "# Программирование на языке Python. Уровень 1.\u000b",
    "Основы языка Python\n",
    "\n",
    "## Модуль 6. Работа с внешними модулями (packages) в Python\n",
    "\n",
    "Модули подключаются командой import.\n",
    "\n",
    "```python \n",
    "# собственно импорт модуля \n",
    "import  <name_module>\n",
    "\n",
    "# вызов функции из этого модуля\n",
    "<name_module>.func_from_module()\n",
    "```\n",
    "\n",
    "Использование команды from импортирует переменные в режиме read-only. Ниже - импорт всех переменных:\n",
    "```python\n",
    "from <name_module> import * # !!! никогда так не делайте!\n",
    "func_from_module()\n",
    "```\n",
    "\n",
    "Можно импортировать только одну функцию:\n",
    "```python\n",
    "from <name_module> import func_from_module\n",
    "x = func_from_module()\n",
    "```\n",
    "\n",
    "... или класс\n",
    "```python\n",
    "from <name_module> import class_from_module\n",
    "o = class_from_module()\n",
    "o.method_of_class_from_module()\n",
    "```\n",
    "\n",
    "Можно импортировать несколько переменных:\n",
    "```python\n",
    "from <name_module> import func1_from_module, func2_from_module\n",
    "func1_from_module()\n",
    "...\n",
    "func2_from_module()\n",
    "```\n",
    "\n",
    "Можно импортировать переменную с алиасом:\n",
    "```python\n",
    "from <name_module> import func1_from_module as fn1\n",
    "fn1()\n",
    "```\n",
    "\n",
    "\n",
    "Можно импортировать весь модуль с алиасом (для сокращения кода):\n",
    "```python\n",
    "import numpy as np\n",
    "x = np.array()\n",
    "```"
   ]
  },
  {
   "cell_type": "code",
   "execution_count": 12,
   "metadata": {
    "collapsed": false,
    "deletable": true,
    "editable": true
   },
   "outputs": [
    {
     "name": "stdout",
     "output_type": "stream",
     "text": [
      "3.141592653589793\n",
      "3\n"
     ]
    }
   ],
   "source": [
    "from math import *\n",
    "print(pi)\n",
    "pi = 3\n",
    "print(pi)"
   ]
  },
  {
   "cell_type": "markdown",
   "metadata": {
    "deletable": true,
    "editable": true
   },
   "source": [
    "#### Как посмотреть, где Python ищет модули (если возникает ошибка \"No module named 'some_module'\")"
   ]
  },
  {
   "cell_type": "code",
   "execution_count": 4,
   "metadata": {
    "collapsed": false,
    "deletable": true,
    "editable": true
   },
   "outputs": [
    {
     "name": "stdout",
     "output_type": "stream",
     "text": [
      "['/Users/ise/Documents/Specialist/Python1-practice-draft', '/Library/Frameworks/Python.framework/Versions/3.7/lib/python37.zip', '/Library/Frameworks/Python.framework/Versions/3.7/lib/python3.7', '/Library/Frameworks/Python.framework/Versions/3.7/lib/python3.7/lib-dynload', '', '/Users/ise/Documents/Works/yusen/htdocs/budget/intrapy/.venv/lib/python3.7/site-packages', '/Users/ise/Documents/Works/yusen/htdocs/budget/intrapy/.venv/lib/python3.7/site-packages/IPython/extensions', '/Users/ise/.ipython']\n"
     ]
    }
   ],
   "source": [
    "import sys\n",
    "print(sys.path)"
   ]
  },
  {
   "cell_type": "markdown",
   "metadata": {
    "deletable": true,
    "editable": true
   },
   "source": [
    "#### Как посмотреть установленные пакеты из Python/Jupyter"
   ]
  },
  {
   "cell_type": "code",
   "execution_count": 9,
   "metadata": {
    "collapsed": false,
    "deletable": true,
    "editable": true
   },
   "outputs": [
    {
     "name": "stdout",
     "output_type": "stream",
     "text": [
      "\n",
      "Please wait a moment while I gather a list of all available modules...\n",
      "\n"
     ]
    },
    {
     "name": "stderr",
     "output_type": "stream",
     "text": [
      "/Users/ise/Documents/Works/yusen/htdocs/budget/intrapy/.venv/lib/python3.7/site-packages/IPython/kernel/__init__.py:13: ShimWarning: The `IPython.kernel` package has been deprecated since IPython 4.0.You should import from ipykernel or jupyter_client instead.\n",
      "  \"You should import from ipykernel or jupyter_client instead.\", ShimWarning)\n",
      "/Library/Frameworks/Python.framework/Versions/3.7/lib/python3.7/pkgutil.py:92: MatplotlibDeprecationWarning: \n",
      "The matplotlib.compat module was deprecated in Matplotlib 3.3 and will be removed two minor releases later.\n",
      "  __import__(info.name)\n"
     ]
    },
    {
     "name": "stdout",
     "output_type": "stream",
     "text": [
      "IPython             asyncio             ipykernel_launcher  reprlib\n",
      "MySQLdb             asyncore            ipython_genutils    requests\n",
      "PIL                 atexit              ipywidgets          resource\n",
      "__future__          attr                itertools           rlcompleter\n",
      "_abc                audioop             itsdangerous        rmagic\n",
      "_ast                autoreload          jedi                runpy\n",
      "_asyncio            backcall            jinja2              sched\n",
      "_bisect             base64              json                secrets\n",
      "_blake2             bdb                 jsonschema          select\n",
      "_bootlocale         binascii            jupyter             selectors\n",
      "_bz2                binhex              jupyter_client      send2trash\n",
      "_cffi_backend       bisect              jupyter_console     setuptools\n",
      "_codecs             bleach              jupyter_core        shelve\n",
      "_codecs_cn          builtins            keyword             shlex\n",
      "_codecs_hk          bz2                 kiwisolver          shutil\n",
      "_codecs_iso2022     cProfile            lib2to3             signal\n",
      "_codecs_jp          calendar            libfuturize         site\n",
      "_codecs_kr          certifi             libpasteurize       six\n",
      "_codecs_tw          cffi                linecache           smtpd\n",
      "_collections        cgi                 locale              smtplib\n",
      "_collections_abc    cgitb               logging             sndhdr\n",
      "_compat_pickle      chardet             lzma                socket\n",
      "_compression        chunk               macpath             socketserver\n",
      "_contextvars        click               mailbox             sqlalchemy\n",
      "_crypt              cmath               mailcap             sqlite3\n",
      "_csv                cmd                 markupsafe          sre_compile\n",
      "_ctypes             code                marshal             sre_constants\n",
      "_ctypes_test        codecs              math                sre_parse\n",
      "_curses             codeop              matplotlib          ssl\n",
      "_curses_panel       collections         mimetypes           stat\n",
      "_datetime           colorsys            mistune             statistics\n",
      "_dbm                compileall          mmap                storemagic\n",
      "_decimal            concurrent          modulefinder        string\n",
      "_dummy_thread       configparser        multiprocessing     stringprep\n",
      "_elementtree        contextlib          mysql               struct\n",
      "_functools          contextvars         mysqlx              subprocess\n",
      "_hashlib            copy                nbconvert           sunau\n",
      "_heapq              copyreg             nbformat            symbol\n",
      "_imp                crypt               netrc               sympyprinting\n",
      "_io                 csv                 nis                 symtable\n",
      "_json               ctypes              nntplib             sys\n",
      "_locale             curses              notebook            sysconfig\n",
      "_lsprof             cycler              ntpath              syslog\n",
      "_lzma               cythonmagic         nturl2path          tabnanny\n",
      "_markupbase         dataclasses         numbers             tarfile\n",
      "_md5                datetime            numpy               telnetlib\n",
      "_multibytecodec     dateutil            opcode              tempfile\n",
      "_multiprocessing    dbm                 operator            terminado\n",
      "_opcode             decimal             optparse            termios\n",
      "_operator           decorator           os                  test\n",
      "_osx_support        defusedxml          packaging           testpath\n",
      "_pickle             difflib             pandas              tests\n",
      "_posixsubprocess    dis                 pandocfilters       textwrap\n",
      "_py_abc             distutils           parser              this\n",
      "_pydecimal          doctest             parso               threading\n",
      "_pyio               dummy_threading     past                time\n",
      "_pyrsistent_version easy_install        pathlib             timeit\n",
      "_queue              email               pdb                 tkinter\n",
      "_random             encodings           pexpect             token\n",
      "_scproxy            ensurepip           pickle              tokenize\n",
      "_sha1               entrypoints         pickleshare         tornado\n",
      "_sha256             enum                pickletools         trace\n",
      "_sha3               errno               pip                 traceback\n",
      "_sha512             faulthandler        pipes               tracemalloc\n",
      "_signal             fcntl               pkg_resources       traitlets\n",
      "_sitebuiltins       filecmp             pkgutil             tty\n",
      "_socket             fileinput           platform            turtle\n",
      "_sqlite3            flask               plistlib            turtledemo\n",
      "_sre                fnmatch             poplib              types\n",
      "_ssl                formatter           posix               typing\n",
      "_stat               fractions           posixpath           unicodedata\n",
      "_string             ftplib              pprint              unittest\n",
      "_strptime           functools           profile             urllib\n",
      "_struct             future              prometheus_client   urllib3\n",
      "_symtable           gc                  prompt_toolkit      uu\n",
      "_sysconfigdata_m_darwin_darwin genericpath         pstats              uuid\n",
      "_testbuffer         getopt              pty                 uwsgidecorators\n",
      "_testcapi           getpass             ptyprocess          venv\n",
      "_testimportmultiple gettext             pvectorc            warnings\n",
      "_testmultiphase     glob                pwd                 wave\n",
      "_thread             grp                 py_compile          wcwidth\n",
      "_threading_local    gzip                pyclbr              weakref\n",
      "_tkinter            hashlib             pycparser           webbrowser\n",
      "_tracemalloc        heapq               pydoc               webencodings\n",
      "_uuid               hmac                pydoc_data          werkzeug\n",
      "_warnings           html                pyexpat             widgetsnbextension\n",
      "_weakref            http                pygments            wsgiref\n",
      "_weakrefset         idlelib             pylab               xdrlib\n",
      "_xxtestfuzz         idna                pyparsing           xml\n",
      "abc                 imaplib             pyrsistent          xmlrpc\n",
      "aifc                imghdr              pytz                xxlimited\n",
      "antigravity         imp                 qtconsole           xxsubtype\n",
      "appnope             importlib           qtpy                zipapp\n",
      "argon2              importlib_metadata  queue               zipfile\n",
      "argparse            inspect             quopri              zipimport\n",
      "array               io                  random              zipp\n",
      "ast                 ipaddress           re                  zlib\n",
      "asynchat            ipykernel           readline            zmq\n",
      "\n",
      "Enter any module name to get more help.  Or, type \"modules spam\" to search\n",
      "for modules whose name or summary contain the string \"spam\".\n",
      "\n"
     ]
    },
    {
     "name": "stderr",
     "output_type": "stream",
     "text": [
      "/Library/Frameworks/Python.framework/Versions/3.7/lib/python3.7/pkgutil.py:107: VisibleDeprecationWarning: zmq.eventloop.minitornado is deprecated in pyzmq 14.0 and will be removed.\n",
      "    Install tornado itself to use zmq with the tornado IOLoop.\n",
      "    \n",
      "  yield from walk_packages(path, info.name+'.', onerror)\n"
     ]
    }
   ],
   "source": [
    "help(\"modules\")"
   ]
  },
  {
   "cell_type": "markdown",
   "metadata": {
    "deletable": true,
    "editable": true
   },
   "source": [
    "### Дата и время\n",
    "\n",
    "Модуль для работы с датами - ```datetime```.\n",
    "\n",
    "В нем следующие классы:\n",
    "- datetime.date\n",
    "- datetime.timedelta\n",
    "- datetime.datetime\n",
    "\n",
    "Ориентируемся на ISO-стандарт хранения даты и времени в виде текстовой строки: ```YYYY-MM-DD HH:MM:SS.mmm```.\n",
    "\n",
    "Этот старндарт используется в SQL, JavaScript и других языках программирования, принимается множеством API.\n",
    "\n",
    "Для создания даты из такой строки используйте метод ```datetime.fromisoformat()```.\n",
    "Сохранить дату в ISO-формате: ```datetime.isoformat()```.\n",
    "\n",
    "Текущее местное время: ```datetime.today()```. Время по UTC: ```datetime.utcnow()```\n"
   ]
  },
  {
   "cell_type": "code",
   "execution_count": 30,
   "metadata": {
    "collapsed": false,
    "deletable": true,
    "editable": true
   },
   "outputs": [
    {
     "name": "stdout",
     "output_type": "stream",
     "text": [
      "1601313073.735151\n",
      "2020-09-28T20:11:13.735151\n",
      "1970-01-01T03:00:00\n",
      "2020-09-28\n",
      "1961-04-12\n"
     ]
    }
   ],
   "source": [
    "from datetime import datetime\n",
    "from datetime import date\n",
    "from datetime import timedelta\n",
    "\n",
    "now = datetime.today()\n",
    "print(now.timestamp())\n",
    "print(now.isoformat())\n",
    "\n",
    "unixEpoch = datetime.fromisoformat(\"1970-01-01 03:00\")\n",
    "print(unixEpoch.isoformat())\n",
    "\n",
    "# то же самое - с датами\n",
    "today = date.today()\n",
    "print(today.isoformat())\n",
    "\n",
    "# Можно создать дату, зная месяц, год и число:\n",
    "gagarin_date = date(1961, 4, 12)\n",
    "print(gagarin_date)"
   ]
  },
  {
   "cell_type": "markdown",
   "metadata": {
    "deletable": true,
    "editable": true
   },
   "source": [
    "Преобразование дат в строку: ```datetime.strftime()```\n",
    "\n",
    "Пример преобразования в строку в соответствии с ISO-форматом:\n",
    "```somedate.strftime('%Y-%m-%d %H:%M:%S')```\n",
    "\n",
    "#### ЗАДАНИЕ. Преобразуйте сегодняшнюю дату в формат ДД.ММ.ГГГГ ЧЧ.ММ\n"
   ]
  },
  {
   "cell_type": "code",
   "execution_count": 22,
   "metadata": {
    "collapsed": false,
    "deletable": true,
    "editable": true
   },
   "outputs": [
    {
     "name": "stdout",
     "output_type": "stream",
     "text": [
      "---format\n"
     ]
    }
   ],
   "source": [
    "# замените ---format на соответствующий формат\n",
    "print(today.strftime(\"---format\"))"
   ]
  },
  {
   "cell_type": "markdown",
   "metadata": {
    "deletable": true,
    "editable": true
   },
   "source": [
    "#### Разница во времени, временные интервалы\n",
    "\n",
    "Используем класс ```timedelta```. \"Дельты\" можно складывать с датами и датой/временем, друг с другом, делить, умножать и так далее.\n"
   ]
  },
  {
   "cell_type": "code",
   "execution_count": 28,
   "metadata": {
    "collapsed": false,
    "deletable": true,
    "editable": true
   },
   "outputs": [
    {
     "name": "stdout",
     "output_type": "stream",
     "text": [
      "2020-12-02T03:52:40.658912\n"
     ]
    }
   ],
   "source": [
    "delta = timedelta(\n",
    "    days=50,\\\n",
    "    seconds=27,\\\n",
    "    microseconds=10,\\\n",
    "    milliseconds=29000,\\\n",
    "    minutes=5,\\\n",
    "    hours=8,\\\n",
    "    weeks=2\\\n",
    ")\n",
    "\n",
    "now_plus_delta = now + delta\n",
    "print(now_plus_delta.isoformat())\n"
   ]
  },
  {
   "cell_type": "markdown",
   "metadata": {
    "deletable": true,
    "editable": true
   },
   "source": [
    "#### ПРАКТИКА\n",
    "\n",
    "1. Выведите на экран 10 дат, которые соответствуют текущей + 10 дней.\n",
    "\n",
    "2. Выведите на экран 10 значений времени, отстающих от текущего на 15 минут."
   ]
  },
  {
   "cell_type": "code",
   "execution_count": null,
   "metadata": {
    "collapsed": true,
    "deletable": true,
    "editable": true
   },
   "outputs": [],
   "source": []
  }
 ],
 "metadata": {
  "kernelspec": {
   "display_name": "Python 3",
   "language": "python",
   "name": "python3"
  },
  "language_info": {
   "codemirror_mode": {
    "name": "ipython",
    "version": 3
   },
   "file_extension": ".py",
   "mimetype": "text/x-python",
   "name": "python",
   "nbconvert_exporter": "python",
   "pygments_lexer": "ipython3",
   "version": "3.5.9"
  }
 },
 "nbformat": 4,
 "nbformat_minor": 4
}
