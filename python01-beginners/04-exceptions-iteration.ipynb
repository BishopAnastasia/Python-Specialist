{
 "cells": [
  {
   "cell_type": "markdown",
   "metadata": {},
   "source": [
    "# Программирование на языке Python. Уровень 1.\u000b",
    "Основы языка Python\n",
    "\n",
    "## Модуль 4. Обработка исключений, итераторы, генераторы\n",
    "\n"
   ]
  },
  {
   "cell_type": "markdown",
   "metadata": {},
   "source": [
    "#### Обработка исключений\n",
    "\n",
    "Исключение - некое особое событие, которое возникает при выполнении программы, и если оно не \"поймано\" - программа прекращает свою работу.\n",
    "\n",
    "Любая ошибка, возникшая во время выполнения программы является исключением, появление котрого можно обработать программно.\n",
    "\n",
    "Исключения можно не только \"ловить\" но и \"выбрасывать\" самому командой ```raise```.\n",
    "\n",
    "Исключения - удобный способ обработки ошибок и нестандартных ситуаций.\n",
    "\n",
    "Как выглядит обработка исключений:\n",
    " - попытаться (try) выполнить некоторое количество команд в блоке ``` try```\n",
    " - если в какой-либо из них произойдет сбой, то есть будет \"выброшено\" исключение, выполнение кода пректатится\n",
    " - произойдет переход в блок ```except```, в зависимости от класса исключения\n",
    " - выполнение самой программы продолжится после выполнения блока ```finally```\n",
    "\n",
    "```python\n",
    "try:\n",
    "    блок, в котором\n",
    "    мы ожидаем\n",
    "    выброса исключения\n",
    "except IndexError :\n",
    "    этот блок выполняется,\n",
    "    если было выброшено\n",
    "    исключение типа IndexError\n",
    "except ZeroDivisionError :\n",
    "    этот блок выполняется,\n",
    "    если было выброшено\n",
    "    исключение типа ZeroDivisionError\n",
    "except Exception :\n",
    "    этот блок выполняется,\n",
    "    если было выброшено\n",
    "    исключение ЛЮБОГО ТИПА, не \"пойманное\" ранее\n",
    "else:\n",
    "    этот блок выполняется,\n",
    "    если никакого исключения\n",
    "    выброшено не было\n",
    "finally:\n",
    "    этот блок выполняется\n",
    "    независимо от того,\n",
    "    выброшено исключение\n",
    "    или нет\n",
    "\n",
    "```"
   ]
  },
  {
   "cell_type": "code",
   "execution_count": null,
   "metadata": {},
   "outputs": [],
   "source": [
    "def NOD( A, B ):\n",
    "    \"\"\"\n",
    "    Вычисление наибольшего общего делителя чисел A и B\n",
    "    \"\"\"\n",
    "    if A < B :\n",
    "        ( A, B ) = ( B, A )\n",
    "    ( A, B ) = ( B, A % B )\n",
    "    while B > 0 :\n",
    "        ( A, B ) = ( B, A % B )\n",
    "    return A\n",
    "\n",
    "A = int(input(\"Введите число A: \"))\n",
    "B = int(input(\"Введите число В: \"))\n",
    "print( NOD(A,B) )"
   ]
  },
  {
   "cell_type": "code",
   "execution_count": null,
   "metadata": {},
   "outputs": [],
   "source": [
    "# теперь с исключениями\n",
    "try :\n",
    "    A = int(input(\"Введите число A: \"))\n",
    "    B = int(input(\"Введите число В: \"))\n",
    "    print( NOD(A,B) )\n",
    "    \n",
    "except ValueError :\n",
    "    print(f\"Число введено некорректно\")\n",
    "except ZeroDivisionError :\n",
    "    print(\"Попытка деления на нуль\")\n",
    "else:\n",
    "    print(\"Программа выполнена успешно\")\n",
    "finally :\n",
    "    print(\"Расчет окончен\")\n"
   ]
  },
  {
   "cell_type": "markdown",
   "metadata": {},
   "source": [
    "Распространенные типы исключений:\n",
    "\n",
    " - Exception - тип, общий для всех исключений\n",
    " - ZeroDivisionError - попытка деления на ноль\n",
    " - ValueError - попытка выполнить операцию, которую нельзя выполнить с этим значением, например, извлечь квадратный корень из отрицательного числа\n",
    " - IndexError - обращение к несуществующему элементу списка\n",
    " - KeyError - обращение к несуществующему элементу словаря\n",
    " - ImportError - ошибка импорта модуля\n",
    " - AttributeError - обращение к несуществующему атрибуту объекта\n",
    " - KeyboardInterrupt - пользователь нажал Ctrl-C на клавиатуре\n",
    " - UnicodeError - ошибка перекодирования текста\n",
    " - TypeError - недопустимый тип значения\n",
    " - IOError - ошибка ввода-вывода"
   ]
  },
  {
   "cell_type": "code",
   "execution_count": null,
   "metadata": {},
   "outputs": [],
   "source": [
    "# пробуем сами выбросить исключение\n",
    "\n",
    "def check_is_5( num ) :\n",
    "    num_int = int(num)\n",
    "    if num_int != 5:\n",
    "        raise Exception(\"Это не 5. Дайте другое число.\")\n",
    "\n",
    "num = input(\"Введите число: \")\n",
    "\n",
    "try:\n",
    "    check_is_5( num )\n",
    "    print(\"5 - это хорошо.\")\n",
    "except ValueError :\n",
    "    print(f\"Число введено некорректно: \\\"{num}\\\"\")\n",
    "except Exception as e:\n",
    "    print(e.args[0])\n"
   ]
  },
  {
   "cell_type": "markdown",
   "metadata": {},
   "source": [
    "#### Практика\n",
    "\n",
    "1. Напишите функцию, которая вычисляет среднее геометрическое двух чисел (квадратный корень из их произведения). В случае невозможности вычисления такого среднего (когда произведение чисел отрицательно) выбросите исключение. Обработайте исключение и выведите ответ в дружелюбной форме."
   ]
  },
  {
   "cell_type": "code",
   "execution_count": null,
   "metadata": {},
   "outputs": [],
   "source": [
    "# ваш код здесь"
   ]
  },
  {
   "cell_type": "markdown",
   "metadata": {},
   "source": [
    "### Итерируемые объекты и итераторы\n",
    "\n",
    "Итерируемый объект - объект, поддерживающий операцию итерации, то есть обход циклом ```for .. in ..```. Но на самом деле, ```for``` работает только с итераторами. Итератор - \"копия\" итерируемого объекта, который по мере \"обхода\" опустошается. Итерируемый объект при этом остается неизменным."
   ]
  },
  {
   "cell_type": "code",
   "execution_count": null,
   "metadata": {},
   "outputs": [],
   "source": [
    "# цикл For\n",
    "rng = range(5)\n",
    "lst = list(rng)\n",
    "for i in rng:\n",
    "    print(i)\n",
    "    \n",
    "print(type(rng))\n",
    "print(type(lst))"
   ]
  },
  {
   "cell_type": "code",
   "execution_count": null,
   "metadata": {},
   "outputs": [],
   "source": [
    "a = [1, 2] #список\n",
    "b = a.__iter__() # извлечем из него итератор\n",
    "print(a) # [1, 2]\n",
    "print(b) # <list_iterator object at 0x7f7e24c1abe0>\n",
    "print(type(a)) # <class 'list'>\n",
    "print(type(b)) # <class 'list_iterator'>"
   ]
  },
  {
   "cell_type": "markdown",
   "metadata": {},
   "source": [
    "У итератора вызывается метод ```__next__()```, который по сути перебирает элементы итерируемого объекта и возвращает их значения, пока очередь не иссякнет, то есть пока не будет выброшено исключение ```StopIteration```:"
   ]
  },
  {
   "cell_type": "code",
   "execution_count": null,
   "metadata": {},
   "outputs": [],
   "source": [
    "while True:\n",
    "    try:\n",
    "        print(b.__next__())\n",
    "    except StopIteration:\n",
    "        print(\"We're done!\")\n",
    "        break;"
   ]
  },
  {
   "cell_type": "markdown",
   "metadata": {},
   "source": [
    "Корректнее всего создавать итератор функциями ```iter()```, выполнять проход - функцией ```next()```.\n",
    "\n",
    "Можно создать свой итератор на базе класса с методами ```__iter__()``` и ```__next()___```:\n"
   ]
  },
  {
   "cell_type": "code",
   "execution_count": null,
   "metadata": {},
   "outputs": [],
   "source": [
    "from random import random\n",
    " \n",
    "# итератор, который генерирует последовательность чисел, где каждое следующее больше предыдущего на случайную величину\n",
    "class RandomIncrease:\n",
    "    def __init__(self, quantity):\n",
    "        self.qty = quantity\n",
    "        self.cur = 0\n",
    " \n",
    "    def __iter__(self):\n",
    "        return self\n",
    " \n",
    "    def __next__(self):\n",
    "        if self.qty > 0:\n",
    "            self.cur += random()\n",
    "            self.qty -= 1\n",
    "            return round(self.cur, 2)\n",
    "        else:\n",
    "            raise StopIteration\n",
    " \n",
    " \n",
    "iterator = RandomIncrease(5)\n",
    "for i in iterator:\n",
    "    print(i)"
   ]
  },
  {
   "cell_type": "markdown",
   "metadata": {},
   "source": [
    "По сути, мы храним только знания о том, как получить следущий элемент, а не всю последовательность данных. Если речь идет о сложных и объемных структурах, выгда от использования таких конструкций может быть существенна.\n",
    "\n",
    "В Python'е есть более изящная конструкция - генератор."
   ]
  },
  {
   "cell_type": "code",
   "execution_count": null,
   "metadata": {},
   "outputs": [],
   "source": [
    "# генератор - он почти как обычная функция, только вместо return - yield\n",
    "def random_increase(quantity):\n",
    "    cur = 0\n",
    "    while quantity > 0:\n",
    "        cur += random()\n",
    "        quantity -= 1\n",
    "        yield round(cur, 2)\n",
    " \n",
    " \n",
    "generator = random_increase(5)\n",
    "for i in generator:\n",
    "    print(i)\n",
    "    \n",
    "print(\"===\")\n",
    "\n",
    "generator = random_increase(5)\n",
    "while True:\n",
    "    try:\n",
    "        print(next(generator))\n",
    "    except StopIteration:\n",
    "        print(\"We're done!\")\n",
    "        break;"
   ]
  },
  {
   "cell_type": "markdown",
   "metadata": {},
   "source": [
    "### Генераторы списков\n",
    "\n",
    "Генератор списков - компактная конструкция, которая позволяет инициализировать списки на базе каких-либо начальных данных одной строкой.\n"
   ]
  },
  {
   "cell_type": "code",
   "execution_count": null,
   "metadata": {},
   "outputs": [],
   "source": [
    "# традиционный подход к наполнению списка\n",
    "a = []\n",
    "for i in range(1,15):\n",
    "    a.append(i)\n",
    "print(a) # [1, 2, 3, 4, 5, 6, 7, 8, 9, 10, 11, 12, 13, 14]\n",
    "\n",
    "# используем генератор\n",
    "a = [i for i in range(1,15)]\n",
    "print(a) # [1, 2, 3, 4, 5, 6, 7, 8, 9, 10, 11, 12, 13, 14]"
   ]
  },
  {
   "cell_type": "code",
   "execution_count": null,
   "metadata": {},
   "outputs": [],
   "source": [
    "# дано: список, надо получить список из его значений, возведенных в квадрат\n",
    "a = [2,-2,4,-4,7,5]\n",
    "b = [i**2 for i in a]\n",
    "print(b) # [4, 4, 16, 16, 49, 25]"
   ]
  },
  {
   "cell_type": "code",
   "execution_count": null,
   "metadata": {},
   "outputs": [],
   "source": [
    "# похожим образом эта конструкция работает со словарем и текстовыми данными\n",
    "a = {'Sherlock':'Holmes', 'Adam':'Smith', 'Merilyn':'Monroe'}\n",
    "b = [f\"{key} {a[key]} is great\" for key in a]\n",
    "print(b)\n",
    "[10, 40, 90]"
   ]
  },
  {
   "cell_type": "markdown",
   "metadata": {},
   "source": [
    "Поддерживается условная генерация - в список будут добавлены только те значения, которые соответствуют определенным условиям"
   ]
  },
  {
   "cell_type": "code",
   "execution_count": null,
   "metadata": {},
   "outputs": [],
   "source": [
    "# например, только числа, кратные 30 и 31\n",
    "a = [i for i in range(30,250) if i%30 == 0 or i%31 == 0]\n",
    "print(a) # [30, 31, 60, 62, 90, 93, 120, 124, 150, 155, 180, 186, 210, 217, 240, 248]"
   ]
  },
  {
   "cell_type": "code",
   "execution_count": null,
   "metadata": {},
   "outputs": [],
   "source": [
    "# или можно извлечь все цифры из строки\n",
    "a = \"lsj94ksd231 9;sdjakfj92378j34h4h41\"\n",
    "b = [int(i) for i in a if '0'<=i<='9']\n",
    "print(b) # [9, 4, 2, 3, 1, 9, 9, 2, 3, 7, 8, 3, 4, 4, 4, 1]"
   ]
  },
  {
   "cell_type": "markdown",
   "metadata": {
    "collapsed": true
   },
   "source": [
    "#### Практика\n",
    "\n",
    "1. Из списка натуральных чисел от 0 до 100 нужно извлечь все числа, которые являются квадратами натуральных чисел, в виде списка"
   ]
  },
  {
   "cell_type": "code",
   "execution_count": null,
   "metadata": {},
   "outputs": [],
   "source": [
    "# ваш код здесь\n"
   ]
  },
  {
   "cell_type": "markdown",
   "metadata": {},
   "source": [
    "2\\. Напишите генератор, который создает последовательность чисел, уменьшающих заданное на случайную величину, до нуля."
   ]
  },
  {
   "cell_type": "code",
   "execution_count": null,
   "metadata": {},
   "outputs": [],
   "source": [
    "N = 10\n",
    "\n",
    "def generator( start ):\n",
    "    # ваш код здесь\n",
    "    pass\n",
    "\n",
    "# ваш код здесь"
   ]
  },
  {
   "cell_type": "markdown",
   "metadata": {},
   "source": [
    "3\\. Дан список целых чисел. Требуется “сжать” его, переместив все ненулевые элементы в левую часть списка, не меняя их порядок, а все нули - в правую часть. Порядок ненулевых элементов изменять нельзя, задачу нужно выполнить за один проход по списку. Распечатайте полученный список."
   ]
  },
  {
   "cell_type": "code",
   "execution_count": null,
   "metadata": {},
   "outputs": [],
   "source": [
    "list_ = [4, 0, 5, 7, 0, 9, 0, 0, 1, 2, 1] \n",
    "\n",
    "# ваш код здесь\n",
    "\n",
    "# должно стать [4, 5, 7, 9, 1, 2, 1, 0, 0, 0, 0]"
   ]
  },
  {
   "cell_type": "markdown",
   "metadata": {},
   "source": [
    "4\\. Требуется сгенерировать список заданной длины, наполненных случайными целыми числами в диапазоне от 42 до 99."
   ]
  },
  {
   "cell_type": "code",
   "execution_count": null,
   "metadata": {},
   "outputs": [],
   "source": [
    "# ваш код здесь"
   ]
  }
 ],
 "metadata": {
  "kernelspec": {
   "display_name": "Python 3",
   "language": "python",
   "name": "python3"
  },
  "language_info": {
   "codemirror_mode": {
    "name": "ipython",
    "version": 3
   },
   "file_extension": ".py",
   "mimetype": "text/x-python",
   "name": "python",
   "nbconvert_exporter": "python",
   "pygments_lexer": "ipython3",
   "version": "3.7.9"
  }
 },
 "nbformat": 4,
 "nbformat_minor": 4
}
