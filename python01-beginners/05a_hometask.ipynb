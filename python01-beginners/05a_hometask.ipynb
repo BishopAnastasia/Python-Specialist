{
 "cells": [
  {
   "cell_type": "code",
   "execution_count": 1,
   "id": "37753fd3-b55c-4eb7-905e-34a55f8cfb5e",
   "metadata": {},
   "outputs": [
    {
     "name": "stdout",
     "output_type": "stream",
     "text": [
      "[354.75, 442.75, 466.75, 86.75, 190.25, 496.25, 323.25, 240.25, 263.75, 35.75]\n"
     ]
    }
   ],
   "source": [
    "import random\n",
    "step = .25\n",
    "random_list = [random.randrange(0, 500, 2)+step\n",
    "               +random.randrange(0, 500, 2)*step\n",
    " for _ in range(10)]\n",
    "print(random_list)\n"
   ]
  },
  {
   "cell_type": "code",
   "execution_count": 3,
   "id": "7b257ce1-8d70-4094-b608-93cbe982bca7",
   "metadata": {},
   "outputs": [
    {
     "name": "stdin",
     "output_type": "stream",
     "text": [
      "n =  7\n"
     ]
    },
    {
     "name": "stdout",
     "output_type": "stream",
     "text": [
      "7.0 целое\n"
     ]
    }
   ],
   "source": [
    "n = float( input('n = ') )\n",
    "print(f'{n} { [\"дробное\",\"целое\"][ n.is_integer() ] }')\n"
   ]
  },
  {
   "cell_type": "code",
   "execution_count": null,
   "id": "b97212df-262c-4456-9e60-3ecd0ac56e5d",
   "metadata": {},
   "outputs": [
    {
     "name": "stdin",
     "output_type": "stream",
     "text": [
      "Введите номер месяца: \n",
      " 9\n"
     ]
    },
    {
     "name": "stdout",
     "output_type": "stream",
     "text": [
      "Сентябрь\n",
      "Minimum of months: Ноябрь\n"
     ]
    }
   ],
   "source": [
    "months = {6:'Январь', 14:'Февраль', 11:'Март', 10:'Апрель', 8:'Май', 7:'Июнь', 12:'Июль', 14:'Август', \n",
    "          9:'Сентябрь', 12:'Октябрь', 6:'Ноябрь', 13:'Декабрь'}\n",
    "from __future__ import division\n",
    "\n",
    "def pecat_mesyaca(n):\n",
    "    print(months[n])\n",
    "    mn= min(months);\n",
    "    print('Minimum of months:',months[mn])\n",
    "while True:\n",
    "    vvod = input('Введите номер месяца: \\n')\n",
    "    if vvod == '': break\n",
    "    try:\n",
    "        pecat_mesyaca (int(vvod))\n",
    "\n",
    "    except KeyError:\n",
    "        print('Введен неправильный номер месяца. Нужно вводить от 6 до 14.')\n",
    "    except ValueError:\n",
    "        print('Введены нечисловые символы. Нужно вводить числа, от 6 до 14.')\n",
    "\n"
   ]
  },
  {
   "cell_type": "code",
   "execution_count": 1,
   "id": "70365799-07f5-4de8-ad20-62a079dfabae",
   "metadata": {},
   "outputs": [
    {
     "name": "stdin",
     "output_type": "stream",
     "text": [
      "Введите длину ряда:  8\n"
     ]
    },
    {
     "name": "stdout",
     "output_type": "stream",
     "text": [
      "6 6 12 18 30 48 78 126 \n"
     ]
    }
   ],
   "source": [
    "m = int(input('Введите длину ряда: '))\n",
    "ch1 = ch2 = 6\n",
    "print(ch1, ch2, end=' ')\n",
    "\n",
    "i = 2\n",
    "while i < m:\n",
    "\tch1, ch2 = ch2, ch1 + ch2 \n",
    "\tprint(ch2, end=' ') \n",
    "\ti += 1\n",
    "print()"
   ]
  },
  {
   "cell_type": "code",
   "execution_count": 2,
   "id": "068b0146-6cda-4cd9-b1dd-5c9350cc6717",
   "metadata": {},
   "outputs": [
    {
     "name": "stdout",
     "output_type": "stream",
     "text": [
      "[722, 1478, 1898, 2528, 2644, 3072, 3410, 4706, 9316, 9772]\n"
     ]
    }
   ],
   "source": [
    "import random\n",
    "random_list = [random.randrange(152, 10000, 2)\n",
    " for _ in range(10)]\n",
    "sort= sorted(random_list)\n",
    "print(sort)"
   ]
  },
  {
   "cell_type": "code",
   "execution_count": null,
   "id": "a44d2076-d7a8-461c-99e0-46a3240d34a3",
   "metadata": {},
   "outputs": [],
   "source": []
  }
 ],
 "metadata": {
  "kernelspec": {
   "display_name": "Python 3 (ipykernel)",
   "language": "python",
   "name": "python3"
  },
  "language_info": {
   "codemirror_mode": {
    "name": "ipython",
    "version": 3
   },
   "file_extension": ".py",
   "mimetype": "text/x-python",
   "name": "python",
   "nbconvert_exporter": "python",
   "pygments_lexer": "ipython3",
   "version": "3.11.3"
  }
 },
 "nbformat": 4,
 "nbformat_minor": 5
}
