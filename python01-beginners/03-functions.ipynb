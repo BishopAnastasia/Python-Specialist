{
 "cells": [
  {
   "cell_type": "markdown",
   "metadata": {
    "deletable": true,
    "editable": true
   },
   "source": [
    "# Программирование на языке Python. Уровень 1.\u000b",
    "Основы языка Python\n",
    "\n",
    "## Модуль 3. Функции, классы, объекты\n",
    "\n",
    "### Создание функций\n",
    "\n",
    "Функция в языке Python создается командой ```def```. При этом указывается имя функции, а также список формальных параметров. \n",
    "\n",
    "Функция может возвращать значение, а может и ничего не возвращать, просто выполнять заданные действия. В этом случае она возвращает ```None```.\n",
    "\n",
    "Если начать блок с тройных кавычек - ```\"\"\"``` содержимое этого блока станет подсказкой, доступной через знак вопроса, например ```NOD?``` или через функцию ```help(NOD)```."
   ]
  },
  {
   "cell_type": "code",
   "execution_count": 28,
   "metadata": {
    "collapsed": true,
    "deletable": true,
    "editable": true
   },
   "outputs": [],
   "source": [
    "def NOD( A, B ):\n",
    "    \"\"\"\n",
    "    Вычисление наибольшего общего делителя чисел A и B\n",
    "    \"\"\"\n",
    "    if A < B :\n",
    "        ( A, B ) = ( B, A )\n",
    "    ( A, B ) = ( B, A % B )\n",
    "    while B > 0 :\n",
    "        ( A, B ) = ( B, A % B )\n",
    "    return A"
   ]
  },
  {
   "cell_type": "code",
   "execution_count": 81,
   "metadata": {
    "collapsed": false,
    "deletable": true,
    "editable": true
   },
   "outputs": [
    {
     "name": "stdout",
     "output_type": "stream",
     "text": [
      "Help on function NOD in module __main__:\n",
      "\n",
      "NOD(A, B)\n",
      "    Вычисление наибольшего общего делителя чисел A и B\n",
      "\n"
     ]
    }
   ],
   "source": [
    "NOD?\n",
    "help(NOD)"
   ]
  },
  {
   "cell_type": "markdown",
   "metadata": {
    "deletable": true,
    "editable": true
   },
   "source": [
    "Вызов функции: имя функции + параметры в круглых скобках. "
   ]
  },
  {
   "cell_type": "code",
   "execution_count": 30,
   "metadata": {
    "collapsed": false,
    "deletable": true,
    "editable": true
   },
   "outputs": [
    {
     "name": "stdout",
     "output_type": "stream",
     "text": [
      "A=21, B=49, NOD = 7\n"
     ]
    }
   ],
   "source": [
    "A = 21; B = 49\n",
    "my_nod = NOD(A,B)\n",
    "print(f\"A={A}, B={B}, NOD = {my_nod}\")"
   ]
  },
  {
   "cell_type": "markdown",
   "metadata": {
    "deletable": true,
    "editable": true
   },
   "source": [
    "Передача параметров в функцию:\n",
    " - прямая передача параметров\n",
    " - использование значений параметров по умолчанию\n",
    " - функция с неопределенным числом параметров\n",
    " - args/kwargs"
   ]
  },
  {
   "cell_type": "code",
   "execution_count": 56,
   "metadata": {
    "collapsed": false,
    "deletable": true,
    "editable": true
   },
   "outputs": [
    {
     "name": "stdout",
     "output_type": "stream",
     "text": [
      "hi there\n",
      "hi there!\n",
      "hi everyone\n",
      "args: ('this', 'is', 'python')\n",
      "kwargs: {}\n",
      "args: ()\n",
      "kwargs: {'first': 'this', 'second': 'is', 'third': 'python'}\n",
      "args: ()\n",
      "kwargs: {'first': 'hi', 'second': 'from the function'}\n",
      "args: ('hi', 'there')\n",
      "kwargs: {}\n",
      "25\n"
     ]
    }
   ],
   "source": [
    "def function_1(param_1, param_2):\n",
    "    return param_1+' '+param_2\n",
    "print(function_1('hi', 'there')) # прямая и явная передача параметров\n",
    "print(function_1('hi', param_2='there!')) # прямая и явная передача параметров с указанием имени\n",
    "\n",
    "# при определении функции можно задать значения параметров по умолчанию:\n",
    "def function_2(param_1, param_2='everyone'):\n",
    "    return param_1+' '+param_2\n",
    "print(function_2('hi')) # при вызове можно передать ей только те параметры, которые не заданы по умолчанию\n",
    "\n",
    "# функция с неопределенным числом параметров\n",
    "def function_3( *args, **kwargs ):\n",
    "    print(\"args: \", end='');print(args)\n",
    "    print(\"kwargs: \", end='');print(kwargs)\n",
    "    return \n",
    "\n",
    "function_3('this', 'is', 'python') # параметры, переданные без имени, будут в кортеже args\n",
    "function_3(first='this', second='is', third='python') # параметры, переданные c именем - в словаре kwargs\n",
    "\n",
    "# можно передать параметры в виде словаря\n",
    "dict_params = {'first': 'hi', 'second': 'from the function'}\n",
    "function_3(**dict_params) # kwargs: {'first': 'hi', 'second': 'from the function'}\n",
    "\n",
    "# можно передать параметры в виде списка или кортежа\n",
    "list_params = ['hi', 'there']\n",
    "function_3(*list_params) # args: ('hi', 'there')\n",
    "\n",
    "list_AB = [175, 125]\n",
    "print(NOD(*list_AB))\n"
   ]
  },
  {
   "cell_type": "markdown",
   "metadata": {
    "deletable": true,
    "editable": true
   },
   "source": [
    "#### Передача параметров \"по значению\", \"по ссылке\", область видимости.\n",
    "\n",
    "В Python любая переменная содержит ссылку на объект. Для переменных неизменяемых (immutable) типов объекты меняются по мере изменения значений. Это числовые, строковые типы, а также кортежи. \n",
    "\n",
    "Для переменных изменяемых (mutable) типов: list, dict или set - объект остается неизменным."
   ]
  },
  {
   "cell_type": "code",
   "execution_count": 67,
   "metadata": {
    "collapsed": false,
    "deletable": true,
    "editable": true
   },
   "outputs": [
    {
     "name": "stdout",
     "output_type": "stream",
     "text": [
      "Id a было:  4395412416\n",
      "Id a стало:  4395413568\n",
      "Id b:  4395413568\n",
      "Id b стало:  4395413920\n",
      "Id list_1 был:  4467027552\n",
      "Id list_1 стал:  4466975040\n",
      "Id list_2:  4466975040\n",
      "Id list_2 стал:  4466975040 list_2: [3, 2, 1, 99]\n"
     ]
    }
   ],
   "source": [
    "a = 6\n",
    "print(\"Id a было: \",id(a)) # 4395412416\n",
    "a = 42\n",
    "print(\"Id a стало: \",id(a)) # 4395413568\n",
    "b = a\n",
    "print(\"Id b: \",id(b)) # id 4395413568 - такой же, как у a\n",
    "b += 11\n",
    "print(\"Id b стало: \",id(b)) # изменился! стало 4395413920\n",
    "\n",
    "list_1 = [1,2,3]\n",
    "print('Id list_1 был: ', id(list_1)) # 4467027552\n",
    "list_1 = [3,2,1]\n",
    "print('Id list_1 стал: ', id(list_1)) # 4466975040  - изменился\n",
    "list_2 = list_1\n",
    "print('Id list_2: ', id(list_1)) # у list_2 - такой же id, как у list_1: 4466975040\n",
    "list_2.append(99) \n",
    "print('Id list_2 стал: ', id(list_2), 'list_2:', list_2) # и после append id такой же: 4466975040"
   ]
  },
  {
   "cell_type": "markdown",
   "metadata": {
    "deletable": true,
    "editable": true
   },
   "source": [
    "Как это работает в функциях:\n",
    "- переменные неизменяемых типов невозможно изменить внутри функции (в привычных терминах - \"передаются по значению\")\n",
    "- переменные типов dict, list или set - меняются как угодно (в привычных терминах - \"передаются по ссылке\")"
   ]
  },
  {
   "cell_type": "code",
   "execution_count": 80,
   "metadata": {
    "collapsed": false,
    "deletable": true,
    "editable": true
   },
   "outputs": [
    {
     "name": "stdout",
     "output_type": "stream",
     "text": [
      "a: 500, b: 600\n",
      "a: 500, b: 600\n",
      "[500, 600]\n",
      "[0, 1, 2, 3, 500] {'Oliver': 'Twist', 'Charles': 'Darwin'}\n"
     ]
    }
   ],
   "source": [
    "# напишем функцию, которая изменяет передаваемые ей переменные\n",
    "def func_1(a, b):\n",
    "    a = 100; b = 200\n",
    " \n",
    "a, b = 500, 600\n",
    "func_1(500, 600)\n",
    "print(f\"a: {a}, b: {b}\") # a: 500, b: 600 - ничего не изменилось\n",
    "\n",
    "func_1(*[a, b])\n",
    "print(f\"a: {a}, b: {b}\") # a: 500, b: 600 - опять ничего не изменилось!\n",
    "\n",
    "list_ab = [a, b]\n",
    "func_1(*list_ab)\n",
    "print(list_ab) # нет изменений даже если функции передать list!\n",
    "\n",
    "# напишем функцию, которая изменяет передаваемые ей переменные в виде list и dict\n",
    "def func_2(list_, dict_):\n",
    "    list_[-1] = 500\n",
    "    dict_['Charles'] = 'Darwin'\n",
    "    \n",
    "list__ = list(range(5))\n",
    "dict__ = {'Oliver': 'Twist'}\n",
    "func_2(list__, dict__)\n",
    "print(list__, dict__)"
   ]
  },
  {
   "cell_type": "markdown",
   "metadata": {
    "deletable": true,
    "editable": true
   },
   "source": [
    "#### Правила видимости в Python\n",
    "\n",
    "- переменные, инициализорованные внутри модуля видны из любой функции\n",
    "- переменные, инициализированные внутри функции видны только внутри нее"
   ]
  },
  {
   "cell_type": "code",
   "execution_count": 85,
   "metadata": {
    "collapsed": false,
    "deletable": true,
    "editable": true
   },
   "outputs": [
    {
     "name": "stdout",
     "output_type": "stream",
     "text": [
      "Global variable:  This is global variable\n",
      "Argument variable:  This is passed as an arg\n",
      "Inner function variable:  This is inner function variable\n",
      "Global variable:  This is global variable\n"
     ]
    }
   ],
   "source": [
    "def func_vars(var_arg):\n",
    "    var_func = \"This is inner function variable\"\n",
    "    print(\"Global variable: \", global_var)\n",
    "    print(\"Argument variable: \", var_arg)\n",
    "    print(\"Inner function variable: \", var_func)\n",
    "    \n",
    "global_var = \"This is global variable\"\n",
    "func_vars(\"This is passed as an arg\")\n",
    "# Global variable:  This is global variable\n",
    "# Argument variable:  This is passed as an arg\n",
    "# Inner function variable:  This is inner function variable\n",
    "\n",
    "print(\"Global variable: \", global_var)\n",
    "print(\"Inner function variable: \", var_func) # CRASH! NameError: name 'var_func' is not defined\n",
    "print(\"Argument variable: \", var_arg)"
   ]
  },
  {
   "cell_type": "markdown",
   "metadata": {
    "deletable": true,
    "editable": true
   },
   "source": [
    "#### ПРАКТИКА\n",
    "\n",
    "1. Даны четыре действительных числа: $x_1$, $y_1$, $x_2$, $y_2$. Напишите функцию ```distance(x1, y1, x2, y2)```, вычисляющую расстояние между точкой $X_1(x_1,y_1)$ и $X_2(x_2,y_2)$. Считайте четыре действительных числа и выведите результат работы этой функции.\\\n",
    "__Входные данные__\n",
    "Даны четыре действительных числа. \\\n",
    "__Выходные данные__\n",
    "Выведите ответ на задачу."
   ]
  },
  {
   "cell_type": "code",
   "execution_count": null,
   "metadata": {
    "collapsed": true,
    "deletable": true,
    "editable": true
   },
   "outputs": [],
   "source": [
    "x_1 = 0; y_1 = 0; x_2 = 1; y_2;\n",
    "\n",
    "def distance(x1, y1, x2, y2):\n",
    "    # ваш код здесь"
   ]
  },
  {
   "cell_type": "markdown",
   "metadata": {
    "deletable": true,
    "editable": true
   },
   "source": [
    "1. "
   ]
  },
  {
   "cell_type": "markdown",
   "metadata": {
    "deletable": true,
    "editable": true
   },
   "source": [
    "#### Функция как переменная\n",
    "\n",
    "Имя функции в языке Python на самом деле представляет собой обыкновенную перемеменную, которая — согласно общему правилу — содержит _ссылку_ на функцию. Соответственно, с этой переменной можно обращаться так же, как и с любой другой."
   ]
  },
  {
   "cell_type": "code",
   "execution_count": 57,
   "metadata": {
    "collapsed": false,
    "deletable": true,
    "editable": true
   },
   "outputs": [
    {
     "data": {
      "text/plain": [
       "15"
      ]
     },
     "execution_count": 57,
     "metadata": {},
     "output_type": "execute_result"
    }
   ],
   "source": [
    "def func1 ( a, b, c ) : # создаем функцию\n",
    "    return a+b+c\n",
    "\n",
    "func2 = func1 # теперь func2 содержит ссылку на ту же функцию, что и func1\n",
    "\n",
    "func1 ( 1, 2, 3 ) # и их можно вызывать\n",
    "func2 ( 1, 2, 3 ) # одинаковым способом\n",
    "\n",
    "func1 = 5 # теперь func1 - это больше не функция,\n",
    "A = 2 + func1 # а обычное число (A стало равным 7)\n",
    "func2( 4, 5, 6 ) # но функцию по-прежнему можно вызвать через переменную func2"
   ]
  },
  {
   "cell_type": "markdown",
   "metadata": {
    "deletable": true,
    "editable": true
   },
   "source": [
    "Функцию также можно передать как параметр в другую функцию, и оттуда ее вызвать. Это называется \"обратный вызов\" (callback)."
   ]
  },
  {
   "cell_type": "code",
   "execution_count": 10,
   "metadata": {
    "collapsed": false,
    "deletable": true,
    "editable": true
   },
   "outputs": [
    {
     "name": "stdout",
     "output_type": "stream",
     "text": [
      "(1, 2, 3, 4, 5)\n"
     ]
    }
   ],
   "source": [
    "# функция обратного вызова\n",
    "def func_callback( *args ):\n",
    "    return repr(args) # возвращает кортеж агрументов\n",
    "\n",
    "# функция, которая по наступлению некоторого события вызывает нашу функцию обратного вызова\n",
    "def func_with_callback(*args, the_callback): #the_callback - функция-аргумент нашей функции\n",
    "    if args[0]==1:\n",
    "        return the_callback(*args) # тот самый обратный вызов\n",
    "        \n",
    "print(func_with_callback(1,2,3,4,5, the_callback=func_callback)) # (1, 2, 3, 4, 5)"
   ]
  },
  {
   "cell_type": "markdown",
   "metadata": {
    "deletable": true,
    "editable": true
   },
   "source": [
    "$\\lambda$-функция (лямбда-функция) - примитивный callback:"
   ]
  },
  {
   "cell_type": "code",
   "execution_count": 7,
   "metadata": {
    "collapsed": false,
    "deletable": true,
    "editable": true
   },
   "outputs": [
    {
     "name": "stdout",
     "output_type": "stream",
     "text": [
      "Arg: 5, result: 500\n",
      "Arg: 5, result: 500\n"
     ]
    }
   ],
   "source": [
    "# основная функция с обратным вызовом\n",
    "def func_with_callback(arg, callback): \n",
    "    print(f\"Arg: {arg}\", end=', result: ')\n",
    "    return callback(arg) # тот самый обратный вызов\n",
    "\n",
    "# функция обратного вызова\n",
    "def on_arg_five( arg ):\n",
    "    if arg==5:\n",
    "        return arg * 100\n",
    "    else:\n",
    "        return arg\n",
    "\n",
    "param = 5\n",
    "    \n",
    "# обращение к основной функции, традиционно\n",
    "print( func_with_callback(param, on_arg_five) )\n",
    "\n",
    "# обращение к основной функции через \"лямбду\"\n",
    "print( func_with_callback(param, lambda arg: arg * 100 if arg==5 else arg) )\n"
   ]
  },
  {
   "cell_type": "markdown",
   "metadata": {
    "deletable": true,
    "editable": true
   },
   "source": [
    "#### Декораторы\n",
    "\n",
    "Декораторы - это \"обертки\" для выполнения рутинных операций при вызове функций (например, препроцессинга или контроля входных данных), для ниху существует специальная синтаксическая конструкция."
   ]
  },
  {
   "cell_type": "code",
   "execution_count": 9,
   "metadata": {
    "collapsed": true,
    "deletable": true,
    "editable": true
   },
   "outputs": [],
   "source": [
    "# допустим, нам надо контролировать, является ли \n",
    "# первый параметр int или нет\n",
    "def funcone ( a, b, c ) :\n",
    "    if not isinstance ( a, int ) :\n",
    "        raise TypeError\n",
    "    pass\n",
    "\n",
    "# чтобы не повторять строки 1-2 из somefunc() в \n",
    "# каждой функции, можно сделать \"обертку\":\n",
    "def first_is_int ( function ) :\n",
    "    def checked_func ( *args, **kwargs ) :\n",
    "        if isinstance( args[0], int ) :\n",
    "            raise TypeError\n",
    "        return function ( *args, **kwargs )\n",
    "    return checked_func\n",
    "\n",
    "# проверяемая функция:\n",
    "def somefunc ( a, b, c ) :\n",
    "    pass\n",
    "\n",
    "# с ней можно так (не очень красиво):\n",
    "somefunc = first_is_int ( somefunc )\n",
    "\n",
    "# но лучше так, через декоратор:\n",
    "@first_is_int\n",
    "def somefunc ( a, b, c, *args ) :\n",
    "    pass\n",
    "    "
   ]
  },
  {
   "cell_type": "markdown",
   "metadata": {
    "deletable": true,
    "editable": true
   },
   "source": [
    "### Классы, объекты, методы, свойства\n",
    "\n",
    "Классы в Python создаются командой ```class```"
   ]
  },
  {
   "cell_type": "code",
   "execution_count": 101,
   "metadata": {
    "collapsed": false,
    "deletable": true,
    "editable": true
   },
   "outputs": [
    {
     "name": "stdout",
     "output_type": "stream",
     "text": [
      "Obj 1:  Hi from object 1\n",
      "Obj 2:  Hi from object 2\n",
      "Class:  Hi from the class\n"
     ]
    }
   ],
   "source": [
    "class our_empty_class: # пустой класс, для примера\n",
    "    pass\n",
    "\n",
    "our_empty_object_1 = our_empty_class() # первый объект нашего класса\n",
    "our_empty_object_2 = our_empty_class() # второй объект нашего класса\n",
    "\n",
    "# поприсваиваем им в свойство prop\n",
    "our_empty_object_1.prop = \"Hi from object 1\" \n",
    "our_empty_object_2.prop = \"Hi from object 2\"\n",
    "our_empty_class.prop = \"Hi from the class\"\n",
    "\n",
    "# поведение объектов и экземпляров класса похожи\n",
    "print(\"Obj 1: \", our_empty_object_1.prop) # Obj 1:  Hi from object 1\n",
    "print(\"Obj 2: \", our_empty_object_2.prop) # Obj 2:  Hi from object 2\n",
    "print(\"Class: \", our_empty_class.prop) # Class:  Hi from the class"
   ]
  },
  {
   "cell_type": "markdown",
   "metadata": {
    "deletable": true,
    "editable": true
   },
   "source": [
    "Метод класса - функция. Первый параметр этой функции - переменная с ссылкой на сам объект, ```self```\n",
    "\n",
    "Есть специальные методы, которые вызываются в момент создания объектов и их удаления: ```__init__()``` и ```__del__()```"
   ]
  },
  {
   "cell_type": "code",
   "execution_count": 107,
   "metadata": {
    "collapsed": false,
    "deletable": true,
    "editable": true
   },
   "outputs": [
    {
     "name": "stdout",
     "output_type": "stream",
     "text": [
      "Student Ilya is created\n",
      "Student Ilya has passed the course \"Python for beginners\"\n",
      "Student Ilya is deleted\n"
     ]
    }
   ],
   "source": [
    "class the_student:\n",
    "    \n",
    "    name = None\n",
    "    passed = False\n",
    "    \n",
    "    def __init__(self, name): # конструктор, вызывается при создании объекта\n",
    "        self.name = name\n",
    "        print(f\"Student {self.name} is created\")\n",
    "        \n",
    "    def __del__(self): # деструктор, вызывается при удалении объекта\n",
    "        print(f\"Student {self.name} is deleted\")\n",
    "        \n",
    "    def pass_the_course(self, course):\n",
    "        self.passed = True\n",
    "        print(f\"Student {self.name} has passed the course \\\"{course}\\\"\")\n",
    "        \n",
    "student = the_student(\"Ilya\") # создаем объект\n",
    "student.pass_the_course(\"Python for beginners\") # вызываем метод\n",
    "del student # уничтожаем объект\n",
    "        "
   ]
  },
  {
   "cell_type": "markdown",
   "metadata": {
    "deletable": true,
    "editable": true
   },
   "source": [
    "#### ПРАКТИКА\n",
    "\n",
    "1. Для вышеописанного класса нужно реализовать:\n",
    "    - список пройденных студентом курсов\n",
    "    - хранение оценок по этим курсам\n",
    "    - вывод отчета об успеваемости студента по курсам\n",
    "\n",
    "\n",
    "    То есть должны быть реализованы следующие методы:\n",
    "    - sign_up(course_name) - должен делать запись в списке курсов студента\n",
    "    - sign_off(course_name) - должен удалять запись о курсе\n",
    "    - pass_the_course(course_name, mark) - должен проставлять оценку по указанному курсу\n",
    "    - list_courses() - выводить на экран список курсов и оценки по ним\n",
    "    "
   ]
  },
  {
   "cell_type": "code",
   "execution_count": null,
   "metadata": {
    "collapsed": true,
    "deletable": true,
    "editable": true
   },
   "outputs": [],
   "source": []
  }
 ],
 "metadata": {
  "kernelspec": {
   "display_name": "Python 3",
   "language": "python",
   "name": "python3"
  },
  "language_info": {
   "codemirror_mode": {
    "name": "ipython",
    "version": 3
   },
   "file_extension": ".py",
   "mimetype": "text/x-python",
   "name": "python",
   "nbconvert_exporter": "python",
   "pygments_lexer": "ipython3",
   "version": "3.5.9"
  }
 },
 "nbformat": 4,
 "nbformat_minor": 4
}
