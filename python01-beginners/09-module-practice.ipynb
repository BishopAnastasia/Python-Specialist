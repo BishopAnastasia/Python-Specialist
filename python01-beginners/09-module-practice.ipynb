{
 "cells": [
  {
   "cell_type": "markdown",
   "metadata": {
    "deletable": true,
    "editable": true
   },
   "source": [
    "# Программирование на языке Python. Уровень 1.\u000b",
    "Основы языка Python\n",
    "\n",
    "## Модуль 9. Создание собственного модуля и пакета\n",
    "\n",
    "Jupyter Notebook - прекрасная среда для проб, отладки, аналитики и демонстраций, но для разработки серьезных проектов нужно все же создавать файлы с кодом и строить проект с использованием модульной структуры.\n",
    "\n",
    "Мы помним, что модули импортируются командой ```import```:\n",
    "```python\n",
    "import re\n",
    "```\n",
    "или\n",
    "```python\n",
    "from datetime import date\n",
    "```\n",
    "или \n",
    "```python\n",
    "import numpy as np\n",
    "```\n",
    "\n",
    "Чтобы создать модуль, нужно создать обычный файл с кодом на язяке Python, поместив в этот файл нужные функции. \n",
    "\n",
    "Создайте в текущем каталоге файл ```mod1.py``` со следующим содержимым:\n",
    "```python\n",
    "def func1 ( x ) :\n",
    "    print(\"Функция вызвана с параметром \", x)\n",
    "```\n",
    "\n",
    "Выполните код"
   ]
  },
  {
   "cell_type": "code",
   "execution_count": 7,
   "metadata": {
    "collapsed": false,
    "deletable": true,
    "editable": true
   },
   "outputs": [
    {
     "name": "stdout",
     "output_type": "stream",
     "text": [
      "Функция вызвана с параметром  test\n"
     ]
    }
   ],
   "source": [
    "import mod1\n",
    "\n",
    "mod1.func1(\"test\")"
   ]
  },
  {
   "cell_type": "markdown",
   "metadata": {
    "deletable": true,
    "editable": true
   },
   "source": [
    "#### Как создать пакет\n",
    "\n",
    "Создайте директорию ```pack1```. Перенесите в нее созданный ранее ```mod1.py```.\n",
    "\n",
    "Создайте в той же директории файл ```mod2.py```, поместите в него следующее содержимое:\n",
    "```python\n",
    "def func2 ( x ) :\n",
    "    print(\"Функция 2 вызвана с параметром \", x)\n",
    "```\n",
    "\n",
    "Создайте файл ```__init__.py``` со следующим содержимым:\n",
    "```python\n",
    "from .mod1 import func1\n",
    "from .mod2 import func2\n",
    "```\n",
    "\n",
    "В клетке ниже импортируйте ваш пакет и вызовите обе функции:"
   ]
  },
  {
   "cell_type": "code",
   "execution_count": 16,
   "metadata": {
    "collapsed": false,
    "deletable": true,
    "editable": true
   },
   "outputs": [
    {
     "name": "stdout",
     "output_type": "stream",
     "text": [
      "Функция вызвана с параметром  hello\n",
      "Функция 2 вызвана с параметром  world \n"
     ]
    }
   ],
   "source": [
    "import pack1\n",
    "\n",
    "pack1.func1( \"hello\" )\n",
    "pack1.func2( \"world \")"
   ]
  },
  {
   "cell_type": "markdown",
   "metadata": {
    "deletable": true,
    "editable": true
   },
   "source": [
    "### __ПРАКТИКА__\n",
    "\n",
    "Вернитесь к 3-му занятию и создайте модуль с классом ```student```, создайте список студентов и функции, которые добавляют студентов и исключают их из списка. Выведите табели всех студентов. \n",
    "\n",
    "__ВНИМАНИЕ__: для корректной подгрузки модуля по мере редактирования выполните в отдельной клетке следующие команды:\n",
    "```python\n",
    "%load_ext autoreload\n",
    "%autoreload 2\n",
    "```"
   ]
  },
  {
   "cell_type": "code",
   "execution_count": null,
   "metadata": {
    "collapsed": true,
    "deletable": true,
    "editable": true
   },
   "outputs": [],
   "source": []
  }
 ],
 "metadata": {
  "kernelspec": {
   "display_name": "Python 3",
   "language": "python",
   "name": "python3"
  },
  "language_info": {
   "codemirror_mode": {
    "name": "ipython",
    "version": 3
   },
   "file_extension": ".py",
   "mimetype": "text/x-python",
   "name": "python",
   "nbconvert_exporter": "python",
   "pygments_lexer": "ipython3",
   "version": "3.5.9"
  }
 },
 "nbformat": 4,
 "nbformat_minor": 4
}
