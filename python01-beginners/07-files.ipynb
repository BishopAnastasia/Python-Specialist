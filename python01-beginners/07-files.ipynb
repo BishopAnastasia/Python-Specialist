{
 "cells": [
  {
   "cell_type": "markdown",
   "metadata": {},
   "source": [
    "# Программирование на языке Python. Уровень 1.\u000b",
    "Основы языка Python\n",
    "\n",
    "## Модуль 7. Работа с файлами"
   ]
  },
  {
   "cell_type": "markdown",
   "metadata": {},
   "source": [
    "### Файлы\n",
    "\n",
    "Файлы открываются функцией ```open(  file_name, mode )```. Функция возвращает объект.\n",
    "\n",
    "```file_name``` - имя файла\n",
    "\n",
    "```mode``` - режим работы с файлом:\n",
    "- 'r': только чтение (default)\n",
    "- 'w': запись ”с ноля” (содержимое файла будет стерто)\n",
    "- 'x': создать (если файл существует, будет выброшено исключение)\n",
    "- 'a': запись в конец файла\n",
    "- 'b': «бинарный» режим\n",
    "- 't': «текстовый режим» (default)\n",
    "- '+': доступ и на запись, и на чтение.\n",
    "\n",
    "\n",
    "У объекта file есть следующие методы:\n",
    " - ```read( size )``` - прочитать содержимое файла размером size байтов/символов\n",
    " - ```readline()``` - прочитать строку и передвинуть указатель на следующую\n",
    " - ```readlines()``` - вернуть список строк\n",
    " - ```write()``` - запись в файл, функция возвращает количество прочитанных символов\n",
    " - ```seek( offset, whence )``` - перемещает указатель файла на offset байт в зависимости от позиции whence: 0 - от начала, 1 - от текущей позиции, 2 - с конца файла. Offset может быть отрицательным.\n",
    " - ```tell()``` - возвращает текущую позицию в байтах, от начала файла\n",
    " - ```truncate( bytes )``` - сократить размер файла до ```bytes``` байт, либо по текущую позицию.\n",
    " \n",
    " \n",
    "Файл закрывается методом ```close()```.\n",
    "\n",
    "Рекомендуется использовать конструкцию ```with ... as ...:```.\n",
    " \n",
    " \n"
   ]
  },
  {
   "cell_type": "code",
   "execution_count": 3,
   "metadata": {},
   "outputs": [
    {
     "name": "stdout",
     "output_type": "stream",
     "text": [
      "1 2 3\n",
      "this is some text\n",
      "Это текст\n",
      "\n",
      "0987654321\n"
     ]
    }
   ],
   "source": [
    "# просто открыли файл, прочитали его содержимое, закрыли\n",
    "file1 = open('files1.txt', 'r')\n",
    "file1_contents = file1.read()\n",
    "file1.close()\n",
    "\n",
    "print(file1_contents)"
   ]
  },
  {
   "cell_type": "code",
   "execution_count": 94,
   "metadata": {},
   "outputs": [
    {
     "name": "stdout",
     "output_type": "stream",
     "text": [
      "1 2 3\n",
      "\n",
      "this is some text\n",
      "\n",
      "Это текст\n",
      "\n",
      "\n",
      "\n",
      "--last-line\n",
      "\n",
      "\n",
      "\n",
      "\n",
      "\n",
      "1 2 3\n",
      "this is some text\n",
      "Это текст\n",
      "\n",
      "--last-lin\n",
      "['1 2 3\\n', 'this is some text\\n', 'Это текст\\n', '\\n', '--last-line']\n",
      "1 2 3\n",
      "this is some text\n",
      "Это текст\n",
      "\n",
      "--last-line\n"
     ]
    }
   ],
   "source": [
    "# лучше использовать конструкцию with:\n",
    "with open('files1.txt', 'r') as f:\n",
    "    \n",
    "    # читаем и печатаем построчно\n",
    "    for line in f:\n",
    "        print(line) # выводит лишние строки, потому что символ новой строки \"\\n\" не отсекается\n",
    "    \n",
    "    # попробуем еще раз, другим способом\n",
    "    for _ in range(5):\n",
    "        print(f.readline()) #выводит 5 пустых строк, почему?\n",
    "        \n",
    "    # и еще раз, перед этим файл \"перемотаем\" на начало методом seek()\n",
    "    f.seek(0)\n",
    "    for _ in range(5):\n",
    "        print(f.readline()[:-1]) # [:-1] отсекаем символ новой строки\n",
    "        # последний символ последней строки удаляется, хотя не должен\n",
    "        \n",
    "    # список строк\n",
    "    f.seek(0)\n",
    "    lines = f.readlines()\n",
    "    print(lines) # обратите внимание на символы новой строки '\\n'\n",
    "    \n",
    "    # корректный построчный вывод\n",
    "    f.seek(0)\n",
    "    for line in f:\n",
    "        print( line.rstrip('\\n') )\n",
    "        \n",
    "    \n",
    "        \n"
   ]
  },
  {
   "cell_type": "code",
   "execution_count": 70,
   "metadata": {},
   "outputs": [
    {
     "name": "stdout",
     "output_type": "stream",
     "text": [
      "Hi from PythonHi from Python again\n",
      "b'Hi from Python'\n",
      "b'Hi from Python again'\n"
     ]
    }
   ],
   "source": [
    "# Запишем в файл:\n",
    "with open('files2.txt', 'w') as f:\n",
    "    f.write(\"Hi from Python\")\n",
    "    \n",
    "# Дополним:\n",
    "with open('files2.txt', 'a') as f:\n",
    "    f.write(\"Hi from Python again\")\n",
    "    \n",
    "# Посмотрим:\n",
    "with open('files2.txt', 'r') as f:\n",
    "    print(f.read()) # Hi from PythonHi from Python again - строки склеились, что делать?\n",
    "    \n",
    "# Добавим символ новой строки\n",
    "with open('files2.txt', 'rb+') as f:\n",
    "    str1 = \"Hi from Python\"\n",
    "    pos = f.seek(len(str1))\n",
    "    str2 = f.read()\n",
    "    f.seek(pos)\n",
    "    f.write(b'\\n') # в таком режиме нужно писать в файл байтовые строки\n",
    "    f.write(str2)\n",
    "    f.seek(0)\n",
    "    for line in f:\n",
    "        print( line.rstrip() )\n",
    "#         b'Hi from Python' - обратите внимание: прочитали мы тоже байтовые строки\n",
    "#         b'Hi from Python again'    "
   ]
  },
  {
   "cell_type": "code",
   "execution_count": 69,
   "metadata": {},
   "outputs": [
    {
     "name": "stdout",
     "output_type": "stream",
     "text": [
      "Строка 1\n",
      "Строка 2\n",
      "Строка 3\n",
      "Строка 4\n",
      "\n",
      "Строка 1\n",
      "Строка 2\n",
      "Строка 4\n",
      "Строка 4\n",
      "\n",
      "Строка 1\n",
      "Строка 2\n",
      "Строка 4\n",
      "\n"
     ]
    }
   ],
   "source": [
    "# Удаление из файла\n",
    "# создадим файл из 4-х строк:\n",
    "with open('files3.txt', 'w+') as f:\n",
    "    f.writelines(st+'\\n' for st in [\"Строка 1\", \"Строка 2\", \"Строка 3\", \"Строка 4\"])\n",
    "    f.seek(0)\n",
    "    print(f.read())\n",
    "    \n",
    "# строка 3, допустим, лишняя, удалим:\n",
    "with open('files3.txt', 'r+') as f:\n",
    "    lines = f.readlines() # прочитаем все строки\n",
    "    del lines[2] # удалим 3-ю\n",
    "    f.seek(0) # перемотаем\n",
    "    f.writelines(lines) # запишем оставшиеся строки, указатель встанет в конце файла\n",
    "    pos = f.tell() # запомним позицию\n",
    "    \n",
    "    # напечатаем, что получается\n",
    "    f.seek(0); print(f.read()); # строка 4 задвоилась, потому что мы удалили строку 3, \n",
    "        # а длину файла не скорректировали\n",
    "    \n",
    "    f.truncate( pos ) # \"обрежем\" файл по сохраненной позиции\n",
    "    f.seek(0)\n",
    "    print(f.read()) # готово\n",
    "    \n",
    "    \n",
    "            "
   ]
  },
  {
   "cell_type": "code",
   "execution_count": 78,
   "metadata": {},
   "outputs": [
    {
     "name": "stdout",
     "output_type": "stream",
     "text": [
      "File abyrvalg.txt not found!\n",
      "File files2.txt is NOT readable\n",
      "File files2.txt is writable\n"
     ]
    }
   ],
   "source": [
    "# проверка файла перед операцией над ним:\n",
    "\n",
    "# есть такой файл или нет:\n",
    "file_name = 'abyrvalg.txt'\n",
    "try:\n",
    "    ff = open(\"abyrvalg.txt\", \"r\")\n",
    "except FileNotFoundError:\n",
    "    print(f\"File {file_name} not found!\")\n",
    "else:\n",
    "    ff.close()\n",
    "    \n",
    "\n",
    "# пермиссии\n",
    "file_name = 'files2.txt'\n",
    "with open(file_name, 'a') as f: # поиграйте с флагами, посмотрите, как изменится вывод\n",
    "    print(\"File {} is {}\".format(file_name, 'readable' if f.readable() else 'NOT readable'))\n",
    "    print(\"File {} is {}\".format(file_name, 'writable' if f.writable() else 'NOT writable'))\n",
    "    \n",
    "\n"
   ]
  },
  {
   "cell_type": "code",
   "execution_count": 93,
   "metadata": {},
   "outputs": [
    {
     "name": "stdout",
     "output_type": "stream",
     "text": [
      "54 bytes\n",
      "2020-09-29 13:40:43.828815\n",
      "2020-09-29 13:31:50.251289\n",
      "2020-09-29 13:31:50.251289\n",
      "Owner: ise (501)\n",
      "Group: staff (20)\n",
      "0o100644\n"
     ]
    }
   ],
   "source": [
    "# Как узнать о файле всё, не открывая его\n",
    "\n",
    "import os\n",
    "import datetime\n",
    "import pwd, grp\n",
    "\n",
    "o = os.stat('files1.txt')\n",
    "\n",
    "print(f\"{o.st_size} bytes\") # - размер в байтах\n",
    "\n",
    "print(datetime.datetime.fromtimestamp(o.st_atime)) # - дата/время последнего доступа,\n",
    "print(datetime.datetime.fromtimestamp(o.st_mtime)) # -  дата последнего изменения,\n",
    "print(datetime.datetime.fromtimestamp(o.st_ctime)) # - в зависимости от платформы: в UNIX\n",
    "                                                #  апдейт метаданных, в Windows - время создания)\n",
    "\n",
    "\n",
    "print(f\"Owner: {pwd.getpwuid(o.st_uid).pw_name} ({o.st_uid})\") # - имя и user id владельца,\n",
    "print(f\"Group: {grp.getgrgid(o.st_gid).gr_name} ({o.st_gid})\") # - название и group id владельца,\n",
    "print(oct(o.st_mode)) # биты прав доступа в восьмеричной системе\n",
    "\n"
   ]
  },
  {
   "cell_type": "markdown",
   "metadata": {},
   "source": [
    "### __ПРАКТИКА__\n",
    "\n",
    "1. Определите, есть ли во входном файле files_excersize01.txt символ '@'. Выведите слово YES и позицию этого символа или NO. \\\n",
    "Входной файл может быть очень большим, поэтому считывать файл нужно посимвольно."
   ]
  },
  {
   "cell_type": "code",
   "execution_count": null,
   "metadata": {
    "collapsed": true
   },
   "outputs": [],
   "source": [
    "# ваш код здесь"
   ]
  },
  {
   "cell_type": "markdown",
   "metadata": {},
   "source": [
    "2. Во входном файле  files_excersize02.txt записано два целых числа, которые могут быть разделены пробелами и концами строк. Выведите в выходной файл их сумму.\\\n",
    "Указание. Считайте весь файл в строковую переменную при помощи метода read()."
   ]
  },
  {
   "cell_type": "code",
   "execution_count": null,
   "metadata": {
    "collapsed": true
   },
   "outputs": [],
   "source": [
    "# ваш код здесь"
   ]
  },
  {
   "cell_type": "markdown",
   "metadata": {},
   "source": [
    "### Пути и операции с путями\n",
    "\n",
    "Используйте функции и переменные из модуля os:\n",
    "- ```os.getcwd()``` - возвращает путь к текущей папке\n",
    "- ```os.path.isfile( path )``` - True, если по данному пути - файл\n",
    "- ```os.path.isdir( path )``` - True, если по данному пути - директория\n",
    "- ```os.path.exists(path)``` Возвращает True, если указанный файл или папка существует.\n",
    "- ```os.sep``` - разделитель имен директорий в пути: \"/\" или \"\\\\\"\n",
    "- ```normpath(path)``` Возвращает «нормализованный» путь к файлу. В нормализованном пути удалены «циклические» пути — например, путь A/foo/../B превращается в A/B.\n",
    "- ```os.path.abspath(path)``` Преобразует относительный путь в абсолютный, считая относительный путь от текущей рабочей папки.\n",
    "- ```os.path.relpath(path)``` Преобразует абсолютный путь в относильный, считая последний от текущей рабочей папки.\n",
    "- ```os.path.split(path)``` Возвращает кортеж, первый элемент которого — путь к папке, а второй — имя файла.\n",
    "- ```os.path.splitdrive(path)``` Возвращает кортеж, первый элемент которого — буква устройства, а второй — путь к файлу внутри устройства.\n",
    "- ```os.path.splitext(path)``` Возвращает кортеж, второй элемент которого — расширение файла (с точкой), а первый — все остальное.\n",
    "- ```os.path.join(path1,path2,path3,...)``` «Склеивает» путь к файлу из заданных частей, вставляя между ними символ- разделитель папок, принятый в данной операционной системе."
   ]
  },
  {
   "cell_type": "code",
   "execution_count": 116,
   "metadata": {},
   "outputs": [
    {
     "name": "stdout",
     "output_type": "stream",
     "text": [
      "/Users/ise/Documents/Specialist/Python1-practice-draft\n",
      "Path /Users/ise/Documents/Specialist/Python1-practice-draft is directory\n",
      "A/B\n",
      "/Users/ise/Documents/Specialist/Python2\n",
      "../../../..\n",
      "('/Users/ise/Documents/Specialist', 'Python1-practice-draft')\n",
      "('myfile', '.ext')\n",
      "this/is/my/path/to/the/file\n"
     ]
    }
   ],
   "source": [
    "import os\n",
    "\n",
    "# Текущий каталог\n",
    "cwd = os.getcwd()\n",
    "print(path)\n",
    "\n",
    "print(\"Path {} is {}\".format(cwd, 'directory' if os.path.isdir(cwd) else ' a file'))\n",
    "print(os.path.normpath('A/foo/../B'))\n",
    "print(os.path.abspath('../Python2'))\n",
    "print(os.path.relpath('/Users'))\n",
    "print(os.path.split(cwd))\n",
    "print(os.path.splitext('myfile.ext'))\n",
    "\n",
    "print(os.path.join('this', 'is', 'my', 'path', 'to', 'the', 'file'))"
   ]
  },
  {
   "cell_type": "markdown",
   "metadata": {},
   "source": [
    "#### Рекурсивный обход директорий\n",
    "\n",
    "Иногда возникает необходимость рекурсивно перебрать все файлы и папки, находящиеся внутри заданной папки. Для этого служит генератор-функция ```os.walk()```. Эта функция принимает параметр — путь к папке, которую необходимо просмотреть. На каждом шаге итерации функция возвращает кортеж ```(path,dirs,files)``` из трех элементов:\n",
    "- ```path``` — пусть к папке, в которую мы только что зашли;\n",
    "- ```dirs``` — список папок, непосредственно содержащихся в папке path (но\n",
    "не в ее подпапках);\n",
    "- ```files``` — список файлов, непосредственно содержащихся в папке path, но не в ее подпапках.\n",
    "Например, чтобы вывести полный список файлов и папок, содержащихся в\n",
    "папке выше по уровню относительно текущей, можно так:"
   ]
  },
  {
   "cell_type": "code",
   "execution_count": 122,
   "metadata": {},
   "outputs": [
    {
     "name": "stdout",
     "output_type": "stream",
     "text": [
      "../\n",
      "../python4-module2-numpy.ipynb\n",
      "../Python1-01-introduction.pdf\n",
      "../Python4 - numpy.pptx\n",
      "../Python1-07-files.pptx\n",
      "../Python1-02-structures-types.pptx\n",
      "../.DS_Store\n",
      "../Шаблон.pptx\n",
      "../Анкета  для сайта.docx\n",
      "../Python1-01-introduction.pptx\n",
      "../Python1 - introduction.pptx\n",
      "../~$Python1-06-modules.pptx\n",
      "../Python1-03-functions-classes.pptx\n",
      "../Python1-practice.zip\n",
      "../Python1-06-modules.pptx\n",
      "../~$Python1-07-files.pptx\n",
      "../Python1-practice-draft\n",
      "../Python1-practice-draft/file2.txt\n",
      "../Python1-practice-draft/file3.txt\n",
      "../Python1-practice-draft/06-modules-dates-json.ipynb\n",
      "../Python1-practice-draft/files_excersize02.txt\n",
      "../Python1-practice-draft/.DS_Store\n",
      "../Python1-practice-draft/05-practice.ipynb\n",
      "../Python1-practice-draft/files_excersize01.txt\n",
      "../Python1-practice-draft/07-files.ipynb\n",
      "../Python1-practice-draft/04-exceptions-iteration.ipynb\n",
      "../Python1-practice-draft/files3.txt\n",
      "../Python1-practice-draft/files2.txt\n",
      "../Python1-practice-draft/files1.txt\n",
      "../Python1-practice-draft/02-basics.ipynb\n",
      "../Python1-practice-draft/03-functions.ipynb\n",
      "../Python1-practice-draft/.ipynb_checkpoints\n",
      "../Python1-practice-draft/.ipynb_checkpoints/03-functions-checkpoint.ipynb\n",
      "../Python1-practice-draft/.ipynb_checkpoints/01-hello-checkpoint.ipynb\n",
      "../Python1-practice-draft/.ipynb_checkpoints/07-files-checkpoint.ipynb\n",
      "../Python1-practice-draft/.ipynb_checkpoints/05-practice-checkpoint.ipynb\n",
      "../Python1-practice-draft/.ipynb_checkpoints/02-basics-checkpoint.ipynb\n",
      "../Python1-practice-draft/.ipynb_checkpoints/06-modules-dates-json-checkpoint.ipynb\n",
      "../Python1-practice-draft/.ipynb_checkpoints/04-exceptions-iteration-checkpoint.ipynb\n",
      "../Python1-practice\n",
      "../Python1-practice/01-hello.ipynb\n",
      "../.ipynb_checkpoints\n",
      "../.ipynb_checkpoints/python4-module2-numpy-checkpoint.ipynb\n"
     ]
    }
   ],
   "source": [
    "import os\n",
    "\n",
    "for ( path, dirs, files ) in os.walk( '../' ) :\n",
    "    print(path)\n",
    "    for file in files :\n",
    "        print(os.path.join( path, file ))"
   ]
  },
  {
   "cell_type": "markdown",
   "metadata": {},
   "source": [
    "### __ПРАКТИКА__\n",
    "\n",
    "Обойти все папки на компьютере, кроме Program Files и сложить их содержимое в файл mycomputer.txt.\\\n",
    "Указание. Начните отладку с родительской директории."
   ]
  },
  {
   "cell_type": "code",
   "execution_count": 128,
   "metadata": {
    "collapsed": true
   },
   "outputs": [],
   "source": [
    "# как обойти все папки на диске C: и пропустить папку Program Files\n",
    "for ( path, dirs, files ) in os.walk( 'C:\\\\' ):\n",
    "    ### print(path)\n",
    "    for file in files :\n",
    "        ### print(os.path.join( path, file ))\n",
    "        pass\n",
    "    if path == 'C:\\\\' and 'Program Files' in dirs :\n",
    "        dirs.remove( 'Program Files' )"
   ]
  },
  {
   "cell_type": "code",
   "execution_count": null,
   "metadata": {
    "collapsed": true
   },
   "outputs": [],
   "source": []
  }
 ],
 "metadata": {
  "kernelspec": {
   "display_name": "Python 3",
   "language": "python",
   "name": "python3"
  },
  "language_info": {
   "codemirror_mode": {
    "name": "ipython",
    "version": 3
   },
   "file_extension": ".py",
   "mimetype": "text/x-python",
   "name": "python",
   "nbconvert_exporter": "python",
   "pygments_lexer": "ipython3",
   "version": "3.7.9"
  }
 },
 "nbformat": 4,
 "nbformat_minor": 4
}
