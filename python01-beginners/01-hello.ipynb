{
 "cells": [
  {
   "cell_type": "markdown",
   "metadata": {},
   "source": [
    "# Курс \"Программирование на языке Python. Уровень 1.\u000b",
    "Основы языка Python\"\n",
    "\n",
    "Поздравляем! Если вы читаете эти строки, значит вы успешно установили и запустили Jupyter Notebook!\n",
    "\n",
    "##  Особенности работы в Jupyter Notebook\n",
    "\n",
    "1. Код пишется в \"клетках\" ```In []:```, результат исполнения - под клеткой ```In []:``` или в \"клетках\" ```Out []:```.\n",
    "2. Stack Trace тоже отображается под клеткой ```In []:```.\n",
    "2. Цифра в квадрантных скобках - порядковый номер исполнения данного фрагмента кода.\n",
    "2. Запуск кода: ```Shift - Enter``` - с переходом в следующую \"клетку\", ```Ctrl - Enter``` - без оного.\n",
    "\n",
    "### Если \"Что-то пошло не так...\"\n",
    "\n",
    "1. ```Ctrl - C``` прервет выполнение кода исключением ```KeyboardInterrupt```\n",
    "1. Если это не помогает - надо перезапустить ядро (меню Kernel / Restart), и потом последовательно выполнить все предыдущие \"клетки\".\n",
    "2. Если и это не помогает - снимите процесс python.\n"
   ]
  },
  {
   "cell_type": "markdown",
   "metadata": {},
   "source": [
    "## Функция print()\n",
    "\n",
    "Эта функция обеспечивает вывод текстовых данных."
   ]
  },
  {
   "cell_type": "code",
   "execution_count": null,
   "metadata": {},
   "outputs": [],
   "source": [
    "print(\"Hello World!\")"
   ]
  },
  {
   "cell_type": "code",
   "execution_count": null,
   "metadata": {},
   "outputs": [],
   "source": [
    "# можно вывести несколько строк, по нескольку раз\n",
    "print(\"Hello\", \"World\")\n",
    "print(\"Hello\", \"World\", \"!\")"
   ]
  },
  {
   "cell_type": "code",
   "execution_count": null,
   "metadata": {},
   "outputs": [],
   "source": [
    "# можно присвоить переменной строковое значение и вывести его\n",
    "str_ = \"Hello again, it's from the variable!\"\n",
    "print(str_)"
   ]
  },
  {
   "cell_type": "code",
   "execution_count": null,
   "metadata": {},
   "outputs": [],
   "source": [
    "str_ = input(\"Who do you want to hail?\")\n",
    "print(\"Hello, \" + str_)"
   ]
  },
  {
   "cell_type": "markdown",
   "metadata": {},
   "source": [
    "У функции ```print()``` есть параметры ```end``` и ```sep```:"
   ]
  },
  {
   "cell_type": "code",
   "execution_count": null,
   "metadata": {},
   "outputs": [],
   "source": [
    "print(\"Hello\", \"World\", end=' --- ')\n",
    "\n",
    "print(\"Hello\", \"World\", \"!\", sep='|')"
   ]
  },
  {
   "cell_type": "markdown",
   "metadata": {},
   "source": [
    "Спецсимволы: табуляция ```\\t``` и перенос строки ```\\n```"
   ]
  },
  {
   "cell_type": "code",
   "execution_count": null,
   "metadata": {},
   "outputs": [],
   "source": [
    "print(\"\\tHello world!\")\n",
    "print(\"Hello\\nworld!\")\n",
    "print(\"Hello\\n\\tworld!\")"
   ]
  },
  {
   "cell_type": "markdown",
   "metadata": {},
   "source": [
    "Python строг с типизацией переменных:"
   ]
  },
  {
   "cell_type": "code",
   "execution_count": null,
   "metadata": {},
   "outputs": [],
   "source": [
    "x = str(4)\n",
    "y = 'hello world'\n",
    "print(x + y)\n",
    "print(type(x))"
   ]
  },
  {
   "cell_type": "code",
   "execution_count": null,
   "metadata": {},
   "outputs": [],
   "source": [
    "x = 4\n",
    "y = 2.55\n",
    "z = x + y\n",
    "print(z)"
   ]
  },
  {
   "cell_type": "markdown",
   "metadata": {},
   "source": [
    "Три способа формирования строк: \n",
    "- конкатенация\n",
    "- f-строка\n",
    "- функция ```format()```"
   ]
  },
  {
   "cell_type": "code",
   "execution_count": null,
   "metadata": {},
   "outputs": [],
   "source": [
    "x = 5\n",
    "print(type(x))\n",
    "\n",
    "print(\"X: \"+str(x)+\" Y: \"+str(y)+\" Z: \"+str(z))\n",
    "\n",
    "print(f\"X: {x} Y: {y} Z: {z}\")\n",
    "\n",
    "print(\"X: {} Y: {} Z: {}\".format(x, y, z))"
   ]
  },
  {
   "cell_type": "markdown",
   "metadata": {},
   "source": [
    "## Ознакомимся с Markdown:"
   ]
  },
  {
   "cell_type": "markdown",
   "metadata": {},
   "source": [
    "# Заголовок 1\n",
    "\n",
    "## Заголовок 2\n",
    "\n",
    "### _Заголовок 3_\n",
    "\n",
    "Quick brown fox __jumped__ _over_ lazy dog. Quick brown fox jumped over lazy dog.Quick brown fox jumped over lazy dog.Quick brown fox jumped over lazy dog.Quick brown fox jumped over lazy dog. Quick brown fox jumped over lazy dog. Quick brown fox jumped over lazy dog. Quick brown fox jumped over lazy dog.\n",
    "\n",
    "Quick brown fox jumped over lazy https://www.dogs.com/. Quick brown fox jumped over lazy dog. Quick brown fox jumped over lazy dog. Quick brown fox jumped over lazy dog.\n",
    "\n",
    "1. Quick brown fox jumped over lazy dog. Quick brown fox jumped over lazy dog. Quick brown fox jumped over lazy dog.\n",
    "2. Quick brown fox jumped over lazy dog. Quick brown fox jumped over lazy dog.\n",
    "1. Quick brown fox jumped over lazy dog. Quick brown fox jumped over lazy dog.\n",
    "\n",
    "$\\begin{cases}\n",
    "2 + t^1*2 = 0 + t_2*(-1) \\\\\n",
    "3 + t_1*1 = 1 + t_2*1\n",
    "\\end{cases}\n",
    "$\n"
   ]
  },
  {
   "cell_type": "markdown",
   "metadata": {},
   "source": [
    "<hr>\n",
    "\n",
    "## Практика\n",
    "\n",
    "Напишите программу, которая принимает от пользователя фамилию, имя и отчество и объединяет их в одну строку, предворяемую словом \"Здравствуйте, \" и завершает восклицательным знаком. Реализуйте это двумя способами: при помощи конкатенации и f-строки."
   ]
  },
  {
   "cell_type": "code",
   "execution_count": null,
   "metadata": {},
   "outputs": [],
   "source": [
    "# ваш код здесь\n"
   ]
  }
 ],
 "metadata": {
  "kernelspec": {
   "display_name": "Python 3 (ipykernel)",
   "language": "python",
   "name": "python3"
  },
  "language_info": {
   "codemirror_mode": {
    "name": "ipython",
    "version": 3
   },
   "file_extension": ".py",
   "mimetype": "text/x-python",
   "name": "python",
   "nbconvert_exporter": "python",
   "pygments_lexer": "ipython3",
   "version": "3.9.12"
  }
 },
 "nbformat": 4,
 "nbformat_minor": 4
}
