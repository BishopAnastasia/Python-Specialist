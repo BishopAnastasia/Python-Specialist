{
 "cells": [
  {
   "cell_type": "markdown",
   "metadata": {},
   "source": [
    "# Курс \"Программирование на языке Python. Уровень 1.\u000b",
    "Основы языка Python\"\n",
    "\n",
    "Поздравляем! Если вы читаете эти строки, значит вы успешно установили и запустили Jupyter Notebook!\n",
    "\n",
    "##  Особенности работы в Jupyter Notebook\n",
    "\n",
    "1. Код пишется в \"клетках\" ```In []:```, результат исполнения - в \"клетках\" ```Out []:```.\n",
    "2. Stack Trace тоже отображается в клетках ```Out []:```.\n",
    "2. Цифра в квадрантных скобках - порядковый номер исполнения данного фрагмента кода.\n",
    "2. Запуск кода: ```Shift - Enter``` - с переходом в следующую \"клетку\", ```Ctrl - Enter``` - без оного.\n",
    "\n",
    "### Если \"Что-то пошло не так...\"\n",
    "\n",
    "1. ```Ctrl - C``` прервет выполнение кода исключением ```KeyboardInterrupt```\n",
    "1. Если это не помогает - надо перезапустить ядро (меню Kernel / Restart), и потом последовательно выполнить все предыдущие \"клетки\".\n",
    "2. Если и это не помогает - снимите процесс python.\n"
   ]
  },
  {
   "cell_type": "code",
   "execution_count": 1,
   "metadata": {
    "collapsed": false,
    "deletable": true,
    "editable": true
   },
   "outputs": [
    {
     "name": "stdout",
     "output_type": "stream",
     "text": [
      "Hello World!\n"
     ]
    }
   ],
   "source": [
    "print(\"Hello World!\")"
   ]
  },
  {
   "cell_type": "code",
   "execution_count": 2,
   "metadata": {
    "collapsed": false,
    "deletable": true,
    "editable": true
   },
   "outputs": [
    {
     "name": "stdout",
     "output_type": "stream",
     "text": [
      "Hello again, it's from the variable!\n"
     ]
    }
   ],
   "source": [
    "x = \"Hello again, it's from the variable!\"\n",
    "print(x)"
   ]
  },
  {
   "cell_type": "code",
   "execution_count": 4,
   "metadata": {
    "collapsed": false,
    "deletable": true,
    "editable": true
   },
   "outputs": [
    {
     "name": "stdout",
     "output_type": "stream",
     "text": [
      "Who do you want to hail? world\n",
      "Hello,  world\n"
     ]
    }
   ],
   "source": [
    "y = input(\"Who do you want to hail?\")\n",
    "print(\"Hello, \" + y)"
   ]
  },
  {
   "cell_type": "code",
   "execution_count": 1,
   "metadata": {
    "collapsed": false,
    "deletable": true,
    "editable": true
   },
   "outputs": [
    {
     "name": "stdout",
     "output_type": "stream",
     "text": [
      "How many \"hello\"'s?2\n",
      "Hello! Hello! \n"
     ]
    }
   ],
   "source": [
    "z = input(\"How many \\\"hello\\\"'s?\")\n",
    "z = int(z)\n",
    "print(\"Hello! \" * z)"
   ]
  },
  {
   "cell_type": "code",
   "execution_count": 6,
   "metadata": {
    "collapsed": false,
    "deletable": true,
    "editable": true
   },
   "outputs": [
    {
     "name": "stdout",
     "output_type": "stream",
     "text": [
      "\tHello world!\n",
      "Hello\n",
      "world!\n",
      "Hello\n",
      "\tworld!\n"
     ]
    }
   ],
   "source": [
    "print(\"\\tHello world!\")\n",
    "print(\"Hello\\nworld!\")\n",
    "print(\"Hello\\n\\tworld!\")"
   ]
  },
  {
   "cell_type": "code",
   "execution_count": 14,
   "metadata": {
    "collapsed": false,
    "deletable": true,
    "editable": true
   },
   "outputs": [
    {
     "name": "stdout",
     "output_type": "stream",
     "text": [
      "How many \"hello\"'s?2\n",
      "Hello! Hello! \n"
     ]
    }
   ],
   "source": [
    "z = input(\"How many \\\"hello\\\"'s?\")\n",
    "z = int(z)\n",
    "print(\"Hello! \" * z)"
   ]
  },
  {
   "cell_type": "code",
   "execution_count": 27,
   "metadata": {
    "collapsed": false,
    "deletable": true,
    "editable": true
   },
   "outputs": [
    {
     "name": "stdout",
     "output_type": "stream",
     "text": [
      "Hi    Hi\n"
     ]
    }
   ],
   "source": [
    "print(\"Hi\", end=(' ' * 4))\n",
    "print(\"Hi\")"
   ]
  },
  {
   "cell_type": "code",
   "execution_count": 37,
   "metadata": {
    "collapsed": false,
    "deletable": true,
    "editable": true
   },
   "outputs": [
    {
     "name": "stdout",
     "output_type": "stream",
     "text": [
      "4hello world\n",
      "<class 'str'>\n"
     ]
    }
   ],
   "source": [
    "x = str(4)\n",
    "y = 'hello world'\n",
    "print(x + y)\n",
    "print(type(x))"
   ]
  },
  {
   "cell_type": "code",
   "execution_count": 38,
   "metadata": {
    "collapsed": false,
    "deletable": true,
    "editable": true
   },
   "outputs": [
    {
     "name": "stdout",
     "output_type": "stream",
     "text": [
      "6.55\n"
     ]
    }
   ],
   "source": [
    "x = 4\n",
    "y = 2.55\n",
    "z = x + y\n",
    "print(z)"
   ]
  },
  {
   "cell_type": "code",
   "execution_count": 51,
   "metadata": {
    "collapsed": false,
    "deletable": true,
    "editable": true
   },
   "outputs": [
    {
     "name": "stdout",
     "output_type": "stream",
     "text": [
      "<class 'int'>\n",
      "X: 5 Y: 2.55 Z: 6.55\n",
      "X: 5 Y: 2.55 Z: 6.55\n",
      "X: 5 Y: 2.55 Z: 6.55\n"
     ]
    }
   ],
   "source": [
    "x = 5\n",
    "print(type(x))\n",
    "print(\"X: \"+str(x)+\" Y: \"+str(y)+\" Z: \"+str(z))\n",
    "print(f\"X: {x} Y: {y} Z: {z}\")\n",
    "ll = [x, y, z]\n",
    "print(\"X: {} Y: {} Z: {}\".format(*ll))"
   ]
  },
  {
   "cell_type": "markdown",
   "metadata": {},
   "source": [
    "## Ознакомимся с Markdown:"
   ]
  },
  {
   "cell_type": "markdown",
   "metadata": {
    "deletable": true,
    "editable": true
   },
   "source": [
    "# Заголовок 1\n",
    "\n",
    "## Заголовок 2\n",
    "\n",
    "### _Заголовок 3_\n",
    "\n",
    "Quick brown fox __jumped__ _over_ lazy dog. Quick brown fox jumped over lazy dog.Quick brown fox jumped over lazy dog.Quick brown fox jumped over lazy dog.Quick brown fox jumped over lazy dog. Quick brown fox jumped over lazy dog. Quick brown fox jumped over lazy dog. Quick brown fox jumped over lazy dog.\n",
    "\n",
    "Quick brown fox jumped over lazy https://www.dogs.com/. Quick brown fox jumped over lazy dog. Quick brown fox jumped over lazy dog. Quick brown fox jumped over lazy dog.\n",
    "\n",
    "1. Quick brown fox jumped over lazy dog. Quick brown fox jumped over lazy dog. Quick brown fox jumped over lazy dog.\n",
    "2. Quick brown fox jumped over lazy dog. Quick brown fox jumped over lazy dog.\n",
    "1. Quick brown fox jumped over lazy dog. Quick brown fox jumped over lazy dog.\n",
    "\n",
    "$\\begin{cases}\n",
    "2 + t^1*2 = 0 + t_2*(-1) \\\\\n",
    "3 + t_1*1 = 1 + t_2*1\n",
    "\\end{cases}\n",
    "$\n"
   ]
  },
  {
   "cell_type": "code",
   "execution_count": null,
   "metadata": {
    "collapsed": true,
    "deletable": true,
    "editable": true
   },
   "outputs": [],
   "source": []
  }
 ],
 "metadata": {
  "kernelspec": {
   "display_name": "Python 3",
   "language": "python",
   "name": "python3"
  },
  "language_info": {
   "codemirror_mode": {
    "name": "ipython",
    "version": 3
   },
   "file_extension": ".py",
   "mimetype": "text/x-python",
   "name": "python",
   "nbconvert_exporter": "python",
   "pygments_lexer": "ipython3",
   "version": "3.5.9"
  }
 },
 "nbformat": 4,
 "nbformat_minor": 4
}
