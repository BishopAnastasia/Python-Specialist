{
 "cells": [
  {
   "cell_type": "markdown",
   "id": "empirical-kruger",
   "metadata": {},
   "source": [
    "\n",
    "# Программирование на языке Python. Уровень 1. Основы языка Python\n",
    "\n",
    "## Проверочная работа, Вариант 2\n",
    "\n",
    "Как проводится работа:\n",
    " - если за 50 минут вы решили любые две из трех задач - курс прошел не зря;\n",
    " - если за это время вы решите третью задачу - отлично, вы усвоили курс и набрали достаточно опыта;\n",
    " - решите оба варианта - можете идти на собеседование на позицию Junior Python Developer (но лучше после \"продвинутого\" курса).\n",
    "\n",
    "Код должен запускаться без ошибок, задачи нужно решать в общем виде, без \"хардкода\". \\\n",
    "Если написано \"напишите функцию\" - значит в коде должна быть функция и ее вызов.\n",
    "\n",
    "Удачи!\n"
   ]
  },
  {
   "cell_type": "markdown",
   "id": "uniform-subject",
   "metadata": {
    "paper_id": 2,
    "tags": [
     "Билет 2"
    ]
   },
   "source": [
    "## Билет 2"
   ]
  },
  {
   "cell_type": "markdown",
   "id": "express-identifier",
   "metadata": {
    "paper_id": 2,
    "tags": [
     "task_201",
     "Билет 2"
    ],
    "task_id": 201
   },
   "source": [
    "1. Напишите функцию, которая принимает два вещественных числа и возвращает большее из них. Числа вводит пользователь."
   ]
  },
  {
   "cell_type": "code",
   "execution_count": null,
   "id": "polyphonic-bubble",
   "metadata": {
    "paper_id": 2,
    "tags": [
     "task_201",
     "Билет 2"
    ],
    "task_id": 201
   },
   "outputs": [],
   "source": [
    "# ваш код здесь\n",
    "def bigger(a, b):\n",
    "    pass\n"
   ]
  },
  {
   "cell_type": "markdown",
   "id": "identified-presentation",
   "metadata": {
    "paper_id": 2,
    "tags": [
     "task_203",
     "Билет 2"
    ],
    "task_id": 203
   },
   "source": [
    "2. Создайте 2 списка из 5 случайных целых чисел от 1 до 10. Определите, сколько общих чисел содержат списки (т.е. чисел, которые есть и в первом, и во втором списках)."
   ]
  },
  {
   "cell_type": "code",
   "execution_count": null,
   "id": "requested-entry",
   "metadata": {
    "paper_id": 2,
    "tags": [
     "task_203",
     "Билет 2"
    ],
    "task_id": 203
   },
   "outputs": [],
   "source": [
    "# ваш код здесь\n",
    "\n"
   ]
  },
  {
   "cell_type": "markdown",
   "id": "1f5c20ea",
   "metadata": {
    "paper_id": 2,
    "tags": [
     "task_202",
     "Билет 2"
    ],
    "task_id": 202
   },
   "source": [
    "3. Напишите функцию, которая проверяет переданную ей строку на то, является ли она палиндромом. Возвращаемое значение - ```True``` или ```False```. Палиндром — это слово или фраза, которые одинаково читаются слева направо и справа налево. Строку вводит пользователь. Если пользователь ввел палиндром - программа должна вывести на экран сообщение \"Это палиндром\". В противном случае - \"Это не палинром\"."
   ]
  },
  {
   "cell_type": "code",
   "execution_count": null,
   "id": "cabcc6ca",
   "metadata": {
    "paper_id": 2,
    "tags": [
     "task_202",
     "Билет 2"
    ],
    "task_id": 202
   },
   "outputs": [],
   "source": [
    "# ваш код здесь\n",
    "\n"
   ]
  }
 ],
 "metadata": {
  "kernelspec": {
   "display_name": "Python 3 (ipykernel)",
   "language": "python",
   "name": "python3"
  },
  "language_info": {
   "codemirror_mode": {
    "name": "ipython",
    "version": 3
   },
   "file_extension": ".py",
   "mimetype": "text/x-python",
   "name": "python",
   "nbconvert_exporter": "python",
   "pygments_lexer": "ipython3",
   "version": "3.9.7"
  }
 },
 "nbformat": 4,
 "nbformat_minor": 5
}
