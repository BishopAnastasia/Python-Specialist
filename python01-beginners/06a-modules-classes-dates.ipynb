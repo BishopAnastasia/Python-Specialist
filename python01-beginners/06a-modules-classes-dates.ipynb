{
 "cells": [
  {
   "cell_type": "markdown",
   "metadata": {},
   "source": [
    "# Программирование на языке Python. Уровень 1.\u000b",
    "Основы языка Python\n",
    "\n"
   ]
  },
  {
   "cell_type": "markdown",
   "metadata": {},
   "source": [
    "## Модуль 6а. Модули, классы, дата/время"
   ]
  },
  {
   "cell_type": "markdown",
   "metadata": {},
   "source": [
    "## Работа с модулями и пакетами в Python\n",
    "\n",
    "Модули подключаются командой import.\n",
    "\n",
    "```python \n",
    "# собственно импорт модуля \n",
    "import  <name_module>\n",
    "\n",
    "# вызов функции из этого модуля\n",
    "<name_module>.func_from_module()\n",
    "```\n",
    "\n",
    "Использование команды from импортирует переменные в режиме read-only. Ниже - импорт всех переменных:\n",
    "```python\n",
    "from <name_module> import * # !!! никогда так не делайте!\n",
    "func_from_module()\n",
    "```\n",
    "\n",
    "Можно импортировать только одну функцию:\n",
    "```python\n",
    "from <name_module> import func_from_module\n",
    "x = func_from_module()\n",
    "```\n",
    "\n",
    "... или класс\n",
    "```python\n",
    "from <name_module> import class_from_module\n",
    "o = class_from_module()\n",
    "o.method_of_class_from_module()\n",
    "```\n",
    "\n",
    "Можно импортировать несколько переменных:\n",
    "```python\n",
    "from <name_module> import func1_from_module, func2_from_module\n",
    "func1_from_module()\n",
    "...\n",
    "func2_from_module()\n",
    "```\n",
    "\n",
    "Можно импортировать переменную с алиасом:\n",
    "```python\n",
    "from <name_module> import func1_from_module as fn1\n",
    "fn1()\n",
    "```\n",
    "\n",
    "\n",
    "Можно импортировать весь модуль с алиасом (для сокращения кода):\n",
    "```python\n",
    "import numpy as np\n",
    "x = np.array()\n",
    "```\n",
    "\n",
    "__Правила PEP8/Jupyter Notebook__: \n",
    "- импорт всех пакетов, которые используются в данной тетрадке должен быть в самой верхней клетке;\n",
    "- импорт всех пакетов, которые используются в вашем модуле должен быть вверху файла с кодом;\n",
    "- одна строка - один ```import```.\n"
   ]
  },
  {
   "cell_type": "code",
   "execution_count": null,
   "metadata": {},
   "outputs": [],
   "source": [
    "# так делать не надо\n",
    "from math import *\n",
    "\n",
    "print(pi)\n",
    "pi = 3\n",
    "print(pi)"
   ]
  },
  {
   "cell_type": "code",
   "execution_count": null,
   "metadata": {},
   "outputs": [],
   "source": [
    "# а вот так делать можно и нужно\n",
    "import math\n",
    "\n",
    "print(math.pi)"
   ]
  },
  {
   "cell_type": "code",
   "execution_count": null,
   "metadata": {},
   "outputs": [],
   "source": [
    "# генератор случайных чисел\n",
    "import random\n",
    "\n",
    "print(random.random())\n",
    "print(random.randint(0, 100))"
   ]
  },
  {
   "cell_type": "markdown",
   "metadata": {},
   "source": [
    "Загрузка модулей из репозитория PyPI выполняется с помощью команд ```pip install ...```, ```pip3 install ...``` или ```conda install ...```. Эти команды можно запускать прямо из тетради:"
   ]
  },
  {
   "cell_type": "code",
   "execution_count": null,
   "metadata": {},
   "outputs": [],
   "source": [
    "!pip install numpy"
   ]
  },
  {
   "cell_type": "markdown",
   "metadata": {},
   "source": [
    "Узнать список установленных модулей можно с помощью функции ```help('modules')```"
   ]
  },
  {
   "cell_type": "code",
   "execution_count": null,
   "metadata": {},
   "outputs": [],
   "source": [
    "help(\"modules\")"
   ]
  },
  {
   "cell_type": "code",
   "execution_count": null,
   "metadata": {},
   "outputs": [],
   "source": [
    "# покажет директории, где Python ищет модули\n",
    "import sys\n",
    "print(sys.path)"
   ]
  },
  {
   "cell_type": "markdown",
   "metadata": {},
   "source": [
    "### Создание собственного модуля\n",
    "\n",
    "Чтобы создать модуль, нужно создать обычный файл с кодом на язяке Python, поместив в этот файл нужные функции. \n",
    "\n",
    "#### ПРАКТИКА\n",
    "\n",
    "Создайте в текущем каталоге файл ```mod1.py``` со следующим содержимым:\n",
    "```python\n",
    "def func1 ( x ) :\n",
    "    return \"Функция вызвана с параметром '{x}'\"\n",
    "```\n",
    "\n",
    "Выполните код:"
   ]
  },
  {
   "cell_type": "code",
   "execution_count": null,
   "metadata": {},
   "outputs": [],
   "source": [
    "import mod1\n",
    "\n",
    "print( mod1.func1(\"test\") )\n"
   ]
  },
  {
   "cell_type": "markdown",
   "metadata": {},
   "source": [
    "Для корректной подгрузки модуля по мере редактирования выполните в отдельной клетке следующие команды:\n",
    "```python\n",
    "%load_ext autoreload\n",
    "%autoreload 2\n",
    "```"
   ]
  },
  {
   "cell_type": "code",
   "execution_count": null,
   "metadata": {},
   "outputs": [],
   "source": [
    "%load_ext autoreload\n",
    "%autoreload 2"
   ]
  },
  {
   "cell_type": "code",
   "execution_count": null,
   "metadata": {},
   "outputs": [],
   "source": [
    "print( mod1.func1(\"test\") )\n"
   ]
  },
  {
   "cell_type": "markdown",
   "metadata": {},
   "source": [
    "### Объекты и классы, основы ООП\n",
    "\n",
    "В Python любая переменная - объект: списки, словари, строки и даже функции и числа. \n",
    "\n",
    "У объектов есть свойства и методы: свойства хранят информацию об объектах, методы - функции, встроенные в объект.\n"
   ]
  },
  {
   "cell_type": "code",
   "execution_count": 6,
   "metadata": {},
   "outputs": [
    {
     "name": "stdout",
     "output_type": "stream",
     "text": [
      "4\n",
      "3\n"
     ]
    }
   ],
   "source": [
    "a = 4\n",
    "print(a.real) # свойство\n",
    "print(a.bit_length()) # метод, встроенная функция\n"
   ]
  },
  {
   "cell_type": "code",
   "execution_count": 7,
   "metadata": {},
   "outputs": [
    {
     "name": "stdout",
     "output_type": "stream",
     "text": [
      "[0 1 2 3 4 5 6 7 8 9]\n"
     ]
    },
    {
     "data": {
      "text/plain": [
       "45"
      ]
     },
     "execution_count": 7,
     "metadata": {},
     "output_type": "execute_result"
    }
   ],
   "source": [
    "import numpy as np\n",
    "\n",
    "arr = np.arange(10)\n",
    "print(arr)\n",
    "arr.shape # свойство\n",
    "arr.sum() # метод"
   ]
  },
  {
   "cell_type": "markdown",
   "metadata": {},
   "source": [
    "Объекты создаются на базе классов. Класс - это специальный тип данных, на базе которого строятся объекты."
   ]
  },
  {
   "cell_type": "code",
   "execution_count": 10,
   "metadata": {},
   "outputs": [
    {
     "data": {
      "text/plain": [
       "'Ilya'"
      ]
     },
     "execution_count": 10,
     "metadata": {},
     "output_type": "execute_result"
    }
   ],
   "source": [
    "class Human:\n",
    "    eyes = 2\n",
    "    hands = 2\n",
    "    legs = 2\n",
    "    name = None\n",
    "    \n",
    "    def __init__(self, name):\n",
    "        self.name = name\n",
    "    \n",
    "    def get_name(self):\n",
    "        return self.name\n",
    "    \n",
    "man = Human(\"Ilya\")\n",
    "man.get_name()"
   ]
  },
  {
   "cell_type": "code",
   "execution_count": 15,
   "metadata": {},
   "outputs": [
    {
     "name": "stdout",
     "output_type": "stream",
     "text": [
      "2\n",
      "2\n",
      "['Python Programming']\n"
     ]
    }
   ],
   "source": [
    "class Student(Human):\n",
    "    active_courses = []\n",
    "    \n",
    "    def assign_course(self, course):\n",
    "        self.active_courses.append(course)\n",
    "        \n",
    "student = Student('Oleg')\n",
    "student.get_name()\n",
    "student.assign_course('Python Programming')\n",
    "\n",
    "print(student.eyes)\n",
    "print(student.legs)\n",
    "print(student.active_courses)"
   ]
  },
  {
   "cell_type": "markdown",
   "metadata": {},
   "source": [
    "### Какие преимущетва объектно-ориентированного подхода?\n",
    "\n",
    "1. Объектная модель вполне естественна, поскольку в первую очередь ориентирована на человеческое восприятие мира, а не на компьютерную реализацию\n",
    "2. Общие компоненты могут использоваться многократно без изменений\n",
    "3. В объекты и классы можно инкапсулировать данные и функционал"
   ]
  },
  {
   "cell_type": "markdown",
   "metadata": {},
   "source": [
    "## Дата и время\n",
    "\n",
    "Модуль для работы с датами - ```datetime```.\n",
    "\n",
    "В нем следующие классы:\n",
    "- datetime.date\n",
    "- datetime.timedelta\n",
    "- datetime.datetime\n",
    "\n",
    "Ориентируемся на ISO-стандарт хранения даты и времени в виде текстовой строки: ```YYYY-MM-DD HH:MM:SS.mmm```.\n",
    "\n",
    "Этот старндарт используется в SQL, JavaScript и других языках программирования, принимается множеством API.\n",
    "\n",
    "Для создания даты из такой строки используйте метод ```datetime.fromisoformat()```.\n",
    "Сохранить дату в ISO-формате: ```datetime.isoformat()```.\n",
    "\n",
    "Текущее местное время: ```datetime.today()```. Время по UTC: ```datetime.utcnow()```"
   ]
  },
  {
   "cell_type": "code",
   "execution_count": null,
   "metadata": {},
   "outputs": [],
   "source": [
    "from datetime import datetime\n",
    "from datetime import date\n",
    "from datetime import timedelta\n",
    "\n",
    "now = datetime.today()\n",
    "print(now.timestamp())\n",
    "print(now.isoformat())\n",
    "\n",
    "unixEpoch = datetime.fromisoformat(\"1970-01-01 03:00\")\n",
    "print(unixEpoch.isoformat())\n",
    "\n",
    "# то же самое - с датами\n",
    "today = date.today()\n",
    "print(today.isoformat())\n",
    "\n",
    "# Можно создать дату, зная месяц, год и число:\n",
    "gagarin_date = date(1961, 4, 12)\n",
    "print(gagarin_date)"
   ]
  },
  {
   "cell_type": "markdown",
   "metadata": {},
   "source": [
    "Преобразование дат в строку: ```datetime.strftime()```\n",
    "\n",
    "Пример преобразования в строку в соответствии с ISO-форматом:\n",
    "```somedate.strftime('%Y-%m-%d %H:%M:%S')```\n",
    "\n",
    "#### ЗАДАНИЕ. Преобразуйте сегодняшнюю дату в формат ДД.ММ.ГГГГ ЧЧ.ММ"
   ]
  },
  {
   "cell_type": "code",
   "execution_count": null,
   "metadata": {},
   "outputs": [],
   "source": [
    "# замените ---format на соответствующий формат\n",
    "today = date.today()\n",
    "print(today.strftime(\"---format\"))"
   ]
  },
  {
   "cell_type": "markdown",
   "metadata": {},
   "source": [
    "#### Разница во времени, временные интервалы\n",
    "\n",
    "Для задания временных интервало используется класс ```timedelta```. \"Дельты\" можно складывать с датами и датой/временем, друг с другом, делить, умножать и так далее."
   ]
  },
  {
   "cell_type": "code",
   "execution_count": null,
   "metadata": {},
   "outputs": [],
   "source": [
    "delta = timedelta(\n",
    "    days=50,\\\n",
    "    seconds=27,\\\n",
    "    microseconds=10,\\\n",
    "    milliseconds=29000,\\\n",
    "    minutes=5,\\\n",
    "    hours=8,\\\n",
    "    weeks=2\\\n",
    ")\n",
    "\n",
    "now_plus_delta = now + delta\n",
    "print(now_plus_delta.isoformat())"
   ]
  },
  {
   "cell_type": "markdown",
   "metadata": {},
   "source": [
    "#### ПРАКТИКА\n",
    "\n",
    "1. Выведите на экран 10 дат, которые соответствуют текущей + 10 дней.\n",
    "\n",
    "2. Выведите на экран 10 значений времени, отстающих от текущего на 15 минут."
   ]
  },
  {
   "cell_type": "code",
   "execution_count": null,
   "metadata": {},
   "outputs": [],
   "source": [
    "# ваш код здесь\n",
    "\n",
    "\n"
   ]
  }
 ],
 "metadata": {
  "kernelspec": {
   "display_name": "Python 3",
   "language": "python",
   "name": "python3"
  },
  "language_info": {
   "codemirror_mode": {
    "name": "ipython",
    "version": 3
   },
   "file_extension": ".py",
   "mimetype": "text/x-python",
   "name": "python",
   "nbconvert_exporter": "python",
   "pygments_lexer": "ipython3",
   "version": "3.7.9"
  }
 },
 "nbformat": 4,
 "nbformat_minor": 4
}
