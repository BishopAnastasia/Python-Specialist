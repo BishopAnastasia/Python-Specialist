{
 "cells": [
  {
   "cell_type": "markdown",
   "id": "palestinian-advertising",
   "metadata": {},
   "source": [
    "\n",
    "# Программирование на языке Python. Уровень 1. Основы языка Python\n",
    "\n",
    "## Проверочная работа, Вариант 1\n",
    "\n",
    "Как проводится работа:\n",
    " - если за 50 минут вы решили любые две из трех задач - курс прошел не зря;\n",
    " - если за это время вы решите третью задачу - отлично, вы усвоили курс и набрали достаточно опыта;\n",
    " - решите оба варианта - можете идти на собесесдование на позицию Junior Python Developer (но лучше после \"продвинутого\" курса).\n",
    "\n",
    "Код должен запускаться без ошибок, задачи нужно решать в общем виде, без \"хардкода\".\n",
    "Если написано напишите функцию - значит в коде должна быть функция и ее вызов.\n",
    "\n",
    "Удачи!\n"
   ]
  },
  {
   "cell_type": "markdown",
   "id": "close-norman",
   "metadata": {
    "paper_id": 1,
    "tags": [
     "Билет 1"
    ]
   },
   "source": [
    "## Билет 1"
   ]
  },
  {
   "cell_type": "markdown",
   "id": "declared-guitar",
   "metadata": {
    "paper_id": 1,
    "tags": [
     "task_101",
     "Билет 1"
    ],
    "task_id": 101
   },
   "source": [
    "1. Напишите функцию, которая вычисляет все делители переданного ей числа и возвращает их в виде кортежа. Использовать функцию ```range()```. Число вводит пользователь. Число не должно превышать 10000."
   ]
  },
  {
   "cell_type": "code",
   "execution_count": null,
   "id": "eight-feature",
   "metadata": {
    "paper_id": 1,
    "tags": [
     "task_101",
     "Билет 1"
    ],
    "task_id": 101
   },
   "outputs": [],
   "source": [
    "# ваш код здесь\n",
    "\n"
   ]
  },
  {
   "cell_type": "markdown",
   "id": "included-barrel",
   "metadata": {
    "paper_id": 1,
    "tags": [
     "task_102",
     "Билет 1"
    ],
    "task_id": 102
   },
   "source": [
    "2. Значения переменных А и В ввести с клавиатуры и вывести на экран. После этого значения меняются местами, т.е. A нужно присвоить значение B, а B – значение A, и вновь значения переменных вывести на экран."
   ]
  },
  {
   "cell_type": "code",
   "execution_count": null,
   "id": "bottom-shuttle",
   "metadata": {
    "paper_id": 1,
    "tags": [
     "task_102",
     "Билет 1"
    ],
    "task_id": 102
   },
   "outputs": [],
   "source": [
    "# ваш код здесь\n",
    "\n"
   ]
  },
  {
   "cell_type": "markdown",
   "id": "exciting-belize",
   "metadata": {
    "paper_id": 1,
    "tags": [
     "task_103",
     "Билет 1"
    ],
    "task_id": 103
   },
   "source": [
    "3. Напишите функцию, которая принимает на вход координаты двух отрезков на коорднатной прямой ```[a, b]``` и ```[c, d]``` и возвращет пересечение этих отрезков в виде кортежа из двух элементов. Если отрезки не пересекаются, то функция должна возвращать ```False```. "
   ]
  },
  {
   "cell_type": "code",
   "execution_count": null,
   "id": "exposed-vision",
   "metadata": {
    "paper_id": 1,
    "tags": [
     "task_103",
     "Билет 1"
    ],
    "task_id": 103
   },
   "outputs": [],
   "source": [
    "ab = [1, 7]\n",
    "cd = [4, 10]\n",
    "\n",
    "def intersection(a, b, c, d):\n",
    "    # ваш код здесь\n",
    "    pass\n",
    "\n",
    "\n"
   ]
  }
 ],
 "metadata": {
  "kernelspec": {
   "display_name": "Python 3 (ipykernel)",
   "language": "python",
   "name": "python3"
  },
  "language_info": {
   "codemirror_mode": {
    "name": "ipython",
    "version": 3
   },
   "file_extension": ".py",
   "mimetype": "text/x-python",
   "name": "python",
   "nbconvert_exporter": "python",
   "pygments_lexer": "ipython3",
   "version": "3.9.12"
  }
 },
 "nbformat": 4,
 "nbformat_minor": 5
}
