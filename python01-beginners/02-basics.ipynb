{
 "cells": [
  {
   "cell_type": "markdown",
   "metadata": {},
   "source": [
    "# Программирование на языке Python. Уровень 1.\u000b",
    "Основы языка Python\n",
    "\n",
    "## Модуль 2. Основные конструкции языка"
   ]
  },
  {
   "cell_type": "markdown",
   "metadata": {},
   "source": [
    "#### Именование переменных\n",
    "\n",
    "Синтаксис Python чУвстВителеН к рЕгИстРу. \n",
    "\n",
    "Если следовать PEP8, переменные следует именовать в нижнем регистре, семантически разделяя знаком подчеркивания.\n",
    "ПереМенныЙ реГистР и \"венгерская нотация\" допустимы по согласованию с командой.\n",
    "\n",
    "Избегайте именование переменной одной буквой. Исключение: счетчики в циклах (математики допускают $A_i$, $K_j$ и прочее).\n",
    "\n",
    "Не давайте переменным имена, совпадающие с ключевыми словами и именами функций в Python - это чревато неожиданными и непредсказуемыми последствиями.\n"
   ]
  },
  {
   "cell_type": "code",
   "execution_count": null,
   "metadata": {},
   "outputs": [],
   "source": [
    "# эти имена из одной буквы допустимы только если вы используете их для обозначения координат\n",
    "x = 3.14\n",
    "y = 2.55\n",
    "\n",
    "# другая крайность\n",
    "ne_samoe_bolshoe_prosotoe_chislo = 121 # замучаетесь писать в коде имя такой переменной\n",
    "\n",
    "# избегайте имен переменных, совпадающих с именами функций, ключевыми словами и т.д.\n",
    "len = len(\"Не делайте этого\")\n",
    "print(len(\"А то ключевое слово утратит свой смысл\")) # будет ошибка TypeError: 'int' object is not callable\n",
    "\n",
    "# \"венгерская нотация\": имя типа в имени переменной. Хм... Но если очень надо, то можно.\n",
    "strA = \"Это строка A\"\n",
    "intB = 8\n",
    "\n"
   ]
  },
  {
   "cell_type": "markdown",
   "metadata": {},
   "source": [
    "#### Базовые типы данных\n",
    "\n",
    " - int - целое число\n",
    " - long - длинное целое число\n",
    " - float - дробное число\n",
    " - bool - булев тип\n",
    " - str - строка: по умолчанию она в unicode. Как хранить и обрабатывать двоичные данные и unicode mb4 - расскажем в блоке \"операции со строками\"\n",
    " - NoneType - нуль-тип\n",
    " - complex - комплексное число\n",
    " \n",
    " Узнать тип можно выполнив команду ```type()```"
   ]
  },
  {
   "cell_type": "code",
   "execution_count": null,
   "metadata": {},
   "outputs": [],
   "source": [
    "# Способы задания float:\n",
    "float_simple = 3.14\n",
    "float_exp_big = 2.15e5 # 2.15 на 10 в 5-й степени = 215000.0\n",
    "float_exp_small = 2.15e-2 # 2.15 на 10 в -2-й степени (т.е. 0.01) = 0.0215\n",
    "\n",
    "# Булев тип - помним про чувствительность к регистру\n",
    "python_is_good = True\n",
    "other_langs_are_bad = False\n",
    "\n",
    "# Три способа инициализации строковых переменных текстом из нескольких строк:\n",
    "my_string = \"Мой текст\\nиз двух строк\" # самый очевидный, используя символ новой строки\n",
    "my_string_again = \"Мой текст\" \\\n",
    "    + \"\\nиз двух строк\" # если строка длинная, ее можно представить как конкатенацию двух строк с переносом\n",
    "# А вот так можно задавать объемные тексты из нескольких строк\n",
    "my_big_string = \"\"\"Это моя\n",
    "большая-пребольшая\n",
    "длинная-предлинная\n",
    "строка\n",
    "\"\"\"\n",
    "\n",
    "# нуль-тип\n",
    "y = None\n",
    "print(y is None) # True\n",
    "print(y==5) # False\n",
    "print(y==None) # True\n",
    "print(type(y)) # <class 'NoneType'>\n",
    "\n",
    "# Инициализация комплексного числа\n",
    "complex_num = 2.0+1.3j"
   ]
  },
  {
   "cell_type": "markdown",
   "metadata": {},
   "source": [
    "#### Операция присваивания, динамическая типизация"
   ]
  },
  {
   "cell_type": "code",
   "execution_count": null,
   "metadata": {},
   "outputs": [],
   "source": [
    "# переменные декларируются (инициализируются) в момент присваивания значений\n",
    "x_str = \"Строка\"\n",
    "x_int = 4\n",
    "print(type(x_str)) # <class 'str'>\n",
    "print(type(x_int)) # <class 'int'>\n",
    "\n",
    "# динамическая типизация позволяет менять тип переменной, по значению\n",
    "x_str = 0\n",
    "x_int = \"Уже не число\"\n",
    "print(type(x_str)) # <class 'int'>\n",
    "print(type(x_int)) # <class 'str'>\n",
    "\n",
    "# правила хорошего тона: инициализировать переменные перед обработкой (например, в цикле)\n",
    "x = 0\n",
    "str_x = ''\n",
    "for i in range(5):\n",
    "    x += i # операция инкремента!\n",
    "    str_x += str(i)\n",
    "print( str(x) + ' ' + str_x )"
   ]
  },
  {
   "cell_type": "markdown",
   "metadata": {},
   "source": [
    "#### Разбор входных данных\n",
    "\n",
    "Все входные данные - строки, последовательность байт. Некоторые байты (и комбинация байтов) могут быть преобразованы в видимые символы через таблицы ASCII и unicode."
   ]
  },
  {
   "cell_type": "code",
   "execution_count": null,
   "metadata": {},
   "outputs": [],
   "source": [
    "var_str = input(\"Введите строку: \")\n",
    "var_num = input(\"Введите число: \")\n",
    "print(\"Строка: '{}', тип {}; число: '{}', тип: {}\".format(var_str, type(var_str), var_num, type(var_num)))"
   ]
  },
  {
   "cell_type": "code",
   "execution_count": null,
   "metadata": {},
   "outputs": [],
   "source": [
    "# чтобы привести строку к числу, явно преобразуем тип\n",
    "var_int = int(var_num)\n",
    "var_num_code = ord(var_num) # функция ord позволяет получить код символа. int() по этому коду преобразует в число.\n",
    "print(\"Строку '{}', которая содержит символ с кодом {} преобразовали к типу: {}\".format(var_num, var_num_code, type(var_int)))"
   ]
  },
  {
   "cell_type": "markdown",
   "metadata": {},
   "source": [
    "### Операции сравнения, логические операторы\n",
    "\n",
    "Сравнение: \n",
    "- ```==``` - равенство\n",
    "- ```!=``` - неравенство\n",
    "- ```>```, ```<```  - больше, меньше\n",
    "- ```>=```, ```<=```  - больше или равно, меньше или равно\n",
    "\n",
    "Эти операции могут использоваться между переменными разных типов и могут быть определены для любого вашего класса.\n",
    "\n",
    "Логические операторы: ```and```, ```or```, ```not```. Также есть побитовые операторы: ```&```, ```|``` и ```^```. Приоритет выполнения этих операторов - сначала \"отрицание\", потом \"и\", потом \"или\"."
   ]
  },
  {
   "cell_type": "code",
   "execution_count": null,
   "metadata": {},
   "outputs": [],
   "source": [
    "# можно сравнивать переменные любого типа\n",
    "var_int = 5\n",
    "var_float = 5.0\n",
    "var_str = \"5\"\n",
    "\n",
    "print( var_int==var_float ) # True\n",
    "print( var_str==var_int ) # False\n",
    "print( var_str==str(var_int) ) # Но если привести тип \"вручную\", то True\n",
    "\n",
    "var_str_50 = \"50\"\n",
    "print( var_int > var_float ) # False\n",
    "print( var_str_50 > var_str ) # True, но они сравниваются посимвольно:\n",
    "var_str_6 = \"6\"\n",
    "print( var_str_50 > var_str_6 ) # False, ASCII-код символа \"6\" > \"5\"\n",
    "\n",
    "# логические операторы\n",
    "print( True or False ) # \"или\" - \"or\"\n",
    "print ( True | False ) # тоже \"или\", но побитовое\n",
    "print( True and False ) # \"и\" - \"and\"\n",
    "print ( True & False ) # тоже \"и\", но побитовое\n",
    "\n"
   ]
  },
  {
   "cell_type": "markdown",
   "metadata": {},
   "source": [
    "#### Математика и арифметика\n",
    "\n",
    "Все как в любых других языках программирования. Приоритет операций в сложных выражениях такой же, как и в реальной жизни: сначала возведение в степень, потом умножение/деление, потом сложение/вычитание. Для ряда операций можно использовать модуль math."
   ]
  },
  {
   "cell_type": "code",
   "execution_count": null,
   "metadata": {},
   "outputs": [],
   "source": [
    "print( 10 % 3 ) # остаток от деления\n",
    "print( 2 ** 10 ) # возведение в степень\n",
    "\n",
    "# чем можно поживиться в math\n",
    "import math\n",
    "\n",
    "print( math.pi ) # константы\n",
    "print( math.sqrt( 16 ) ) # квадратный корень, например\n",
    "print( math.sin(math.pi/2) ) # синусы, косинусы и прочее\n",
    "print( math.floor(10 / 3) ) # разделить нацело\n",
    "print( round(10 / 4) ) # а вот для округления math не нужен"
   ]
  },
  {
   "cell_type": "markdown",
   "metadata": {},
   "source": [
    "### Базовые управляющие конструкции\n",
    "\n",
    "#### Комментарии"
   ]
  },
  {
   "cell_type": "code",
   "execution_count": null,
   "metadata": {},
   "outputs": [],
   "source": [
    "# Это просто закомментированная строка\n",
    "\n",
    "'''А это длинный-предлинный \n",
    "эпический комментарий \n",
    "из нескольких строк\n",
    "(на самом деле нет)\n",
    "'''\n",
    "# на самом деле никакой это не комментарий, а просто \"брошенная\" строка, \"мусор\"\n",
    "# комментируйте построчно, пользуйтесь Ctrl+/"
   ]
  },
  {
   "cell_type": "markdown",
   "metadata": {},
   "source": [
    "#### Ветвления, if...elif...else\n",
    "\n",
    "Эта конструкция в Python почти ничем не отличается от аналогичных в других языках программирования. \n",
    "\n",
    "Но! В Python оператор switch...case...default появился только в версии 3.9, в конце 2020 года. Лучше пока все реализовать через if."
   ]
  },
  {
   "cell_type": "code",
   "execution_count": null,
   "metadata": {},
   "outputs": [],
   "source": [
    "season = input(\"Введите время года: \")\n",
    "if season=='лето':\n",
    "    print( 'Вот оно какое, наше лето!' )\n",
    "elif season=='осень':\n",
    "    print( 'Унылая пора, очей очарованье!' )\n",
    "elif season=='зима':\n",
    "    print( 'Зима, крестьянин торжествуя...' )\n",
    "elif season=='весна':\n",
    "    print( 'Весна, весна на улице, весенние деньки!' )\n",
    "else:\n",
    "    print( f'Введенное время года \"{season}\" нам неизвестно' )\n",
    "        "
   ]
  },
  {
   "cell_type": "markdown",
   "metadata": {},
   "source": [
    "#### If... одной строкой\n",
    "\n",
    "Иногда бывает необходимость вставить условие на этапе присвоения значения, не выводя код в отдельны блок, как это реализовано в языках C/C++, Java, C#, JavaScript, PHP: ```x = (conditionTrue ? value_when_True : value_when_False)```\n",
    "\n",
    "В Python эта конструкция выглядит так: ```x = value_when_True if conditionTrue else value_when_False```"
   ]
  },
  {
   "cell_type": "code",
   "execution_count": null,
   "metadata": {},
   "outputs": [],
   "source": [
    "# if... одной строкой, аналог \n",
    "z_order = 15\n",
    "xa = 1 if z_order==15 else 0\n",
    "print(xa)"
   ]
  },
  {
   "cell_type": "markdown",
   "metadata": {},
   "source": [
    "#### __ПРАКТИКА__\n",
    "\n",
    "1. Даны три целых числа A, B, C. Определить, есть ли среди них хотя бы одно четное и хотя бы одно нечетное.\\\n",
    "__Входные данные__\n",
    "Числа A, B, C, не превышающие по модулю 10000.\\\n",
    "__Выходные данные__\n",
    "Одна строка – \"YES\" или \"NO\"."
   ]
  },
  {
   "cell_type": "code",
   "execution_count": null,
   "metadata": {},
   "outputs": [],
   "source": [
    "A = \n",
    "B = \n",
    "C = \n",
    "\n",
    "# ваш код здесь\n"
   ]
  },
  {
   "cell_type": "markdown",
   "metadata": {},
   "source": [
    "2. В кафе мороженое продают по три шарика и по пять шариков. Можно ли купить ровно k шариков мороженого? \\\n",
    "__Входные данные__ \n",
    "Число k (целое,положительное)\\\n",
    "__Выходные данные__\n",
    "Программа должна вывести слово YES, если при таких условиях можно набрать ровно k шариков (не больше и не меньше), в противном случае - вывести NO.\n",
    "\n",
    "__Подсказка__: множество $\\{3x+5y ∣ x,y=0,1,2,…\\}$ является числовой полугруппой с порождающими 3 и 5. Дополнение к числовой полугруппе конечно. Максимальное число, не входящее в полугруппу, называется числом Фробениуса. Оно равно $(a−1)(b−1)−1$. В случае двух порождающих $a=3$ и $b=5$ (в данном случае $(3-1)(5-1)-1 = 7$)."
   ]
  },
  {
   "cell_type": "code",
   "execution_count": null,
   "metadata": {},
   "outputs": [],
   "source": [
    "k = \n",
    "\n",
    "# ваш код здесь\n"
   ]
  },
  {
   "cell_type": "markdown",
   "metadata": {},
   "source": [
    "#### Цикл while\n",
    "\n",
    "Выполнять, пока условие истинно.\n",
    "    "
   ]
  },
  {
   "cell_type": "code",
   "execution_count": null,
   "metadata": {},
   "outputs": [],
   "source": [
    "a = 4\n",
    "b = 0\n",
    "while b < a :\n",
    "    print(b)\n",
    "    b += 1\n",
    "else:\n",
    "    print(\"b is greater than a\")"
   ]
  },
  {
   "cell_type": "markdown",
   "metadata": {},
   "source": [
    "#### Цикл for\n",
    "\n",
    "Вернее, ```for ... in```. Выполняется для всех элементов в коллекции (итерируемом объекте), который передан в качестве параметра. Функция range() как раз возвращает такой объект."
   ]
  },
  {
   "cell_type": "code",
   "execution_count": null,
   "metadata": {},
   "outputs": [],
   "source": [
    "print(\"Счетчик в цикле for, когда range() возвращает 5 чисел от 0 до 4:\")\n",
    "for i in range(5): \n",
    "    print (i)\n",
    "\n",
    "print(\"Счетчик в цикле for, когда range(1,6) возвращает 5 чисел от 1 до 5:\")\n",
    "for i in range(1,6): \n",
    "    print (i)\n",
    "\n",
    "print(\"Счетчик в цикле for, когда range(1,7,2) возвращает числа от 1 до 5 с шагом 2:\")\n",
    "for i in range(1,7,2):\n",
    "    print (i)\n",
    "    "
   ]
  },
  {
   "cell_type": "markdown",
   "metadata": {},
   "source": [
    "#### Прерывание циклов\n",
    "\n",
    "Два вида прерываний:\n",
    "1. ```break``` - выход из цикла. Полезен, например, при поиске, когда искомая позиция найдена - зачем листать дальше?\n",
    "2. ```continue``` - возврат к началу. Применимо, если надо пропустить какие-то позиции при переборе значений."
   ]
  },
  {
   "cell_type": "code",
   "execution_count": null,
   "metadata": {},
   "outputs": [],
   "source": [
    "print(\"Счетчик в цикле for, когда range() возвращает 5 чисел от 0 до 4 (выход на позиции 3):\")\n",
    "for i in range(5): \n",
    "    if i==3:\n",
    "        break;\n",
    "    print (i)"
   ]
  },
  {
   "cell_type": "code",
   "execution_count": null,
   "metadata": {},
   "outputs": [],
   "source": [
    "print(\"Счетчик в цикле for, когда range() возвращает 5 чисел от 0 до 4 (пропуск позиции 3):\")\n",
    "for i in range(5): \n",
    "    if i==3:\n",
    "        print(f\"No {i}!\")\n",
    "        continue;\n",
    "    print (i)"
   ]
  },
  {
   "cell_type": "markdown",
   "metadata": {},
   "source": [
    "#### __ПРАКТИКА__\n",
    "\n",
    "1. Выведите все точные квадраты натуральных чисел, не превосходящие данного числа N. \\\n",
    "__Входные данные__\n",
    "Задано единственное целое число N \\\n",
    "__Выходные данные__ \n",
    "Необходимо вывести  все точные квадраты натуральных чисел, не превосходящие данного числа N."
   ]
  },
  {
   "cell_type": "code",
   "execution_count": null,
   "metadata": {},
   "outputs": [],
   "source": [
    "N = \n",
    "\n",
    "# ваш код здесь\n"
   ]
  },
  {
   "cell_type": "markdown",
   "metadata": {},
   "source": [
    "2. По данному числу n вычислите сумму $1+1/2^2+1/3^2+...+1/n^2$.\\\n",
    "__Входные данные__\n",
    "Вводится одно число n, не превосходящее 100000. \\\n",
    "__Выходные данные__\n",
    "Необходимо вывести  значение суммы."
   ]
  },
  {
   "cell_type": "code",
   "execution_count": null,
   "metadata": {},
   "outputs": [],
   "source": [
    "n = \n",
    "\n",
    "# ваш код здесь\n"
   ]
  },
  {
   "cell_type": "markdown",
   "metadata": {},
   "source": [
    "3. По данному натуральному числу N выведите такое наименьшее целое число $k$, что $2^k >= N$.\\\n",
    "Операцией возведения в степень пользоваться нельзя! \\\n",
    "__Входные данные__\n",
    "Вводится натуральное число N. \\\n",
    "__Выходные данные__\n",
    "Выведите ответ на задачу."
   ]
  },
  {
   "cell_type": "code",
   "execution_count": null,
   "metadata": {},
   "outputs": [],
   "source": [
    "N = \n",
    "\n",
    "# ваш код здесь\n"
   ]
  },
  {
   "cell_type": "markdown",
   "metadata": {},
   "source": [
    "### Структуры данных в Python\n",
    "\n",
    "#### Списки\n"
   ]
  },
  {
   "cell_type": "code",
   "execution_count": null,
   "metadata": {},
   "outputs": [],
   "source": [
    "# создать список\n",
    "list1 = ['a', 'b', 1, 0.5, {'James':'Brown', 'Luke':'Skywalker'}]\n",
    "#показать содержимое списка\n",
    "print(list1) # ['a', 'b', 1, 0.5, {'James': 'Brown', 'Luke': 'Skywalker'}]\n",
    "list2 = list(range(5)) # [0, 1, 2, 3, 4]\n",
    "squares = [x**2 for x in range(10)] # [0, 1, 4, 9, 16, 25, 36, 49, 64, 81]\n",
    "\n",
    "\n",
    "#добавить элемент\n",
    "list1.append('Something New') # ['a', 'b', 1, 0.5, {'Luke': 'Skywalker', 'James': 'Brown'}, 'Something New']\n",
    "#убрать последний элемент (и вернуть его)\n",
    "print(list2)\n",
    "print(list2.pop()) # [0, 1, 2, 3]\n",
    "print(list2)\n",
    "#сортировать (в порядке убывания)\n",
    "list2.sort(reverse = True)  # [3, 2, 1, 0]\n",
    "print(list2)"
   ]
  },
  {
   "cell_type": "code",
   "execution_count": 2,
   "metadata": {},
   "outputs": [
    {
     "name": "stdout",
     "output_type": "stream",
     "text": [
      "[0, 1, 2, 3, 4]\n",
      "2\n",
      "2\n",
      "[2, 3]\n",
      "[2, 3, 4]\n",
      "[0, 1]\n",
      "[0, 1, 2, 3, 4]\n",
      "[0, 2, 4]\n",
      "[4, 2, 0]\n",
      "[0, 1, 2]\n",
      "[0, 1, 8, 9, 4]\n"
     ]
    }
   ],
   "source": [
    "# обращение к элементам списка и срезы (slices)\n",
    "nums = list(range(5))     \n",
    "print(nums)               # выведет на экран \"[0, 1, 2, 3, 4]\"\n",
    "print(nums[2])            # выведет на экран 2-й элемент: \"2\"\n",
    "print(nums[-3])           # выведет на экран 3-й элемент с конца: \"2\"\n",
    "print(nums[2:4])          # выведет на экран срез со 2-го до 4-го: \"[2, 3]\"\n",
    "print(nums[2:])           # выведет на экран срез со 2-го и до конца: \"[2, 3, 4]\"\n",
    "print(nums[:2])           # выведет на экран срез с начала и до 2-го элемента \"[0, 1]\"\n",
    "print(nums[:])            # срез всего списка: \"[0, 1, 2, 3, 4]\"\n",
    "print(nums[::2])          # срез с шагом: каждый второй элемент: \"[0, 2, 4]\"\n",
    "print(nums[::-2])          # срез с отрицательным шагом: каждый второй элемент с конца: \"[4, 2, 0]\"\n",
    "print(nums[:-2])          # отрицательный срез, все элементы, кроме двух в конце: \"[0, 1, 2]\"\n",
    "nums[2:4] = [8, 9]        # заместит элементы со 2-го до 4-го списком [8, 9]\n",
    "print(nums)               # выведет на экран \"[0, 1, 8, 9, 4]\""
   ]
  },
  {
   "cell_type": "markdown",
   "metadata": {},
   "source": [
    "##### Практика\n",
    "\n",
    "Создайте список из квадратов натуральных чисел от 0 до 8 и выведите на экран:\n",
    "1. первый и последний элементы списка\n",
    "2. первые два элемента\n",
    "3. элементы с 3-го по 6-й\n",
    "4. последние три элемента, к которым прибавили 3"
   ]
  },
  {
   "cell_type": "code",
   "execution_count": null,
   "metadata": {},
   "outputs": [],
   "source": [
    "# ваш код здесь\n",
    "\n"
   ]
  },
  {
   "cell_type": "code",
   "execution_count": null,
   "metadata": {},
   "outputs": [],
   "source": [
    "# итерация по списку\n",
    "for num in nums: \n",
    "    print( num )\n",
    "    \n",
    "# чтобы получить индекс, обращаемся к функции enumerate()\n",
    "for i, num in enumerate(nums):\n",
    "    print( f\"{i}: {num}\" )\n",
    "\n",
    "# с помощью zip() можно склеить два списка\n",
    "questions = ['name', 'quest', 'favorite color']\n",
    "answers = ['lancelot', 'the holy grail', 'blue']\n",
    "for q, a in zip(questions, answers):\n",
    "    print('What is your {}?  It is {}.'.format(q, a))\n"
   ]
  },
  {
   "cell_type": "markdown",
   "metadata": {},
   "source": [
    "#### Массивы numpy\n",
    "\n",
    "С ними можно выполнять те же операции, что и со списками, но они предоставляют следующие преимущества:\n",
    "1. можно использовать \"векторизацию\" - умножать массивы на числа и на другие массивы\n",
    "2. можно использовать индексацию по списку и с помощью будеывх масок\n",
    "3. они дают серьезный выигрыш в производительности при больших объмах данных"
   ]
  },
  {
   "cell_type": "code",
   "execution_count": 17,
   "metadata": {},
   "outputs": [
    {
     "name": "stdout",
     "output_type": "stream",
     "text": [
      "[0 1 2 3 4 5 6 7 8 9]\n",
      "[ 0 10 20 30 40 50 60 70 80 90]\n",
      "[10 30 50]\n",
      "[False False False  True  True  True  True  True  True  True]\n"
     ]
    }
   ],
   "source": [
    "import numpy as np\n",
    "\n",
    "a = np.arange(10)\n",
    "print( a )\n",
    "b = a * 10\n",
    "print( b )\n",
    "print( b[ [1,3,5] ] )\n",
    "print( b > 20 )\n",
    "print( b[ b > 20 ])"
   ]
  },
  {
   "cell_type": "markdown",
   "metadata": {},
   "source": [
    "#### Кортежи (tuples)\n",
    "\n",
    "Кортеж - это не просто неизменяемый список, это нечто большее. Подробнее о кортежах и их использовании мы поговорим в следующем разделе. Кортеж поддерживает те же операции на чтение, что и список. \n"
   ]
  },
  {
   "cell_type": "code",
   "execution_count": null,
   "metadata": {},
   "outputs": [],
   "source": [
    "tuple_1 = 'Lennon', 'McCartney', 'Harrison', 'Starr' # можно задать явно\n",
    "print(tuple_1)\n",
    "tuple_2 = tuple([1,2,3]) # можно сконвертировать из списка функцией tuple()\n",
    "print(tuple_2)"
   ]
  },
  {
   "cell_type": "code",
   "execution_count": null,
   "metadata": {},
   "outputs": [],
   "source": [
    "tuple_1.append('Ono')"
   ]
  },
  {
   "cell_type": "code",
   "execution_count": null,
   "metadata": {},
   "outputs": [],
   "source": [
    "tuple_1[0] = 'Ono'"
   ]
  },
  {
   "cell_type": "code",
   "execution_count": null,
   "metadata": {},
   "outputs": [],
   "source": [
    "# С помощью кортежей удобно инициализировать переменные:\n",
    "a, b, c, d = tuple_1\n",
    "print(f\"The Beatles are: {a}, {b}, {c}, {d}\")\n",
    "\n",
    "# Удобно менять значения переменных:\n",
    "a = 1; b = 5\n",
    "(a, b) = (b, a)\n",
    "print(f\"a: {a}, b: {b}\")\n"
   ]
  },
  {
   "cell_type": "markdown",
   "metadata": {},
   "source": [
    "#### Множества\n",
    "\n",
    "Множества – это списки, в которых значения каждого члена – уникально."
   ]
  },
  {
   "cell_type": "code",
   "execution_count": 7,
   "metadata": {},
   "outputs": [
    {
     "data": {
      "text/plain": [
       "{'Harrison', 'Starr'}"
      ]
     },
     "execution_count": 7,
     "metadata": {},
     "output_type": "execute_result"
    }
   ],
   "source": [
    "list_beatles = ['Lennon', 'McCartney', 'Harrison', 'Starr', 'Lennon']\n",
    "list_wilburys = ['Harrison', 'Starr', 'Dylan', 'Lynn', 'Petty']\n",
    "set__ = set(list_beatles)\n",
    "set__\n",
    "\n",
    "common_members = set(list_beatles) & set(list_wilburys)\n",
    "common_members\n"
   ]
  },
  {
   "cell_type": "markdown",
   "metadata": {},
   "source": [
    "#### Словари\n",
    "\n",
    "Словарем называется совокупность пар «ключ–значение», причем каждое значение определяется своим ключом. В роли ключа теоретически может выступать любое неизменяемое значение, но как правило в роли ключа выступает либо целое число, либо строка."
   ]
  },
  {
   "cell_type": "code",
   "execution_count": null,
   "metadata": {},
   "outputs": [],
   "source": [
    "# создание словаря\n",
    "dict_1 = { 'James Brown': 'musician', 'Luke Skywalker': 'character', 'John Lennon': 'musician'} # явно\n",
    "dict_2 = dict([('sape', 4139), ('guido', 4127), ('jack', 4098)]) # из списка кортежей\n",
    "print(dict_2) # {'sape': 4139, 'guido': 4127, 'jack': 4098}\n",
    "dict_3 = {x: x**2 for x in (2, 4, 6)} # с помощью цикла\n",
    "\n",
    "# добавление в словарь\n",
    "dict_1['Colin Firth'] = 'actor'\n",
    "\n",
    "# итерация по словарю выполняется через метод items()\n",
    "for key, value in dict_1.items():\n",
    "    print(f\"{key} {value}\")\n",
    "    \n",
    "# список ключей - метод keys()\n",
    "print(dict_1.keys()) # вернет объект dict_keys(['James', 'Luke', 'Colin'])\n",
    "print(list(dict_1.keys())) # здесь вернет список\n",
    "\n",
    "# удалить элемент\n",
    "del dict_1['Luke']\n",
    "print(dict_1)\n",
    "\n",
    "# \"срезы\" в словарях делать нельзя\n",
    "print(dict_1[:-1]) # будет ошибка unhashable type: 'slice'\n",
    "\n",
    "# Но -1 может быть ключем в словаре!\n",
    "dict_1[-1] = \"Garbage\"\n",
    "print(dict_1[-1]) "
   ]
  },
  {
   "cell_type": "markdown",
   "metadata": {},
   "source": [
    "#### __ПРАКТИКА__\n",
    "\n"
   ]
  },
  {
   "cell_type": "markdown",
   "metadata": {},
   "source": [
    "1. Добавьте в словарь ```dict_1``` музыкантов Elvis Presley, актера Keanu Reeves и персонажа Garry Potter. Создайте словарь, который бы содержал списки музыкантов, персонажей и актеров из ```dict_1```."
   ]
  },
  {
   "cell_type": "code",
   "execution_count": null,
   "metadata": {},
   "outputs": [],
   "source": [
    "dict_1 = { 'James Brown': 'musician', 'Luke Skywalker': 'character', 'John Lennon': 'musician'}\n",
    "\n",
    "# ваш код здесь"
   ]
  },
  {
   "cell_type": "markdown",
   "metadata": {},
   "source": [
    "2. Постройте гистограмму по значениям из заданного списка длиной 10, наполненного значениями от 0 до 10. Для заполнения используйте символ \"O\""
   ]
  },
  {
   "cell_type": "code",
   "execution_count": null,
   "metadata": {},
   "outputs": [],
   "source": [
    "list = [0,1,1,2,7,4,3,2,1,0]\n",
    "\n",
    "# ваш код здесь"
   ]
  },
  {
   "cell_type": "code",
   "execution_count": null,
   "metadata": {},
   "outputs": [],
   "source": []
  }
 ],
 "metadata": {
  "kernelspec": {
   "display_name": "Python 3",
   "language": "python",
   "name": "python3"
  },
  "language_info": {
   "codemirror_mode": {
    "name": "ipython",
    "version": 3
   },
   "file_extension": ".py",
   "mimetype": "text/x-python",
   "name": "python",
   "nbconvert_exporter": "python",
   "pygments_lexer": "ipython3",
   "version": "3.7.9"
  }
 },
 "nbformat": 4,
 "nbformat_minor": 4
}
