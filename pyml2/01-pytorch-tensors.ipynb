{
 "cells": [
  {
   "cell_type": "markdown",
   "id": "1a2b0040",
   "metadata": {},
   "source": [
    "# Питон и машинное обучение: нейронные сети и компьютерное зрение\n",
    "\n",
    "## Модуль 1. Вводное занятие\n",
    "\n",
    "Знакомство с библиотекой PyTorch:\n",
    "\n",
    " - Установка и настройка PyTorch, основные модули\n",
    " - Понятие тензора, операции с тензорами в PyTorch\n",
    " - Перенос объектов между numpy и PyTorch\n",
    " - Представление визуальной информации для дальнейшей обработки в PyTorch: библиотеки PIL, OpenCV\n",
    " - Показ изображений и видео в jupyter notebook"
   ]
  },
  {
   "cell_type": "code",
   "execution_count": null,
   "id": "fc28e7ec",
   "metadata": {},
   "outputs": [],
   "source": [
    "import torch\n",
    "import numpy as np"
   ]
  },
  {
   "cell_type": "markdown",
   "id": "b8801ba8",
   "metadata": {},
   "source": [
    "### 1. Установка PyTorch\n",
    "\n",
    "‼️ Если вы проходите курс в __Google Golab__ - игнорируйте данный пункт.\n",
    "\n",
    "Если вы проходите курс локально, на виртуальном сервере в облаке или в любой другой среде, которую вы полностью контролируете - рекомендуется выполнять этот курс в отдельной среде python env/venv.\n",
    "\n",
    "Для пользователей Anaconda/Miniconda:"
   ]
  },
  {
   "cell_type": "code",
   "execution_count": null,
   "id": "266bfe51",
   "metadata": {},
   "outputs": [],
   "source": [
    "!conda install -y pytorch::pytorch torchvision -c pytorch"
   ]
  },
  {
   "cell_type": "markdown",
   "id": "0746efda",
   "metadata": {},
   "source": [
    "Для тех, у кого python установлен без среды \"conda\":"
   ]
  },
  {
   "cell_type": "code",
   "execution_count": null,
   "id": "1359ed44",
   "metadata": {},
   "outputs": [],
   "source": [
    "!pip3 install torch torchvision"
   ]
  },
  {
   "cell_type": "markdown",
   "id": "b6db8ddc",
   "metadata": {},
   "source": [
    "### 2. Тензоры в PyTorch\n",
    "\n",
    "Проще всего представить тензор как __многомерный массив__. \n",
    "Каждый тензор имеет ранг, соответствующий его размерному пространству. \n",
    "Простой скаляр (например, 1) может быть представлен в виде тензора ранга 0, \n",
    "вектор — ранга 1, матрица n × n — ранга 2 и т.д.\n",
    "\n"
   ]
  },
  {
   "cell_type": "code",
   "execution_count": null,
   "id": "ce7ad446",
   "metadata": {},
   "outputs": [],
   "source": [
    "t1 = torch.tensor([[1,2,3], [4,5,6], [7,8,9]]) # создаем тензор из списка списков\n",
    "print(t1)\n",
    "\n",
    "print()\n",
    "\n",
    "a1 = np.random.randint(0,10, (3,3)) # создаем тензор из массива numpy\n",
    "t2 = torch.tensor(a1)\n",
    "print(a1)\n",
    "print()\n",
    "print(t2)"
   ]
  },
  {
   "cell_type": "code",
   "execution_count": null,
   "id": "e3ceb7e0",
   "metadata": {},
   "outputs": [],
   "source": [
    "# можно создавать тензоры при помощи встроенных функций, как в numpy\n",
    "print(torch.zeros(3,3))\n",
    "print(torch.ones(2,2))\n",
    "print(torch.full((3,3), torch.pi))\n",
    "print(torch.rand(2,2))\n",
    "print(torch.randint(0,10, (2,2)))"
   ]
  },
  {
   "cell_type": "code",
   "execution_count": null,
   "id": "7204c4bd",
   "metadata": {},
   "outputs": [],
   "source": [
    "# доступ к элементам тензоров - все как мы привыкли\n",
    "t1 = torch.tensor([[1,2,3], [4,5,6], [7,8,9]])\n",
    "print(t1)\n",
    "print(t1[0,2])\n",
    "print(t1[1])\n",
    "print(t1[:,1])\n",
    "\n",
    "t1[2,2] = 100500\n",
    "print(t1)\n",
    "\n",
    "t1[:,2] = torch.tensor([42,42,42]) # срезы работают и на запись\n",
    "print(t1)"
   ]
  },
  {
   "cell_type": "code",
   "execution_count": null,
   "id": "1a64d469",
   "metadata": {},
   "outputs": [],
   "source": [
    "# работает broadcasting, как и в numpy\n",
    "t1 = torch.tensor([[1,2,3], [4,5,6], [7,8,9]])\n",
    "print(t1)\n",
    "\n",
    "t100 = t1 * 100\n",
    "print(t100)\n",
    "\n",
    "t101 = t1 + t100\n",
    "print(t101)\n",
    "\n",
    "t1000 = torch.tensor([1000, 2000, 3000])\n",
    "t1001 = t1 + t1000\n",
    "print(t1001)"
   ]
  },
  {
   "cell_type": "code",
   "execution_count": null,
   "id": "014854bd",
   "metadata": {},
   "outputs": [],
   "source": [
    "# работают булевы маски, как и в numpy\n",
    "t1 = torch.tensor([[1,2,3], [4,5,6], [7,8,9]])\n",
    "print( t1[ t1 > 5 ] )\n",
    "print( t1 > 5 )"
   ]
  },
  {
   "cell_type": "code",
   "execution_count": null,
   "id": "a9d5ea4d",
   "metadata": {},
   "outputs": [],
   "source": [
    "# как и в numpy, можно изменять размерность тензора\n",
    "t1 = torch.tensor([[1,2,3], [4,5,6], [7,8,9]])\n",
    "print(t1.flatten())\n",
    "print(t1.reshape((9,1)))\n",
    "\n",
    "print()\n",
    "\n",
    "# добавить размернось тензору\n",
    "t1_133 = t1.unsqueeze(0)\n",
    "print(t1_133)\n",
    "print(t1_133.shape)\n",
    "t1_33 = t1_133.squeeze(0)\n",
    "print(t1_33)\n",
    "print(t1_33.shape)\n",
    "\n",
    "print()\n",
    "\n",
    "# важно для обработки изображений - функция permute\n",
    "t_hwc = torch.rand(640, 480, 3) #высота-ширина-канал\n",
    "\n",
    "t_chw = t_hwc.permute(2,0,1) # меняем на канал-ширина-высота\n",
    "print(t_chw.shape)\n",
    "\n",
    "# можно создать представление исходного тензора в виде тензора нужной нам размерности\n",
    "print(t1.view(9))\n",
    "t1[1,1] = 100500\n",
    "print(t1.view(9))"
   ]
  },
  {
   "cell_type": "code",
   "execution_count": null,
   "id": "cfa58d9b",
   "metadata": {},
   "outputs": [],
   "source": [
    "# изменение типов данных в тензорах\n",
    "t1 = torch.tensor([[1,2,3], [4,5,6], [7,8,9]])\n",
    "print(t1.type())\n",
    "t1_float = t1.to( dtype=torch.float64 )\n",
    "print(t1_float.type())\n",
    "t1_float16 = t1.to( dtype=torch.float16 )\n",
    "print(t1_float16.type())"
   ]
  },
  {
   "cell_type": "code",
   "execution_count": null,
   "id": "b1d5f5aa",
   "metadata": {},
   "outputs": [],
   "source": [
    "# математические функции\n",
    "t_rand = torch.rand(3,3)\n",
    "print(t_rand)\n",
    "t_rand_log = t_rand.log2() # функция без подчеркивания (_) вернет новый тензор\n",
    "print(t_rand_log)\n",
    "t_rand.log2_() # функция с подчеркиванием в конце имени произведет вычисления \"inplace\"\n",
    "print(t_rand)"
   ]
  },
  {
   "cell_type": "code",
   "execution_count": null,
   "id": "e330dc39",
   "metadata": {},
   "outputs": [],
   "source": [
    "# операции из области линейной алгебры\n",
    "\n",
    "# скалярное произведение векторов\n",
    "v1 = torch.tensor([1,2,3])\n",
    "v2 = torch.tensor([3,2,1])\n",
    "print( torch.dot(v1, v2) ) \n",
    "\n",
    "# умножение матриц\n",
    "m1 = torch.tensor([[1,2,3], [4,5,6], [7,8,9]]).to(dtype=torch.float32)\n",
    "m2 = torch.eye(3) * 10\n",
    "print( torch.mm(m1, m2) )"
   ]
  },
  {
   "attachments": {
    "image.png": {
     "image/png": "[encoded data removed]"
    }
   },
   "cell_type": "markdown",
   "id": "c27f9f55",
   "metadata": {},
   "source": [
    "### 3. Аппаратное ускорение PyTorch\n",
    "\n",
    "Три варианта:\n",
    " - CPU: центральный процессор 👎\n",
    " - CUDA: графический ускоритель, поддерживающий Compute Unified Device Architecture компании NVIDIA 👍\n",
    " - MPS: аппаратный ML-ускоритель на системе Apple Silicon 🧘‍♀️ \n",
    " \n",
    " ‼️ Для тех, кто проходит курс на __Google Colab__: выберите Runtime Type, поддерживающий GPU. (потребуется перезапуск блокнота)\n",
    "\n",
    "\n",
    "![Colab Hardware Acceleration](attachment:image.png)\n"
   ]
  },
  {
   "cell_type": "code",
   "execution_count": null,
   "id": "070e3ace",
   "metadata": {},
   "outputs": [],
   "source": [
    "device = \"cuda\" if torch.cuda.is_available() else \\\n",
    "    \"mps\" if torch.backends.mps.is_built() else \"cpu\"\n",
    "device"
   ]
  },
  {
   "cell_type": "code",
   "execution_count": null,
   "id": "53d6571a",
   "metadata": {},
   "outputs": [],
   "source": [
    "# перенос тензора в память аппаратного ускорителя\n",
    "t1 = torch.tensor([[1,2,3], [4,5,6], [7,8,9]])\n",
    "print(t1.device)\n",
    "t1.to(device)\n",
    "print(t1.device)"
   ]
  },
  {
   "cell_type": "code",
   "execution_count": null,
   "id": "b0c3a479",
   "metadata": {},
   "outputs": [],
   "source": [
    "# замер времени выполнения на примере операции матричного умножения\n",
    "m_cpu = torch.rand((10000, 10000), device='cpu')\n",
    "m_accel = torch.rand((10000, 10000), device=device)\n",
    "\n",
    "%time torch.matmul(m_cpu, m_cpu)\n",
    "%time torch.matmul(m_accel, m_accel)\n",
    "\n",
    "print()"
   ]
  },
  {
   "cell_type": "markdown",
   "id": "e78ca6d9",
   "metadata": {},
   "source": [
    "### 4. Библиотеки для предобработки изображений: PIL, OpenCV, etc\n",
    "\n",
    "PIL - наиболее часто используемая библиотека для загрузки и предварительной обработки изображений. Рассмотрим, как преобразовывать изображения из файлов на диске в тензоры PyTorch."
   ]
  },
  {
   "cell_type": "code",
   "execution_count": null,
   "id": "c316e3ee",
   "metadata": {},
   "outputs": [],
   "source": [
    "from PIL import Image\n",
    "from torchvision import transforms\n",
    "\n",
    "lena = Image.open('lena.jpg')\n",
    "display(lena)\n",
    "\n",
    "print(\"Размеры изображения: {}x{}\".format( *lena.size ))"
   ]
  },
  {
   "cell_type": "code",
   "execution_count": null,
   "id": "058fe108",
   "metadata": {},
   "outputs": [],
   "source": [
    "# некоторые полезные функции PIL, например, изменение размеров изображения\n",
    "lena_big = lena.resize( (512, 512), Image.LANCZOS ) \n",
    "display(lena_big)\n",
    "\n",
    "print(\"Размеры изображения: {}x{}\".format( *lena_big.size ))"
   ]
  },
  {
   "cell_type": "code",
   "execution_count": null,
   "id": "0ce2e461",
   "metadata": {},
   "outputs": [],
   "source": [
    "# можно создавать тензоры из массивов numpy ...\n",
    "lena_np = np.array(lena)\n",
    "t_lena_np = torch.tensor(lena_np)\n",
    "print(t_lena_np.shape)\n",
    "print(t_lena_np.type())\n",
    "\n",
    "print()\n",
    "\n",
    "# ...но для дальнейшей работы их нужно нормировать и преобразовывать в chw-формат\n",
    "t_lena_np = t_lena_np.to(torch.float32) \n",
    "t_lena_np /= t_lena_np.max() - t_lena_np.min()\n",
    "t_lena_np = t_lena_np.permute(2,0,1)\n",
    "print(t_lena_np.shape)\n",
    "print(t_lena_np.type())\n",
    "print(t_lena_np)"
   ]
  },
  {
   "cell_type": "code",
   "execution_count": null,
   "id": "18a6d446",
   "metadata": {},
   "outputs": [],
   "source": [
    "# модуль transforms позволяет получать сразу нормированные тензоры в chw-формате\n",
    "t_lena = transforms.ToTensor()(lena)\n",
    "\n",
    "print(t_lena.shape)\n",
    "print(t_lena.type())\n",
    "print(t_lena)"
   ]
  },
  {
   "cell_type": "markdown",
   "id": "498456b1",
   "metadata": {},
   "source": [
    "#### Получение тензоров из объектов OpenCV\n",
    "\n",
    "OpenCV - популярная библиотека с богатейшим функционалом для решения задач компьютерного зрения. Иногда, работая с PyTorch, приходится иметь дело с объектами этой библиотеки. Но тут есть \"подводные камни\"."
   ]
  },
  {
   "cell_type": "code",
   "execution_count": null,
   "id": "c91d4814",
   "metadata": {},
   "outputs": [],
   "source": [
    "import matplotlib.pyplot as plt\n",
    "%matplotlib inline\n",
    "\n",
    "import cv2\n",
    "\n",
    "lena_cv2 = cv2.imread(\"lena.jpg\")\n",
    "\n",
    "plt.imshow(lena_cv2)\n"
   ]
  },
  {
   "cell_type": "code",
   "execution_count": null,
   "id": "d4ab6165",
   "metadata": {},
   "outputs": [],
   "source": [
    "lena_rgb = cv2.cvtColor(lena_cv2, cv2.COLOR_BGR2RGB)\n",
    "\n",
    "t_lena_cv2 = transforms.ToTensor()(lena_rgb)\n",
    "\n",
    "print(t_lena_cv2.shape)\n",
    "print(t_lena_cv2.type())\n",
    "print(t_lena_cv2)"
   ]
  },
  {
   "cell_type": "markdown",
   "id": "05b9af2c",
   "metadata": {},
   "source": [
    "#### Обратное преобразование - из тензора в PIL"
   ]
  },
  {
   "cell_type": "code",
   "execution_count": null,
   "id": "09db13df",
   "metadata": {},
   "outputs": [],
   "source": [
    "lena_np = transforms.ToPILImage()(t_lena_np)\n",
    "lena_pt = transforms.ToPILImage()(t_lena)\n",
    "lena_cv = transforms.ToPILImage()(t_lena_cv2)\n",
    "\n",
    "display(lena_np, lena_pt, lena_cv)"
   ]
  },
  {
   "cell_type": "markdown",
   "id": "bb55f11a",
   "metadata": {},
   "source": [
    "### Практика\n",
    "\n",
    "Для данного изображения (или любого другого) средствами PyTorch выполните его преобразование в монохромное изображение и выведите его на экран."
   ]
  },
  {
   "cell_type": "code",
   "execution_count": null,
   "id": "f6ad87e1",
   "metadata": {},
   "outputs": [],
   "source": [
    "# ваш код здесь\n"
   ]
  },
  {
   "cell_type": "markdown",
   "id": "960bf2bf",
   "metadata": {},
   "source": [
    "### 5. Визуализация тепловых карт\n",
    "\n",
    "Довольно часто возникает необходимость визуализировать результат работы нейросети поверх исходного изображения, например, в виде тепловой карты (heatmap), наложенной поверх исходного изображения."
   ]
  },
  {
   "cell_type": "code",
   "execution_count": null,
   "id": "e2248c25",
   "metadata": {},
   "outputs": [],
   "source": [
    "# в качестве примера возьмем a-канал из \"Лены\", преобразованной в LAB-формат\n",
    "lena_lab_a = cv2.cvtColor(lena_rgb, cv2.COLOR_RGB2LAB)[:,:,1]\n",
    "lena_lab_a = cv2.threshold(lena_lab_a,140,255,cv2.THRESH_BINARY)[1]\n",
    "lena_lab_a = cv2.GaussianBlur(lena_lab_a,(13,13), 11)\n",
    "plt.imshow(lena_lab_a, cmap='gray')"
   ]
  },
  {
   "cell_type": "code",
   "execution_count": null,
   "id": "1c4cac95",
   "metadata": {},
   "outputs": [],
   "source": [
    "# сделаем из унылого ч/б изображения что-то повеселее\n",
    "lena_heatmap = cv2.applyColorMap(lena_lab_a, cv2.COLORMAP_JET)\n",
    "plt.imshow(lena_heatmap)"
   ]
  },
  {
   "cell_type": "code",
   "execution_count": null,
   "id": "831b44ff",
   "metadata": {},
   "outputs": [],
   "source": [
    "plt.imsave('lena_heat_example.jpg', lena_heatmap)"
   ]
  },
  {
   "cell_type": "code",
   "execution_count": null,
   "id": "3588da42",
   "metadata": {},
   "outputs": [],
   "source": [
    "lena_w_heat = cv2.addWeighted(lena_heatmap, 0.5, lena_rgb, 0.5, 0)\n",
    "plt.imshow(lena_w_heat)"
   ]
  },
  {
   "cell_type": "markdown",
   "id": "877ed71f",
   "metadata": {},
   "source": [
    "### Практика\n",
    "\n",
    "Разместите поверх данного изображения красный квадрат размером 10x10 пикселей, по координатам его левого верхнего угла 15, 15."
   ]
  },
  {
   "cell_type": "code",
   "execution_count": null,
   "id": "c9f99973",
   "metadata": {},
   "outputs": [],
   "source": [
    "# ваш код здесь\n"
   ]
  },
  {
   "cell_type": "markdown",
   "id": "c8f1825d",
   "metadata": {},
   "source": [
    "### 6. Воспроизведение и обработка видео\n"
   ]
  },
  {
   "cell_type": "code",
   "execution_count": null,
   "id": "53a4a1fd",
   "metadata": {},
   "outputs": [],
   "source": [
    "from IPython.display import Video\n",
    "\n",
    "Video(\"LArrivee_dun_train.m4v\")"
   ]
  },
  {
   "cell_type": "code",
   "execution_count": null,
   "id": "84dec72a",
   "metadata": {},
   "outputs": [],
   "source": []
  }
 ],
 "metadata": {
  "kernelspec": {
   "display_name": "Python 3 (ipykernel)",
   "language": "python",
   "name": "python3"
  },
  "language_info": {
   "codemirror_mode": {
    "name": "ipython",
    "version": 3
   },
   "file_extension": ".py",
   "mimetype": "text/x-python",
   "name": "python",
   "nbconvert_exporter": "python",
   "pygments_lexer": "ipython3",
   "version": "3.9.16"
  }
 },
 "nbformat": 4,
 "nbformat_minor": 5
}
