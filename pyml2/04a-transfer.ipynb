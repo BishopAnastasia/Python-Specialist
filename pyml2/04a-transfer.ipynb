{
 "cells": [
  {
   "cell_type": "markdown",
   "id": "f59814a8",
   "metadata": {},
   "source": [
    "# Python и машинное обучение: нейронные сети и компьютерное зрение\n",
    "\n",
    "## Модуль 4a. Перенос обучения"
   ]
  },
  {
   "cell_type": "code",
   "execution_count": null,
   "id": "1c4c7bf0",
   "metadata": {},
   "outputs": [],
   "source": [
    "!pip install torchinfo torchmetrics"
   ]
  },
  {
   "cell_type": "code",
   "execution_count": null,
   "id": "7d975b9b",
   "metadata": {},
   "outputs": [],
   "source": [
    "import os, shutil\n",
    "\n",
    "import torch\n",
    "import torch.nn as nn\n",
    "from torch.utils.data import DataLoader, Dataset\n",
    "from torchvision import datasets,transforms\n",
    "from torch.nn.functional import normalize\n",
    "\n",
    "from torchinfo import summary\n",
    "from torchmetrics import Accuracy, AUROC\n",
    "\n",
    "from torch.utils.data.sampler import SubsetRandomSampler\n",
    "import torch.nn.functional as F\n",
    "\n",
    "from PIL import Image\n",
    "\n",
    "import numpy as np\n",
    "import matplotlib.pyplot as plt\n",
    "%matplotlib inline"
   ]
  },
  {
   "cell_type": "code",
   "execution_count": null,
   "id": "aa1d9a98",
   "metadata": {},
   "outputs": [],
   "source": [
    "device = \"cuda\" if torch.cuda.is_available() else \\\n",
    "    \"mps\" if torch.backends.mps.is_built() else \"cpu\"\n",
    "device"
   ]
  },
  {
   "cell_type": "markdown",
   "id": "bc524e8e",
   "metadata": {},
   "source": [
    "## Датасет\n",
    "\n",
    "Будет использоваться тот же набор данных cats vs. dogs: `https://www.kaggle.com/c/dogs-vs-cats/data`.\n"
   ]
  },
  {
   "cell_type": "code",
   "execution_count": null,
   "id": "868680a3",
   "metadata": {},
   "outputs": [],
   "source": [
    "from google.colab import drive\n",
    "drive.mount('/content/drive')"
   ]
  },
  {
   "cell_type": "code",
   "execution_count": null,
   "id": "da5df3f1",
   "metadata": {},
   "outputs": [],
   "source": [
    "!cp -r /content/drive/MyDrive/cats_and_dogs_small /content/data"
   ]
  },
  {
   "cell_type": "code",
   "execution_count": null,
   "id": "a2ccd4c4",
   "metadata": {},
   "outputs": [],
   "source": [
    "!ls -al /content/data"
   ]
  },
  {
   "cell_type": "code",
   "execution_count": null,
   "id": "61530044",
   "metadata": {},
   "outputs": [],
   "source": [
    "IMAGE_WIDTH, IMAGE_HEIGHT = IMAGE_SIZE = (150,150)\n",
    "NUM_WORKERS = os.cpu_count()\n",
    "print(f'Cores: {NUM_WORKERS}')\n",
    "BATCH_SIZE = 20\n",
    "\n",
    "\n",
    "base_dir = '/home/ise/Documents/datasets/cats_and_dogs_small'\n",
    "# base_dir = '/content/data'\n",
    "\n",
    "train_dir = os.path.join(base_dir, 'train')\n",
    "validation_dir = os.path.join(base_dir, 'validation')\n",
    "\n",
    "# аугментатор\n",
    "p = 0.5\n",
    "data_transforms_aug = transforms.Compose([\n",
    "    transforms.Resize(size=IMAGE_SIZE), # делаем все картинки квадратными\n",
    "    transforms.RandomRotation(40),\n",
    "    transforms.RandomAffine(degrees=0, translate=(0.2, 0.2)),\n",
    "    transforms.RandomPerspective(distortion_scale=0.2, p=p),\n",
    "    transforms.RandomResizedCrop(size=IMAGE_SIZE, scale=(0.8, 0.8)),\n",
    "    transforms.RandomHorizontalFlip(p=p),\n",
    "    transforms.ToTensor(), # преобразуем в тензор\n",
    "])\n",
    "\n",
    "data_transforms = transforms.Compose([ transforms.Resize(size=IMAGE_SIZE), transforms.ToTensor(), ])\n",
    "\n",
    "train_data = datasets.ImageFolder(root=train_dir,\n",
    "                                  transform=data_transforms_aug, \n",
    "                                  target_transform=None)\n",
    "val_data = datasets.ImageFolder(root=validation_dir, transform=data_transforms)\n",
    "\n",
    "train_gen = DataLoader(dataset=train_data,\n",
    "                              batch_size=BATCH_SIZE,\n",
    "                              num_workers=NUM_WORKERS,\n",
    "                              shuffle=True)\n",
    "\n",
    "val_gen = DataLoader(dataset=val_data, batch_size=BATCH_SIZE, num_workers=NUM_WORKERS, shuffle=True)\n",
    "\n",
    "images, labels = next(iter(train_gen))\n",
    "\n",
    "fig = plt.figure(figsize=(20, 4))\n",
    "for idx in np.arange(20):\n",
    "    ax = fig.add_subplot(2, 20//2, idx+1, xticks=[], yticks=[])\n",
    "    ax.imshow(np.transpose(images[idx], (1,2,0)))\n",
    "    ax.set_title(train_data.classes[labels[idx].item()])"
   ]
  },
  {
   "cell_type": "markdown",
   "id": "7f94c949",
   "metadata": {},
   "source": [
    "### Загрузка моделей\n",
    "\n",
    "Загружать уже обученные модели можно либо ```torchvision.models```, ```torch.hub```, а также просто загружать из файлов, скачанных из интернета."
   ]
  },
  {
   "cell_type": "code",
   "execution_count": null,
   "id": "b8a2a229",
   "metadata": {},
   "outputs": [],
   "source": [
    "import torchvision.models as models\n",
    "\n",
    "models.list_models(module=models)"
   ]
  },
  {
   "cell_type": "markdown",
   "id": "38a29f16",
   "metadata": {},
   "source": [
    "Загрузим несколько моделей:"
   ]
  },
  {
   "cell_type": "code",
   "execution_count": null,
   "id": "07d8adaf",
   "metadata": {
    "scrolled": false
   },
   "outputs": [],
   "source": [
    "model = models.alexnet(weights='DEFAULT')\n",
    "# model = models.vgg16(weights='DEFAULT')\n",
    "# model = models.googlenet(weights='DEFAULT')\n",
    "# model = models.resnet50(weights='DEFAULT')\n",
    "# model = models.resnet18(weights='DEFAULT')\n",
    "# model = models.mobilenet_v3_small(weights='DEFAULT')\n",
    "# print(model)\n",
    "summary(model,\n",
    "        input_size=(1, 3, 150, 150),\n",
    "        col_names=[\"input_size\", \"output_size\", \"num_params\"],\n",
    "        device=device\n",
    "       )"
   ]
  },
  {
   "cell_type": "markdown",
   "id": "0ff2a2b4",
   "metadata": {},
   "source": [
    "Подготовим изображение из валидационной выборки и запустим инференс."
   ]
  },
  {
   "cell_type": "code",
   "execution_count": null,
   "id": "933d27fc",
   "metadata": {},
   "outputs": [],
   "source": [
    "images, _ = next(iter(val_gen))\n",
    "\n",
    "image = images[12:13]\n",
    "\n",
    "display(transforms.ToPILImage()(image[0]))"
   ]
  },
  {
   "cell_type": "code",
   "execution_count": null,
   "id": "502950df",
   "metadata": {},
   "outputs": [],
   "source": [
    "model.eval()\n",
    "results = model(image.to(device))\n",
    "results"
   ]
  },
  {
   "cell_type": "code",
   "execution_count": null,
   "id": "fc5b4ded",
   "metadata": {},
   "outputs": [],
   "source": [
    "percentage = torch.nn.functional.softmax(results, dim=1)[0] * 100\n",
    "top = torch.sort(percentage, descending=True)\n",
    "list(zip(*top))[:5]"
   ]
  },
  {
   "cell_type": "code",
   "execution_count": null,
   "id": "cf37e0bb",
   "metadata": {},
   "outputs": [],
   "source": [
    "import requests\n",
    "\n",
    "imagenet_classes = requests.get('https://files.fast.ai/models/imagenet_class_index.json').json()\n",
    "imagenet_classes"
   ]
  },
  {
   "cell_type": "code",
   "execution_count": null,
   "id": "8b3c3d23",
   "metadata": {},
   "outputs": [],
   "source": [
    "predictions = [f\"{imagenet_classes[str(ix.cpu().item())][1]} - {pct:.2f}%\" \\\n",
    "               for pct, ix in zip(*top) ][:5]\n",
    "display(transforms.ToPILImage()(image[0]))\n",
    "predictions"
   ]
  },
  {
   "cell_type": "markdown",
   "id": "1e89f188",
   "metadata": {},
   "source": [
    "### Перенос обучения (transfer learning)\n",
    "\n",
    "Продемонстрируем перенос обучения на примере сети resnet50. "
   ]
  },
  {
   "cell_type": "code",
   "execution_count": null,
   "id": "a14cffd9",
   "metadata": {},
   "outputs": [],
   "source": [
    "transfer_model = models.resnet50(weights='DEFAULT')\n",
    "print(transfer_model)"
   ]
  },
  {
   "cell_type": "code",
   "execution_count": null,
   "id": "81661539",
   "metadata": {},
   "outputs": [],
   "source": [
    "# морозим веса во всей модели, кроме слоев BatchNorm\n",
    "for name, param in transfer_model.named_parameters():\n",
    "    if(\"bn\" not in name):\n",
    "        param.requires_grad = False"
   ]
  },
  {
   "cell_type": "code",
   "execution_count": null,
   "id": "abb8d5b7",
   "metadata": {},
   "outputs": [],
   "source": [
    "# подменяем классификатор\n",
    "transfer_model.fc = nn.Sequential(nn.Linear(transfer_model.fc.in_features,500),\n",
    "nn.ReLU(),                                 \n",
    "nn.Dropout(), nn.Linear(500,2)) "
   ]
  },
  {
   "cell_type": "code",
   "execution_count": null,
   "id": "624f650d",
   "metadata": {},
   "outputs": [],
   "source": [
    "# возьмем нашу функцию для обучения бинарного классификатора\n",
    "def train_batches(model,\n",
    "                  train_generator,\n",
    "                  valid_generator,\n",
    "                  batch_size=20, epochs=40, report_positions=20, **kwargs):\n",
    "\n",
    "    results = {'epoch_count': [], 'train_loss': [], 'train_acc': [], 'val_loss': [], 'val_acc': []}\n",
    "\n",
    "    # прогоняем данные по нейросети\n",
    "    for epoch in range(epochs):\n",
    "        model.train()\n",
    "\n",
    "        train_loss = valid_loss = 0.0;\n",
    "        train_correct = valid_correct = 0.0\n",
    "\n",
    "        for X_batch, y_batch in train_generator:\n",
    "\n",
    "            X_batch = X_batch.to(device); y_batch = y_batch.to(device)\n",
    "\n",
    "            y_preds = model(X_batch)\n",
    "            loss = criterion(y_preds, y_batch)\n",
    "\n",
    "            optimizer.zero_grad()\n",
    "            loss.backward()\n",
    "            optimizer.step()\n",
    "\n",
    "            train_loss += loss.data.item()\n",
    "            train_correct += (y_preds.argmax(dim=1) == y_batch).float().sum()\n",
    "\n",
    "        train_loss /= len(train_generator.dataset)\n",
    "        train_acc = 100 * train_correct / len(train_generator.dataset)\n",
    "\n",
    "        # Валидацию тоже делаем по батчам\n",
    "        model.eval()\n",
    "\n",
    "        for valid_batches, (X_val_batch, y_val_batch) in enumerate(valid_generator):\n",
    "            X_val_batch = X_val_batch.to(device); y_val_batch = y_val_batch.to(device)\n",
    "            y_batch_preds = model(X_val_batch)\n",
    "            loss = criterion(y_batch_preds, y_val_batch)\n",
    "\n",
    "            valid_loss += loss.data.item()\n",
    "            valid_correct += (y_batch_preds.argmax(dim=1) == y_val_batch).float().sum()\n",
    "\n",
    "        valid_loss /= len(valid_generator.dataset)\n",
    "        valid_acc = 100 * valid_correct / len(valid_generator.dataset)\n",
    "\n",
    "        results['epoch_count'] += [epoch]\n",
    "        results['train_loss'] += [ train_loss ]\n",
    "        results['train_acc'] += [ float(train_acc) ]\n",
    "        results['val_loss'] += [ valid_loss ]\n",
    "        results['val_acc'] += [ float(valid_acc) ]\n",
    "\n",
    "        if (True if epochs<50 else epoch % (epochs // report_positions) == 0 ):\n",
    "            print(f\"Epoch: {epoch+1:4.0f} | Train Loss: {train_loss:.5f}, \"+\\\n",
    "                  f\"Accuracy: {train_acc:.2f}% | \\\n",
    "            Validation Loss: {valid_loss:.5f}, Accuracy: {valid_acc:.2f}%\")\n",
    "\n",
    "    return results\n",
    "\n",
    "# рисовалка графиков\n",
    "def plot_results(results):\n",
    "\n",
    "    fig, axs = plt.subplots(1,2)\n",
    "\n",
    "    fig.set_size_inches(10,3)\n",
    "\n",
    "    for i, loss_acc in enumerate(['loss', 'acc']):\n",
    "        for train_val in ['train', 'val']:\n",
    "            axs[i].plot(results['epoch_count'], results[f'{train_val}_{loss_acc}'], label=f'{loss_acc} {train_val}')\n",
    "\n",
    "        axs[i].legend()\n",
    "\n",
    "    plt.show()"
   ]
  },
  {
   "cell_type": "code",
   "execution_count": null,
   "id": "d857a432",
   "metadata": {},
   "outputs": [],
   "source": [
    "transfer_model = transfer_model.to(device)\n",
    "optimizer = torch.optim.Adam(transfer_model.parameters(), lr=0.001)\n",
    "criterion = torch.nn.CrossEntropyLoss()\n",
    "\n",
    "results = train_batches(transfer_model,\n",
    "                        train_gen,\n",
    "                        val_gen, epochs=5, )\n",
    "\n",
    "plot_results(results)"
   ]
  },
  {
   "cell_type": "code",
   "execution_count": null,
   "id": "d88046d7",
   "metadata": {},
   "outputs": [],
   "source": [
    "images, labels = next(iter(val_gen))\n",
    "\n",
    "transfer_model.eval()\n",
    "\n",
    "preds = transfer_model(images.to(device))\n",
    "pred_labels = preds.argmax(dim=1)\n",
    "\n",
    "fig = plt.figure(figsize=(20, 4))\n",
    "for idx in np.arange(20):\n",
    "    ax = fig.add_subplot(2, 20//2, idx+1, xticks=[], yticks=[])\n",
    "    ax.imshow(np.transpose(images[idx].cpu().numpy(), (1,2,0)))\n",
    "    ax.set_title(train_data.classes[labels[idx].item()]+' '+train_data.classes[pred_labels[idx].item()])"
   ]
  },
  {
   "cell_type": "code",
   "execution_count": null,
   "id": "0504dbf7",
   "metadata": {},
   "outputs": [],
   "source": [
    "summary(transfer_model,\n",
    "        input_size=(1, 3, 150, 150),\n",
    "        col_names=[\"input_size\", \"output_size\", \"num_params\"],\n",
    "        device=device\n",
    "       )"
   ]
  },
  {
   "cell_type": "markdown",
   "id": "6c324790",
   "metadata": {},
   "source": [
    "#### Практика\n",
    "\n",
    "Дообучите другие модели: AlexNet, MobileNetV3, VGG..."
   ]
  },
  {
   "cell_type": "code",
   "execution_count": null,
   "id": "ef8fc831",
   "metadata": {},
   "outputs": [],
   "source": [
    "# ваш код здесь\n"
   ]
  },
  {
   "cell_type": "markdown",
   "id": "c0b97365",
   "metadata": {},
   "source": [
    "Как \"разморозить\" нужные слои?"
   ]
  },
  {
   "cell_type": "code",
   "execution_count": null,
   "id": "e84c87ff",
   "metadata": {},
   "outputs": [],
   "source": [
    "# снова возьмем resnet50\n",
    "transfer_model = models.resnet50(weights='DEFAULT')\n",
    "\n",
    "# морозим слои\n",
    "for name, param in transfer_model.named_parameters():\n",
    "    if(\"bn\" not in name):\n",
    "        param.requires_grad = False\n",
    "\n",
    "# подменяем классификатор\n",
    "transfer_model.fc = nn.Sequential(nn.Linear(transfer_model.fc.in_features,500),\n",
    "nn.ReLU(),                                 \n",
    "nn.Dropout(), nn.Linear(500,2))\n",
    "        \n",
    "print(transfer_model)"
   ]
  },
  {
   "cell_type": "code",
   "execution_count": null,
   "id": "51ec952a",
   "metadata": {},
   "outputs": [],
   "source": [
    "unfreeze_layers = [transfer_model.layer3, transfer_model.layer4] \n",
    "\n",
    "for layer in unfreeze_layers:\n",
    "    for param in layer.parameters():\n",
    "        param.requires_grad = True"
   ]
  },
  {
   "cell_type": "code",
   "execution_count": null,
   "id": "64c6ca2c",
   "metadata": {},
   "outputs": [],
   "source": [
    "summary(transfer_model,\n",
    "        input_size=(1, 3, 150, 150),\n",
    "        col_names=[\"input_size\", \"output_size\", \"num_params\"],\n",
    "        device=device\n",
    "       )"
   ]
  },
  {
   "cell_type": "markdown",
   "id": "a05700bc",
   "metadata": {},
   "source": [
    "Еще можно задать различным слоям разную скорость обучения:"
   ]
  },
  {
   "cell_type": "code",
   "execution_count": null,
   "id": "84ccf8a5",
   "metadata": {},
   "outputs": [],
   "source": [
    "lr = 0.001\n",
    "optimizer = torch.optim.Adam([\n",
    "    { 'params': transfer_model.layer4.parameters(), 'lr': lr /3},\n",
    "    { 'params': transfer_model.layer3.parameters(), 'lr': lr /9}, \n",
    "    ], lr=lr)"
   ]
  },
  {
   "cell_type": "code",
   "execution_count": null,
   "id": "43e0a302",
   "metadata": {},
   "outputs": [],
   "source": [
    "transfer_model = transfer_model.to(device)\n",
    "criterion = torch.nn.CrossEntropyLoss()\n",
    "\n",
    "results = train_batches(transfer_model,\n",
    "                        train_gen,\n",
    "                        val_gen, epochs=10, )\n",
    "\n",
    "plot_results(results)"
   ]
  },
  {
   "cell_type": "code",
   "execution_count": null,
   "id": "e54bbe26",
   "metadata": {},
   "outputs": [],
   "source": []
  }
 ],
 "metadata": {
  "kernelspec": {
   "display_name": "Python 3 (ipykernel)",
   "language": "python",
   "name": "python3"
  },
  "language_info": {
   "codemirror_mode": {
    "name": "ipython",
    "version": 3
   },
   "file_extension": ".py",
   "mimetype": "text/x-python",
   "name": "python",
   "nbconvert_exporter": "python",
   "pygments_lexer": "ipython3",
   "version": "3.9.18"
  }
 },
 "nbformat": 4,
 "nbformat_minor": 5
}
