{
 "cells": [
  {
   "cell_type": "markdown",
   "id": "ae7c851b",
   "metadata": {},
   "source": [
    "# Python и машинное обучение: нейронные сети и компьютерное зрение\n",
    "\n",
    "## Модуль 5. Распознавание объектов на изображениях\n",
    "\n"
   ]
  },
  {
   "cell_type": "markdown",
   "id": "7a1bea4b",
   "metadata": {},
   "source": [
    "### YOLOv5\n",
    "\n",
    "По состоянию на декабрь 2023 года - \"базовая\" и самая простая модель для поиска объектов на фотографиях. Загружаем на ```torch.hub```.\n"
   ]
  },
  {
   "cell_type": "code",
   "execution_count": null,
   "id": "4263bc52",
   "metadata": {},
   "outputs": [],
   "source": [
    "!pip install -U ultralytics"
   ]
  },
  {
   "cell_type": "code",
   "execution_count": null,
   "id": "1f4e7cd0",
   "metadata": {},
   "outputs": [],
   "source": [
    "import torch\n",
    "import cv2\n",
    "from PIL import Image\n",
    "\n",
    "from torchinfo import summary\n",
    "\n",
    "import matplotlib.pyplot as plt\n",
    "\n",
    "device = \"cuda\" if torch.cuda.is_available() else \\\n",
    "    \"mps\" if torch.backends.mps.is_built() else \"cpu\"\n",
    "device\n",
    "\n",
    "%matplotlib inline"
   ]
  },
  {
   "cell_type": "code",
   "execution_count": null,
   "id": "a05c9ae0",
   "metadata": {
    "scrolled": true
   },
   "outputs": [],
   "source": [
    "model = torch.hub.load('ultralytics/yolov5', 'yolov5n', pretrained=True)\n",
    "\n",
    "print(model)"
   ]
  },
  {
   "cell_type": "code",
   "execution_count": null,
   "id": "eeaae4b3",
   "metadata": {},
   "outputs": [],
   "source": [
    "!wget https://ultralytics.com/images/zidane.jpg -q"
   ]
  },
  {
   "cell_type": "code",
   "execution_count": null,
   "id": "26a4a503",
   "metadata": {},
   "outputs": [],
   "source": [
    "img = cv2.imread('zidane.jpg')\n",
    "img = cv2.cvtColor(img, cv2.COLOR_BGR2RGB)\n",
    "display(Image.fromarray(img))"
   ]
  },
  {
   "cell_type": "code",
   "execution_count": null,
   "id": "f5b48779",
   "metadata": {},
   "outputs": [],
   "source": [
    "results = model('zidane.jpg')\n",
    "\n",
    "df = results.pandas().xyxy[0]\n",
    "df"
   ]
  },
  {
   "cell_type": "code",
   "execution_count": null,
   "id": "523d94ef",
   "metadata": {},
   "outputs": [],
   "source": [
    "results.print()\n",
    "results.xyxy[0]  # img1 predictions (tensor)"
   ]
  },
  {
   "cell_type": "code",
   "execution_count": null,
   "id": "db5b1ff9",
   "metadata": {},
   "outputs": [],
   "source": [
    "# tl = round(0.002 * (img.shape[0] + img.shape[1]) / 2) + 1\n",
    "tl=2\n",
    "tf = max(tl - 1, 1)\n",
    "\n",
    "\n",
    "for i, row in df.iterrows():\n",
    "    xA, yA, xB, yB = map(int, row[:4])\n",
    "    cv2.rectangle(img, (xA, yA), (xB, yB), (0, 255, 0), tl)\n",
    "    cv2.putText(img, row['name'], (xA, yA - 2), 0, tl / 3, [0, 255, 0], thickness=tf, lineType=cv2.LINE_AA) \n",
    "    \n",
    "display(Image.fromarray(img))"
   ]
  },
  {
   "cell_type": "markdown",
   "id": "60a2abd4",
   "metadata": {},
   "source": [
    "## Дообучение модели YOLO\n",
    "\n",
    "https://colab.research.google.com/drive/1Plz91PHWwf04bYt21mnWp7qBcDIvJ6J6\n",
    "\n",
    "https://medium.com/mlearning-ai/training-yolov5-custom-dataset-with-ease-e4f6272148ad\n"
   ]
  },
  {
   "cell_type": "markdown",
   "id": "0b1faeca",
   "metadata": {},
   "source": [
    "### Detectron2"
   ]
  },
  {
   "cell_type": "code",
   "execution_count": null,
   "id": "7330445d",
   "metadata": {},
   "outputs": [],
   "source": [
    "!python -m pip install 'git+https://github.com/facebookresearch/detectron2.git'"
   ]
  },
  {
   "cell_type": "code",
   "execution_count": null,
   "id": "58820ded",
   "metadata": {},
   "outputs": [],
   "source": [
    "import detectron2\n",
    "from detectron2.utils.logger import setup_logger\n",
    "setup_logger()\n",
    "\n",
    "# import some common libraries\n",
    "import numpy as np\n",
    "import os, json, cv2, random\n",
    "\n",
    "# import some common detectron2 utilities\n",
    "from detectron2 import model_zoo\n",
    "from detectron2.engine import DefaultPredictor\n",
    "from detectron2.config import get_cfg\n",
    "from detectron2.utils.visualizer import Visualizer\n",
    "from detectron2.data import MetadataCatalog, DatasetCatalog\n",
    "\n",
    "from matplotlib import pyplot as plt\n",
    "\n",
    "plt.rcParams['figure.figsize'] = (8.0, 8.0)\n",
    "\n",
    "%matplotlib inline"
   ]
  },
  {
   "cell_type": "code",
   "execution_count": null,
   "id": "48781321",
   "metadata": {},
   "outputs": [],
   "source": [
    "!wget http://images.cocodataset.org/val2017/000000439715.jpg -q -O input.jpg\n",
    "im = cv2.imread(\"./input.jpg\")\n",
    "im = cv2.cvtColor(im, cv2.COLOR_BGR2RGB)\n",
    "plt.imshow(im)\n",
    "plt.show()"
   ]
  },
  {
   "cell_type": "code",
   "execution_count": null,
   "id": "be260140",
   "metadata": {},
   "outputs": [],
   "source": [
    "cfg = get_cfg()\n",
    "# add project-specific config (e.g., TensorMask) here if you're not running a model in detectron2's core library\n",
    "cfg.merge_from_file(model_zoo.get_config_file(\"COCO-InstanceSegmentation/mask_rcnn_R_50_FPN_3x.yaml\"))\n",
    "cfg.MODEL.ROI_HEADS.SCORE_THRESH_TEST = 0.5  # set threshold for this model\n",
    "# Find a model from detectron2's model zoo. You can use the https://dl.fbaipublicfiles... url as well\n",
    "cfg.MODEL.WEIGHTS = model_zoo.get_checkpoint_url(\"COCO-InstanceSegmentation/mask_rcnn_R_50_FPN_3x.yaml\")\n",
    "predictor = DefaultPredictor(cfg)\n",
    "outputs = predictor(im)"
   ]
  },
  {
   "cell_type": "code",
   "execution_count": null,
   "id": "8251cade",
   "metadata": {},
   "outputs": [],
   "source": [
    "mask = outputs['instances'].pred_masks.cpu().numpy().astype('uint8')[0]\n",
    "contour, _ = cv2.findContours(mask, cv2.RETR_LIST, cv2.CHAIN_APPROX_NONE)\n",
    "\n",
    "image_with_overlaid_predictions = im.copy()\n",
    "cv2.drawContours(image_with_overlaid_predictions, [contour[0]], -1, (0,255,0), 1)\n",
    "\n",
    "plt.figure(figsize=(14,14))\n",
    "plt.imshow(image_with_overlaid_predictions)\n",
    "plt.show()"
   ]
  }
 ],
 "metadata": {
  "kernelspec": {
   "display_name": "Python 3 (ipykernel)",
   "language": "python",
   "name": "python3"
  },
  "language_info": {
   "codemirror_mode": {
    "name": "ipython",
    "version": 3
   },
   "file_extension": ".py",
   "mimetype": "text/x-python",
   "name": "python",
   "nbconvert_exporter": "python",
   "pygments_lexer": "ipython3",
   "version": "3.9.18"
  }
 },
 "nbformat": 4,
 "nbformat_minor": 5
}
